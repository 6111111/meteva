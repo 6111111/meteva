{
 "cells": [
  {
   "cell_type": "code",
   "execution_count": 1,
   "metadata": {},
   "outputs": [],
   "source": [
    "%matplotlib inline\n",
    "%load_ext autoreload\n",
    "%autoreload 2\n",
    "import meteva.base as meb\n",
    "import meteva.method as mem\n",
    "import meteva.product as mpd\n",
    "import numpy as np\n",
    "import datetime\n",
    "import copy\n",
    "import matplotlib.pyplot as plt\n",
    "import time\n",
    "import pandas as pd\n",
    "import matplotlib as mpl\n",
    "import os"
   ]
  },
  {
   "cell_type": "markdown",
   "metadata": {},
   "source": [
    "任务设定：读取最新的温度预报，按时效绘制TS变化"
   ]
  },
  {
   "cell_type": "code",
   "execution_count": 2,
   "metadata": {},
   "outputs": [],
   "source": [
    "ip,port = meb.read_gds_ip_port(r\"H:\\test_data\\input\\meb\\ip_port.txt\")\n",
    "now = datetime.datetime.now()\n",
    "now = datetime.datetime(now.year,now.month,now.day,now.hour,0)\n",
    "today = datetime.datetime(now.year,now.month,now.day,8,0)"
   ]
  },
  {
   "cell_type": "code",
   "execution_count": 3,
   "metadata": {},
   "outputs": [],
   "source": [
    "station_alt = meb.read_station(meb.station_国家站)\n",
    "station = station_alt.copy()\n",
    "station[\"data0\"] = 999999"
   ]
  },
  {
   "cell_type": "code",
   "execution_count": 4,
   "metadata": {},
   "outputs": [],
   "source": [
    "dir_gds = r\"GRAPES_GFS\\TMP\\2M_ABOVE_GROUND\"\n",
    "path_gds = r\"GRAPES_GFS\\TMP\\2M_ABOVE_GROUND\\YYMMDDHH.TTT\"\n",
    "gds_file_list = meb.tool.path_tools.get_gds_file_list_in_one_dir(ip,port,dir_gds)\n",
    "dir_ob = r\"O:\\data\\sta\\SURFACE\\QC_BY_FSOL\\TMP_ALL_STATION\\YYYYMMDD\\YYYYMMDDHH0000.000\"\n",
    "hour_list = [8,12]\n",
    "max_dd = 5\n",
    "me = []\n",
    "for dh in range(3,73,3):\n",
    "    ob_list = []\n",
    "    fo_list = []\n",
    "    for dd in range(max_dd):\n",
    "        ob_day = today - datetime.timedelta(days = dd)\n",
    "        for hour in hour_list:\n",
    "            fo_time =  datetime.datetime(ob_day.year,ob_day.month,ob_day.day,hour,0)\n",
    "            ob_time = fo_time + datetime.timedelta(hours = dh)\n",
    "            path_ob = meb.tool.path_tools.get_path(dir_ob,ob_time,0)       \n",
    "            path_fo = meb.tool.path_tools.get_path(path_gds,fo_time,dh)\n",
    "            dir1,filename = os.path.split(path_fo)\n",
    "            if filename in gds_file_list: \n",
    "                if os.path.exists(path_ob):\n",
    "                    #判断观测和预报文件存在                \n",
    "                    grd = meb.read_griddata_from_gds(ip,port,path_fo)\n",
    "                    if grd is not None:\n",
    "                        sta_fo = meb.interp_gs_linear(grd,station)\n",
    "                        #考虑到由于网格未覆盖所有station等原因，sta_fo可能和station长度不一致\n",
    "                        #将预报sta_fo作为sta_ob的站点表,保证sta_ob和sta_fo站表完全一致\n",
    "                        sta_ob = meb.read_stadata_from_gdsfile(path_ob,station = sta_fo)\n",
    "                        value_ob0 = sta_ob.iloc[:,-1].values\n",
    "                        value_fo0 = sta_fo.iloc[:,-1].values\n",
    "                        value_ob = value_ob0[value_ob0 < 100]\n",
    "                        value_fo = value_fo0[value_ob0 < 100]\n",
    "                        ob_list.extend(value_ob.tolist())\n",
    "                        fo_list.extend(value_fo.tolist())\n",
    "    obs = np.array(ob_list)\n",
    "    fos = np.array(fo_list)\n",
    "    me1 = mem.me(obs,fos)\n",
    "    me.append(me1)    "
   ]
  },
  {
   "cell_type": "code",
   "execution_count": 5,
   "metadata": {},
   "outputs": [
    {
     "data": {
      "text/plain": [
       "Text(0.5, 1.0, 'GRAPES温度预报误差')"
      ]
     },
     "execution_count": 5,
     "metadata": {},
     "output_type": "execute_result"
    },
    {
     "data": {
      "image/png": "[encoded data removed]",
      "text/plain": [
       "<Figure size 432x288 with 1 Axes>"
      ]
     },
     "metadata": {
      "needs_background": "light"
     },
     "output_type": "display_data"
    }
   ],
   "source": [
    "plt.plot(me)\n",
    "plt.xlabel(\"时效\")\n",
    "x = np.arange(24)\n",
    "xt = np.arange(3,73,3)\n",
    "plt.xticks(x,xt)\n",
    "plt.ylabel(\"ME\")\n",
    "plt.title(\"GRAPES温度预报误差\")"
   ]
  },
  {
   "cell_type": "code",
   "execution_count": null,
   "metadata": {},
   "outputs": [],
   "source": []
  }
 ],
 "metadata": {
  "kernelspec": {
   "display_name": "Python 3",
   "language": "python",
   "name": "python3"
  },
  "language_info": {
   "codemirror_mode": {
    "name": "ipython",
    "version": 3
   },
   "file_extension": ".py",
   "mimetype": "text/x-python",
   "name": "python",
   "nbconvert_exporter": "python",
   "pygments_lexer": "ipython3",
   "version": "3.7.1"
  }
 },
 "nbformat": 4,
 "nbformat_minor": 2
}
