{
 "cells": [
  {
   "cell_type": "code",
   "execution_count": 1,
   "metadata": {},
   "outputs": [],
   "source": [
    "%matplotlib inline\n",
    "%load_ext autoreload\n",
    "%autoreload 2\n",
    "import meteva.base as meb\n",
    "import numpy as np\n",
    "import pandas as pd\n",
    "import datetime"
   ]
  },
  {
   "cell_type": "code",
   "execution_count": 2,
   "metadata": {},
   "outputs": [
    {
     "name": "stdout",
     "output_type": "stream",
     "text": [
      "   level                time  dtime     id  lon  lat    ec  grapes  ncep\n",
      "0      0 2019-01-02 08:00:00      0  54511  100   30  30.0    39.0  63.0\n",
      "1      0 2019-01-02 08:00:00      0  54512  101   31  84.0    78.0  69.0\n",
      "2      0 2019-01-02 08:00:00      0  54513  102   32  61.0    57.0  30.0\n",
      "3      0 2019-01-02 08:00:00      0  54514  103   33  44.0    55.0  11.0\n"
     ]
    }
   ],
   "source": [
    "data = {\"id\":np.arange(54511,54515).tolist(),\n",
    "        \"lon\":np.arange(100,104,1).tolist(),\n",
    "        \"lat\":np.arange(30,34,1).tolist(),\n",
    "        \"ec\":(np.random.rand(4)*100).astype(np.int16),\n",
    "        \"grapes\":(np.random.rand(4)*100).astype(np.int16),\n",
    "       \"ncep\":(np.random.rand(4)*100).astype(np.int16)}\n",
    "df = pd.DataFrame(data)\n",
    "sta_en = meb.sta_data(df)\n",
    "meb.set_stadata_coords(sta_en,level = 0,time = datetime.datetime(2019,1,2,8,0),dtime = 0)\n",
    "print(sta_en)"
   ]
  },
  {
   "cell_type": "markdown",
   "metadata": {},
   "source": [
    "# 计算站点数据平均值  \n",
    "**mean_of_sta(sta,used_coords = [\"member\"])**  \n",
    "计算站点数据的平均值  \n",
    "\n",
    "**参数说明：**  \n",
    " **sta**: 站点数据  \n",
    " **used_coords**: 平均操作使用的维度，默认参数是对member维度的平均  \n",
    " **return**: 站点数据      \n",
    "\n",
    "\n",
    "**调用示例**"
   ]
  },
  {
   "cell_type": "code",
   "execution_count": 3,
   "metadata": {},
   "outputs": [
    {
     "name": "stdout",
     "output_type": "stream",
     "text": [
      "   level                time  dtime     id  lon  lat       mean\n",
      "0      0 2019-01-02 08:00:00      0  54511  100   30  44.000000\n",
      "1      0 2019-01-02 08:00:00      0  54512  101   31  77.000000\n",
      "2      0 2019-01-02 08:00:00      0  54513  102   32  49.333332\n",
      "3      0 2019-01-02 08:00:00      0  54514  103   33  36.666668\n"
     ]
    }
   ],
   "source": [
    "sta_mean = meb.mean_of_sta(sta_en)\n",
    "print(sta_mean)"
   ]
  },
  {
   "cell_type": "markdown",
   "metadata": {},
   "source": [
    "# 计算站点数据方差  \n",
    "**var_of_sta(sta,used_coords = [\"member\"])**  \n",
    "计算站点数据的方差   \n",
    "\n",
    "**参数说明：**  \n",
    " **sta**: 站点数据  \n",
    " **used_coords**: 平均操作使用的维度，默认参数是对member维度的平均  \n",
    " **return**: 站点数据      \n",
    "\n",
    "\n",
    "**调用示例**"
   ]
  },
  {
   "cell_type": "code",
   "execution_count": 4,
   "metadata": {},
   "outputs": [
    {
     "name": "stdout",
     "output_type": "stream",
     "text": [
      "   level                time  dtime     id  lon  lat         var\n",
      "0      0 2019-01-02 08:00:00      0  54511  100   30  194.000000\n",
      "1      0 2019-01-02 08:00:00      0  54512  101   31   38.000000\n",
      "2      0 2019-01-02 08:00:00      0  54513  102   32  189.555557\n",
      "3      0 2019-01-02 08:00:00      0  54514  103   33  349.555542\n"
     ]
    }
   ],
   "source": [
    "sta_var = meb.var_of_sta(sta_en)\n",
    "print(sta_var)"
   ]
  },
  {
   "cell_type": "markdown",
   "metadata": {},
   "source": [
    "# 计算站点数据标准差  \n",
    "**std_of_sta(sta,used_coords = [\"member\"])**  \n",
    "计算站点数据的标准差    \n",
    "\n",
    "**参数说明：**  \n",
    " **sta**: 站点数据  \n",
    " **used_coords**: 平均操作使用的维度，默认参数是对member维度的平均  \n",
    " **return**: 站点数据      \n",
    "\n",
    "\n",
    "**调用示例**"
   ]
  },
  {
   "cell_type": "code",
   "execution_count": 5,
   "metadata": {},
   "outputs": [
    {
     "name": "stdout",
     "output_type": "stream",
     "text": [
      "   level                time  dtime     id  lon  lat        std\n",
      "0      0 2019-01-02 08:00:00      0  54511  100   30  13.928389\n",
      "1      0 2019-01-02 08:00:00      0  54512  101   31   6.164414\n",
      "2      0 2019-01-02 08:00:00      0  54513  102   32  13.767918\n",
      "3      0 2019-01-02 08:00:00      0  54514  103   33  18.696405\n"
     ]
    }
   ],
   "source": [
    "sta_std = meb.std_of_sta(sta_en)\n",
    "print(sta_std)"
   ]
  },
  {
   "cell_type": "markdown",
   "metadata": {},
   "source": [
    "# 计算站点数据最小值  \n",
    "**min_of_sta(sta,used_coords = [\"member\"])**  \n",
    "计算站点数据的最小值  \n",
    "\n",
    "**参数说明：**  \n",
    " **sta**: 站点数据  \n",
    " **used_coords**: 平均操作使用的维度，默认参数是对member维度的平均  \n",
    " **return**: 站点数据      \n",
    "\n",
    "\n",
    "**调用示例**"
   ]
  },
  {
   "cell_type": "code",
   "execution_count": 6,
   "metadata": {},
   "outputs": [
    {
     "name": "stdout",
     "output_type": "stream",
     "text": [
      "   level                time  dtime     id  lon  lat   min\n",
      "0      0 2019-01-02 08:00:00      0  54511  100   30  30.0\n",
      "1      0 2019-01-02 08:00:00      0  54512  101   31  69.0\n",
      "2      0 2019-01-02 08:00:00      0  54513  102   32  30.0\n",
      "3      0 2019-01-02 08:00:00      0  54514  103   33  11.0\n"
     ]
    }
   ],
   "source": [
    "sta_min = meb.min_of_sta(sta_en)\n",
    "print(sta_min)"
   ]
  },
  {
   "cell_type": "markdown",
   "metadata": {},
   "source": [
    "# 计算站点数据最大值  \n",
    "**min_of_sta(sta,used_coords = [\"member\"])**  \n",
    "计算站点数据的最大值  \n",
    "\n",
    "**参数说明：**  \n",
    " **sta**: 站点数据  \n",
    " **used_coords**: 平均操作使用的维度，默认参数是对member维度的平均  \n",
    " **return**: 站点数据      \n",
    "\n",
    "\n",
    "**调用示例**"
   ]
  },
  {
   "cell_type": "code",
   "execution_count": 7,
   "metadata": {},
   "outputs": [
    {
     "name": "stdout",
     "output_type": "stream",
     "text": [
      "   level                time  dtime     id  lon  lat   max\n",
      "0      0 2019-01-02 08:00:00      0  54511  100   30  63.0\n",
      "1      0 2019-01-02 08:00:00      0  54512  101   31  84.0\n",
      "2      0 2019-01-02 08:00:00      0  54513  102   32  61.0\n",
      "3      0 2019-01-02 08:00:00      0  54514  103   33  55.0\n"
     ]
    }
   ],
   "source": [
    "sta_max = meb.max_of_sta(sta_en)\n",
    "print(sta_max)"
   ]
  },
  {
   "cell_type": "markdown",
   "metadata": {},
   "source": [
    "# 计算网格数据平均值  \n",
    "**mean_of_grd(grd,used_coords = [\"member\"])**  \n",
    "计算网格数据的平均值  \n",
    "\n",
    "**参数说明：**  \n",
    " **sta**: 站点数据  \n",
    " **used_coords**: 平均操作使用的维度，默认参数是对member维度的平均  \n",
    " **return**: 站点数据      \n",
    "\n",
    "\n",
    "**调用示例**"
   ]
  },
  {
   "cell_type": "code",
   "execution_count": 8,
   "metadata": {},
   "outputs": [
    {
     "name": "stdout",
     "output_type": "stream",
     "text": [
      "<xarray.DataArray 'data0' (member: 3, level: 1, time: 1, dtime: 1, lat: 3, lon: 6)>\n",
      "array([[[[[[1., 1., 1., 1., 1., 1.],\n",
      "           [1., 1., 1., 1., 1., 1.],\n",
      "           [1., 1., 1., 1., 1., 1.]]]]],\n",
      "\n",
      "\n",
      "\n",
      "\n",
      "       [[[[[2., 2., 2., 2., 2., 2.],\n",
      "           [2., 2., 2., 2., 2., 2.],\n",
      "           [2., 2., 2., 2., 2., 2.]]]]],\n",
      "\n",
      "\n",
      "\n",
      "\n",
      "       [[[[[3., 3., 3., 3., 3., 3.],\n",
      "           [3., 3., 3., 3., 3., 3.],\n",
      "           [3., 3., 3., 3., 3., 3.]]]]]])\n",
      "Coordinates:\n",
      "  * member   (member) <U6 'GRAPES' 'EC' 'NCEP'\n",
      "  * level    (level) int32 0\n",
      "  * time     (time) datetime64[ns] 2099-01-01\n",
      "  * dtime    (dtime) int32 0\n",
      "  * lat      (lat) int32 20 21 22\n",
      "  * lon      (lon) int32 100 101 102 103 104 105\n"
     ]
    }
   ],
   "source": [
    "grid0 = meb.grid([100,105,1],[20,22,1],member_list = [\"GRAPES\",\"EC\",\"NCEP\"])\n",
    "grd = meb.grid_data(grid0)\n",
    "grd.values[0,...] = 1\n",
    "grd.values[1,...] = 2\n",
    "grd.values[2,...] = 3\n",
    "print(grd)"
   ]
  },
  {
   "cell_type": "code",
   "execution_count": 9,
   "metadata": {},
   "outputs": [
    {
     "name": "stdout",
     "output_type": "stream",
     "text": [
      "<xarray.DataArray 'data0' (member: 1, level: 1, time: 1, dtime: 1, lat: 3, lon: 6)>\n",
      "array([[[[[[2., 2., 2., 2., 2., 2.],\n",
      "           [2., 2., 2., 2., 2., 2.],\n",
      "           [2., 2., 2., 2., 2., 2.]]]]]])\n",
      "Coordinates:\n",
      "  * member   (member) <U4 'mean'\n",
      "  * level    (level) int32 0\n",
      "  * time     (time) datetime64[ns] 2099-01-01\n",
      "  * dtime    (dtime) int32 0\n",
      "  * lat      (lat) int32 20 21 22\n",
      "  * lon      (lon) int32 100 101 102 103 104 105\n"
     ]
    }
   ],
   "source": [
    "grd_mean = meb.mean_of_grd(grd)\n",
    "print(grd_mean)"
   ]
  },
  {
   "cell_type": "markdown",
   "metadata": {},
   "source": [
    "# 计算网格数据方差  \n",
    "**mean_of_grd(grd,used_coords = [\"member\"])**  \n",
    "计算网格数据的方差    \n",
    "\n",
    "**参数说明：**  \n",
    " **sta**: 站点数据  \n",
    " **used_coords**: 平均操作使用的维度，默认参数是对member维度的平均  \n",
    " **return**: 站点数据      \n",
    "\n",
    "\n",
    "**调用示例**   "
   ]
  },
  {
   "cell_type": "code",
   "execution_count": 10,
   "metadata": {},
   "outputs": [
    {
     "name": "stdout",
     "output_type": "stream",
     "text": [
      "<xarray.DataArray 'data0' (member: 1, level: 1, time: 1, dtime: 1, lat: 3, lon: 6)>\n",
      "array([[[[[[0.666667, 0.666667, 0.666667, 0.666667, 0.666667, 0.666667],\n",
      "           [0.666667, 0.666667, 0.666667, 0.666667, 0.666667, 0.666667],\n",
      "           [0.666667, 0.666667, 0.666667, 0.666667, 0.666667, 0.666667]]]]]])\n",
      "Coordinates:\n",
      "  * member   (member) <U3 'var'\n",
      "  * level    (level) int32 0\n",
      "  * time     (time) datetime64[ns] 2099-01-01\n",
      "  * dtime    (dtime) int32 0\n",
      "  * lat      (lat) int32 20 21 22\n",
      "  * lon      (lon) int32 100 101 102 103 104 105\n"
     ]
    }
   ],
   "source": [
    "grd_var = meb.var_of_grd(grd)\n",
    "print(grd_var)"
   ]
  },
  {
   "cell_type": "markdown",
   "metadata": {},
   "source": [
    "# 计算网格数据标准差  \n",
    "**mean_of_grd(grd,used_coords = [\"member\"])**  \n",
    "计算网格数据的标准差    \n",
    "\n",
    "**参数说明：**  \n",
    " **sta**: 站点数据  \n",
    " **used_coords**: 平均操作使用的维度，默认参数是对member维度的平均  \n",
    " **return**: 站点数据      \n",
    "\n",
    "\n",
    "**调用示例**  "
   ]
  },
  {
   "cell_type": "code",
   "execution_count": 11,
   "metadata": {},
   "outputs": [
    {
     "name": "stdout",
     "output_type": "stream",
     "text": [
      "<xarray.DataArray 'data0' (member: 1, level: 1, time: 1, dtime: 1, lat: 3, lon: 6)>\n",
      "array([[[[[[0.816497, 0.816497, 0.816497, 0.816497, 0.816497, 0.816497],\n",
      "           [0.816497, 0.816497, 0.816497, 0.816497, 0.816497, 0.816497],\n",
      "           [0.816497, 0.816497, 0.816497, 0.816497, 0.816497, 0.816497]]]]]])\n",
      "Coordinates:\n",
      "  * member   (member) <U3 'std'\n",
      "  * level    (level) int32 0\n",
      "  * time     (time) datetime64[ns] 2099-01-01\n",
      "  * dtime    (dtime) int32 0\n",
      "  * lat      (lat) int32 20 21 22\n",
      "  * lon      (lon) int32 100 101 102 103 104 105\n"
     ]
    }
   ],
   "source": [
    "grd_std = meb.std_of_grd(grd)\n",
    "print(grd_std)"
   ]
  },
  {
   "cell_type": "markdown",
   "metadata": {},
   "source": [
    "# 计算网格数据最小值  \n",
    "**mean_of_grd(grd,used_coords = [\"member\"])**  \n",
    "计算网格数据的最小值    \n",
    "\n",
    "**参数说明：**  \n",
    " **sta**: 站点数据  \n",
    " **used_coords**: 平均操作使用的维度，默认参数是对member维度的平均  \n",
    " **return**: 站点数据      \n",
    "\n",
    "\n",
    "**调用示例**  "
   ]
  },
  {
   "cell_type": "code",
   "execution_count": 12,
   "metadata": {},
   "outputs": [
    {
     "name": "stdout",
     "output_type": "stream",
     "text": [
      "<xarray.DataArray 'data0' (member: 1, level: 1, time: 1, dtime: 1, lat: 3, lon: 6)>\n",
      "array([[[[[[1., 1., 1., 1., 1., 1.],\n",
      "           [1., 1., 1., 1., 1., 1.],\n",
      "           [1., 1., 1., 1., 1., 1.]]]]]])\n",
      "Coordinates:\n",
      "  * member   (member) <U3 'min'\n",
      "  * level    (level) int32 0\n",
      "  * time     (time) datetime64[ns] 2099-01-01\n",
      "  * dtime    (dtime) int32 0\n",
      "  * lat      (lat) int32 20 21 22\n",
      "  * lon      (lon) int32 100 101 102 103 104 105\n"
     ]
    }
   ],
   "source": [
    "grd_min = meb.min_of_grd(grd)\n",
    "print(grd_min)"
   ]
  },
  {
   "cell_type": "markdown",
   "metadata": {},
   "source": [
    "# 计算网格数据最大值  \n",
    "**mean_of_grd(grd,used_coords = [\"member\"])**  \n",
    "计算网格数据的最大值      \n",
    "\n",
    "**参数说明：**  \n",
    " **sta**: 站点数据  \n",
    " **used_coords**: 平均操作使用的维度，默认参数是对member维度的平均  \n",
    " **return**: 站点数据      \n",
    "\n",
    "\n",
    "**调用示例**  "
   ]
  },
  {
   "cell_type": "code",
   "execution_count": 13,
   "metadata": {},
   "outputs": [
    {
     "name": "stdout",
     "output_type": "stream",
     "text": [
      "<xarray.DataArray 'data0' (member: 1, level: 1, time: 1, dtime: 1, lat: 3, lon: 6)>\n",
      "array([[[[[[3., 3., 3., 3., 3., 3.],\n",
      "           [3., 3., 3., 3., 3., 3.],\n",
      "           [3., 3., 3., 3., 3., 3.]]]]]])\n",
      "Coordinates:\n",
      "  * member   (member) <U3 'max'\n",
      "  * level    (level) int32 0\n",
      "  * time     (time) datetime64[ns] 2099-01-01\n",
      "  * dtime    (dtime) int32 0\n",
      "  * lat      (lat) int32 20 21 22\n",
      "  * lon      (lon) int32 100 101 102 103 104 105\n"
     ]
    }
   ],
   "source": [
    "grd_max = meb.max_of_grd(grd)\n",
    "print(grd_max)"
   ]
  },
  {
   "cell_type": "markdown",
   "metadata": {},
   "source": [
    "# 根据风速风向计算UV风\n",
    "**speed_angle_to_wind(speed,angle = None)**  \n",
    "根据风向风速计算u、v      \n",
    "\n",
    "**参数说明：**  \n",
    " **speed**: [站点数据](https://www.showdoc.cc/meteva?page_id=3975600580125986)或[网格数据](https://www.showdoc.cc/meteva?page_id=3975600580125986)    \n",
    " **angle**: [站点数据](https://www.showdoc.cc/meteva?page_id=3975600580125986)或[网格数据](https://www.showdoc.cc/meteva?page_id=3975600580125986)。如果angle 不为 None，则其形式应和speed一样，同为站点数据或网格数据。  如果angle为None,则speed数据中应同时包含风速和风向。   \n",
    " **return**: 如果输入的是站点数据，则返回站点数据，如果输入的是网格数据则返回网格数据。        \n",
    "\n",
    "\n",
    "**调用示例**  "
   ]
  },
  {
   "cell_type": "code",
   "execution_count": 14,
   "metadata": {},
   "outputs": [
    {
     "name": "stdout",
     "output_type": "stream",
     "text": [
      "   level                time  dtime     id  lon  lat     speed  angle\n",
      "0      0 2019-01-02 08:00:00      0  54511  100   30  4.205996  316.0\n",
      "1      0 2019-01-02 08:00:00      0  54512  101   31  5.485206  347.0\n",
      "2      0 2019-01-02 08:00:00      0  54513  102   32  4.921927  219.0\n",
      "3      0 2019-01-02 08:00:00      0  54514  103   33  2.604312  268.0\n"
     ]
    }
   ],
   "source": [
    "data = {\"id\":np.arange(54511,54515).tolist(),\n",
    "        \"lon\":np.arange(100,104,1).tolist(),\n",
    "        \"lat\":np.arange(30,34,1).tolist(),\n",
    "        \"speed\":(np.random.rand(4)*10),\n",
    "        \"angle\":(np.random.rand(4)*360).astype(np.int16)}\n",
    "df = pd.DataFrame(data)\n",
    "sta_speed_angle = meb.sta_data(df)\n",
    "meb.set_stadata_coords(sta_speed_angle,level = 0,time = datetime.datetime(2019,1,2,8,0),dtime = 0)\n",
    "print(sta_speed_angle)  "
   ]
  },
  {
   "cell_type": "code",
   "execution_count": 15,
   "metadata": {},
   "outputs": [
    {
     "name": "stdout",
     "output_type": "stream",
     "text": [
      "   level                time  dtime     id  lon  lat         u         v\n",
      "0      0 2019-01-02 08:00:00      0  54511  100   30  2.930178 -3.017359\n",
      "1      0 2019-01-02 08:00:00      0  54512  101   31  1.250304 -5.340807\n",
      "2      0 2019-01-02 08:00:00      0  54513  102   32  3.090052  3.831050\n",
      "3      0 2019-01-02 08:00:00      0  54514  103   33  2.602503  0.097060\n"
     ]
    }
   ],
   "source": [
    "sta_uv = meb.speed_angle_to_wind(sta_speed_angle) #站点数据中同时包含风速和风向，则只需输入一个参数\n",
    "print(sta_uv)"
   ]
  },
  {
   "cell_type": "code",
   "execution_count": 16,
   "metadata": {},
   "outputs": [
    {
     "name": "stdout",
     "output_type": "stream",
     "text": [
      "   level                time  dtime     id  lon  lat         u         v\n",
      "0      0 2019-01-02 08:00:00      0  54511  100   30  2.930178 -3.017359\n",
      "1      0 2019-01-02 08:00:00      0  54512  101   31  1.250304 -5.340807\n",
      "2      0 2019-01-02 08:00:00      0  54513  102   32  3.090052  3.831050\n",
      "3      0 2019-01-02 08:00:00      0  54514  103   33  2.602503  0.097060\n"
     ]
    }
   ],
   "source": [
    "speed = meb.sele_by_para(sta_speed_angle,member = [\"speed\"])  #仅包含风速的数据\n",
    "angle = meb.sele_by_para(sta_speed_angle,member = [\"angle\"])  #仅包含风向的数据\n",
    "sta_uv = meb.speed_angle_to_wind(speed,angle)\n",
    "print(sta_uv)"
   ]
  },
  {
   "cell_type": "markdown",
   "metadata": {},
   "source": [
    "# 根据温度露点计算相对湿度\n",
    "**t_dtp_to_rh(temp,dtp)**  \n",
    "根据温度露点计算相对湿度(仅用于气象领域，或相对温度不高于120℃的场景，不能应用于工程领域）      \n",
    "\n",
    "**参数说明：**  \n",
    " **temp**: [站点数据](https://www.showdoc.cc/meteva?page_id=3975600580125986)或[网格数据](https://www.showdoc.cc/meteva?page_id=3975600580125986),既可以为绝对温度，也可以为摄氏温度。    \n",
    " **dtp**: [站点数据](https://www.showdoc.cc/meteva?page_id=3975600580125986)或[网格数据](https://www.showdoc.cc/meteva?page_id=3975600580125986)。其形式应和temp一样，同为站点数据或网格数据。既可以为绝对温度，也可以为摄氏温度。     \n",
    " **return**: 相对湿度，已经×100换算成百分比。如果输入的是站点数据，则返回站点数据，如果输入的是网格数据则返回网格数据。        \n",
    "\n",
    "**调用示例**  "
   ]
  },
  {
   "cell_type": "code",
   "execution_count": 17,
   "metadata": {},
   "outputs": [
    {
     "name": "stdout",
     "output_type": "stream",
     "text": [
      "   level                time  dtime     id  lon  lat         rh\n",
      "0      0 2019-01-02 08:00:00      0  54511  100   30  70.679040\n",
      "1      0 2019-01-02 08:00:00      0  54512  101   31  79.459310\n",
      "2      0 2019-01-02 08:00:00      0  54513  102   32  71.021324\n",
      "3      0 2019-01-02 08:00:00      0  54514  103   33  68.703019\n"
     ]
    }
   ],
   "source": [
    "sta_t = speed.copy()\n",
    "sta_t.iloc[:,-1] = np.random.randn(4)*30\n",
    "sta_dpt =sta_t.copy()\n",
    "sta_dpt.iloc[:,-1] -= 5\n",
    "rh = meb.t_dtp_to_rh(sta_t,sta_dpt)\n",
    "print(rh)"
   ]
  },
  {
   "cell_type": "code",
   "execution_count": 18,
   "metadata": {},
   "outputs": [
    {
     "name": "stdout",
     "output_type": "stream",
     "text": [
      "   level                time  dtime     id  lon  lat         rh\n",
      "0      0 2019-01-02 08:00:00      0  54511  100   30  70.727106\n",
      "1      0 2019-01-02 08:00:00      0  54512  101   31  79.495247\n",
      "2      0 2019-01-02 08:00:00      0  54513  102   32  71.068957\n",
      "3      0 2019-01-02 08:00:00      0  54514  103   33  68.753517\n"
     ]
    }
   ],
   "source": [
    "sta_t.iloc[:,-1] += 273.15            #转换成绝对温度\n",
    "rh = meb.t_dtp_to_rh(sta_t,sta_dpt)   #温度和露点中有一个是摄氏度，一个是绝对温度，不影响计算结果\n",
    "print(rh)"
   ]
  },
  {
   "cell_type": "markdown",
   "metadata": {},
   "source": [
    "# 观测数据的累加\n",
    "**accumulate_time(sta_ob,step,keep_all = True)**  \n",
    "对时间序列数据进行累加      \n",
    "\n",
    "**参数说明：**  \n",
    " **sta_ob**:累加前数据,[站点数据](https://www.showdoc.cc/meteva?page_id=3975600580125986)，可以有多个站点多个层次，但dtime必须都为0, 当某个站点的一个时刻数据缺失，之后step内累加量都不会出现在结果中，以降水为例，如果降水为0的站点应该出现在sta_ob中才能保证累加结果的正确。    \n",
    " **step**: 累加的时间步长，以从sta_ob中自动提取的最小时间间隔作为步长。         \n",
    " **keep_all**: 选择keep_all = True时，返回结果的时间间隔和输送数据一样,每个数据都是前面step内的累加。如果该参数选False，累加后数据的时间间隔是原来的step倍,仅保留那些距离最终时刻的时差是step的倍数的时刻。         \n",
    " **return**: 累加后的数据，程序自动完成站点的对齐和累加。        \n",
    "\n",
    "**调用示例**  "
   ]
  },
  {
   "cell_type": "code",
   "execution_count": 19,
   "metadata": {},
   "outputs": [
    {
     "name": "stdout",
     "output_type": "stream",
     "text": [
      "   level                time  dtime     id  lon  lat     data0\n",
      "0      0 2020-01-01 09:00:00      0  54511  100   30  9.457438\n",
      "1      0 2020-01-01 09:00:00      0  54512  101   31  8.235418\n",
      "0      0 2020-01-01 10:00:00      0  54511  100   30  4.725587\n",
      "1      0 2020-01-01 10:00:00      0  54512  101   31  5.845515\n",
      "0      0 2020-01-01 11:00:00      0  54511  100   30  4.352560\n",
      "1      0 2020-01-01 11:00:00      0  54512  101   31  4.750139\n",
      "0      0 2020-01-01 12:00:00      0  54511  100   30  0.182422\n",
      "1      0 2020-01-01 12:00:00      0  54512  101   31  4.368540\n",
      "0      0 2020-01-01 13:00:00      0  54511  100   30  5.714944\n",
      "1      0 2020-01-01 13:00:00      0  54512  101   31  8.875864\n",
      "0      0 2020-01-01 14:00:00      0  54511  100   30  8.506255\n",
      "1      0 2020-01-01 14:00:00      0  54512  101   31  7.817498\n"
     ]
    }
   ],
   "source": [
    "data = {\"id\":[54511,54512],\n",
    "        \"lon\":[100,101],\n",
    "        \"lat\":[30,31]}\n",
    "df = pd.DataFrame(data)\n",
    "station = meb.sta_data(df)\n",
    "time0 = datetime.datetime(2020,1,1,9,0)\n",
    "sta_list = []\n",
    "for dh in range(6):\n",
    "    time1 = time0 + datetime.timedelta(hours = dh)\n",
    "    sta = station.copy()\n",
    "    sta[\"data0\"] = np.random.rand(2) * 10\n",
    "    meb.set_stadata_coords(sta,time = time1,level = 0,dtime = 0)\n",
    "    sta_list.append(sta)\n",
    "rain01= pd.concat(sta_list,axis =0)\n",
    "print(rain01)  #生成两个站点，逐小时的观测数据"
   ]
  },
  {
   "cell_type": "code",
   "execution_count": 20,
   "metadata": {},
   "outputs": [
    {
     "name": "stdout",
     "output_type": "stream",
     "text": [
      "   level                time  dtime     id  lon  lat      data0\n",
      "0      0 2020-01-01 11:00:00      0  54511  100   30  18.535585\n",
      "1      0 2020-01-01 11:00:00      0  54512  101   31  18.831072\n",
      "2      0 2020-01-01 12:00:00      0  54511  100   30   9.260569\n",
      "3      0 2020-01-01 12:00:00      0  54512  101   31  14.964194\n",
      "4      0 2020-01-01 13:00:00      0  54511  100   30  10.249927\n",
      "5      0 2020-01-01 13:00:00      0  54512  101   31  17.994542\n",
      "6      0 2020-01-01 14:00:00      0  54511  100   30  14.403621\n",
      "7      0 2020-01-01 14:00:00      0  54512  101   31  21.061902\n"
     ]
    }
   ],
   "source": [
    "#程序自动完成站点的对齐和累加，计算结果并非是逐3小时间隔，而是和原始数据间隔一样，但09,10时数据不全就不会包含在计算结果中。\n",
    "rain03 =meb.accumulate_time(rain01,3)   \n",
    "print(rain03) "
   ]
  },
  {
   "cell_type": "code",
   "execution_count": 21,
   "metadata": {},
   "outputs": [
    {
     "name": "stdout",
     "output_type": "stream",
     "text": [
      "   level                time  dtime     id  lon  lat      data0\n",
      "0      0 2020-01-01 11:00:00      0  54511  100   30  18.535585\n",
      "1      0 2020-01-01 11:00:00      0  54512  101   31  18.831072\n",
      "6      0 2020-01-01 14:00:00      0  54511  100   30  14.403621\n",
      "7      0 2020-01-01 14:00:00      0  54512  101   31  21.061902\n"
     ]
    }
   ],
   "source": [
    "rain03 =meb.accumulate_time(rain01,3,keep_all = False)  #自动对齐后累加，仅保留11时和14时，其中结束时刻和原数据一致\n",
    "print(rain03) "
   ]
  },
  {
   "cell_type": "code",
   "execution_count": null,
   "metadata": {},
   "outputs": [],
   "source": []
  }
 ],
 "metadata": {
  "kernelspec": {
   "display_name": "Python 3",
   "language": "python",
   "name": "python3"
  },
  "language_info": {
   "codemirror_mode": {
    "name": "ipython",
    "version": 3
   },
   "file_extension": ".py",
   "mimetype": "text/x-python",
   "name": "python",
   "nbconvert_exporter": "python",
   "pygments_lexer": "ipython3",
   "version": "3.7.1"
  }
 },
 "nbformat": 4,
 "nbformat_minor": 2
}
