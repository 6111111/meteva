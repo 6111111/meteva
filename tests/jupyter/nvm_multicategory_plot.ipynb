{
 "cells": [
  {
   "cell_type": "code",
   "execution_count": 1,
   "metadata": {},
   "outputs": [],
   "source": [
    "%matplotlib inline\n",
    "%load_ext autoreload\n",
    "%autoreload 2\n",
    "from nmc_verification.nmc_vf_method.multi_category import *\n",
    "import numpy as np"
   ]
  },
  {
   "cell_type": "markdown",
   "metadata": {},
   "source": [
    "***通过随机函数生成测试数据，用于后续检验函数调用示例***"
   ]
  },
  {
   "cell_type": "code",
   "execution_count": 3,
   "metadata": {},
   "outputs": [],
   "source": [
    "ob = np.random.rand(10,2)\n",
    "fo = np.random.rand(10,2)\n",
    "ob10 = ob * 10\n",
    "fo10 = fo * 10\n",
    "ob_int = ob10.astype(np.int8)\n",
    "fo_int = fo10.astype(np.int8)\n",
    "grade_list = [3,5]"
   ]
  },
  {
   "cell_type": "code",
   "execution_count": 4,
   "metadata": {},
   "outputs": [
    {
     "data": {
      "text/plain": [
       "array([[2, 6],\n",
       "       [1, 6],\n",
       "       [1, 7],\n",
       "       [0, 4],\n",
       "       [7, 0],\n",
       "       [4, 9],\n",
       "       [6, 7],\n",
       "       [8, 9],\n",
       "       [9, 1],\n",
       "       [6, 0]], dtype=int8)"
      ]
     },
     "execution_count": 4,
     "metadata": {},
     "output_type": "execute_result"
    }
   ],
   "source": [
    "ob_int"
   ]
  },
  {
   "cell_type": "code",
   "execution_count": 5,
   "metadata": {},
   "outputs": [
    {
     "data": {
      "text/plain": [
       "array([[0, 5],\n",
       "       [3, 1],\n",
       "       [4, 6],\n",
       "       [0, 8],\n",
       "       [9, 2],\n",
       "       [5, 9],\n",
       "       [3, 5],\n",
       "       [3, 6],\n",
       "       [4, 6],\n",
       "       [3, 7]], dtype=int8)"
      ]
     },
     "execution_count": 5,
     "metadata": {},
     "output_type": "execute_result"
    }
   ],
   "source": [
    "fo_int"
   ]
  },
  {
   "cell_type": "markdown",
   "metadata": {},
   "source": [
    "###  频率统计图  \n",
    "**frequency_historgram(ob, fo, grade_list=None, save_path=None)**  \n",
    "统计观测和预报分别为各种类别的样本数,并以柱状图形式绘制成图片  \n",
    "\n",
    "**参数说明：**  \n",
    " Ob:实况数据，任意维numpy数组   \n",
    " Fo:预测数据，任意维numpy数组,Fo.shape 和Ob.shape一致  \n",
    " grade_list: 如果该参数为None，观测或预报值出现过的值都作为分类标记，如果该参数不为None，它必须是一个从小到大排列的实数，以其中列出的数值划分出的多个区间作为分类标签。对于预报和观测值不为整数的情况，grade_list 不能设置为None。  \n",
    " save_path: 图片保存路径，缺省时不输出图片，而是以默认绘图窗口形式展示  \n",
    " return: None  \n",
    "**调用示例：**  "
   ]
  },
  {
   "cell_type": "code",
   "execution_count": 8,
   "metadata": {},
   "outputs": [
    {
     "data": {
      "image/png": "[encoded data removed]",
      "text/plain": [
       "<Figure size 432x288 with 1 Axes>"
      ]
     },
     "metadata": {
      "needs_background": "light"
     },
     "output_type": "display_data"
    }
   ],
   "source": [
    "frequency_histogram(ob_int, fo_int)"
   ]
  },
  {
   "cell_type": "code",
   "execution_count": 9,
   "metadata": {},
   "outputs": [
    {
     "data": {
      "image/png": "[encoded data removed]",
      "text/plain": [
       "<Figure size 432x288 with 1 Axes>"
      ]
     },
     "metadata": {
      "needs_background": "light"
     },
     "output_type": "display_data"
    }
   ],
   "source": [
    "frequency_histogram(ob_int, fo_int,grade_list)"
   ]
  },
  {
   "cell_type": "code",
   "execution_count": null,
   "metadata": {},
   "outputs": [],
   "source": []
  }
 ],
 "metadata": {
  "kernelspec": {
   "display_name": "Python 3",
   "language": "python",
   "name": "python3"
  },
  "language_info": {
   "codemirror_mode": {
    "name": "ipython",
    "version": 3
   },
   "file_extension": ".py",
   "mimetype": "text/x-python",
   "name": "python",
   "nbconvert_exporter": "python",
   "pygments_lexer": "ipython3",
   "version": "3.7.1"
  }
 },
 "nbformat": 4,
 "nbformat_minor": 2
}
