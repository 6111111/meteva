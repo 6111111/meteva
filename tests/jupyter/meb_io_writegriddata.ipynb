{
 "cells": [
  {
   "cell_type": "code",
   "execution_count": 1,
   "metadata": {},
   "outputs": [],
   "source": [
    "%matplotlib inline\n",
    "%load_ext autoreload\n",
    "%autoreload 2\n",
    "import meteva.base as meb\n",
    "import os"
   ]
  },
  {
   "cell_type": "markdown",
   "metadata": {},
   "source": [
    "# 输出成micaps第4类文件\n",
    "**write_griddata_to_micaps4(da,save_path = \"a.txt\",creat_dir = False,effectiveNum = 3，show = False,title = None)**  \n",
    "将格点数据以micaps格式输出\n",
    "\n",
    "**参数说明：**  \n",
    " **da**: 格点数据      \n",
    " **save_path**: 文件输出路径，缺省值为\"a.txt\"   \n",
    " **creat_dir**: 当数据文件路径对应的文件夹不存在时是否新建相应的文件夹    \n",
    " **effectiveNum**: 文件数据的有效位数，缺省值为3  \n",
    " **show**: 是否在屏幕上打印文件成功输出的信息  \n",
    " **title**: micaps文件头中文件描述内容，它将在micaps软件系统中显示，缺省时由系统自动根据文件路径生成  \n",
    " **return**: 成功输出返回True,失败则返回False  \n",
    "\n",
    "\n",
    "**调用示例**"
   ]
  },
  {
   "cell_type": "code",
   "execution_count": 2,
   "metadata": {},
   "outputs": [
    {
     "name": "stdout",
     "output_type": "stream",
     "text": [
      "<xarray.DataArray 'data0' (member: 1, level: 1, time: 1, dtime: 1, lat: 281, lon: 361)>\n",
      "array([[[[[[26.99, ..., 26.96],\n",
      "           ...,\n",
      "           [ 1.02, ...,  7.08]]]]]])\n",
      "Coordinates:\n",
      "  * member   (member) <U5 'data0'\n",
      "  * level    (level) float64 0.0\n",
      "  * time     (time) datetime64[ns] 2019-05-17\n",
      "  * dtime    (dtime) int32 24\n",
      "  * lat      (lat) float64 -10.0 -9.75 -9.5 -9.25 -9.0 ... 59.25 59.5 59.75 60.0\n",
      "  * lon      (lon) float64 60.0 60.25 60.5 60.75 ... 149.2 149.5 149.8 150.0\n",
      "Attributes:\n",
      "    dtime_type:  hour\n"
     ]
    }
   ],
   "source": [
    "filename = r\"H:\\test_data\\input\\meb\\m4.txt\"\n",
    "grd = meb.read_griddata_from_micaps4(filename)\n",
    "print(grd)"
   ]
  },
  {
   "cell_type": "code",
   "execution_count": 3,
   "metadata": {
    "scrolled": true
   },
   "outputs": [
    {
     "name": "stdout",
     "output_type": "stream",
     "text": [
      "diamond 4 t\\meb_new\\m4.txt\n",
      "2019 05 17 00 24 0.0\n",
      "0.25 0.25 60.0 150.0 -10.0 60.0 361 281 5.0 -25.0 35.0 1 0\n"
     ]
    },
    {
     "data": {
      "text/plain": [
       "True"
      ]
     },
     "execution_count": 3,
     "metadata": {},
     "output_type": "execute_result"
    }
   ],
   "source": [
    "save_path = r\"H:\\test_data\\output\\meb_new\\m4.txt\"\n",
    "meb.write_griddata_to_micaps4(grd,save_path)"
   ]
  },
  {
   "cell_type": "code",
   "execution_count": 11,
   "metadata": {},
   "outputs": [
    {
     "name": "stdout",
     "output_type": "stream",
     "text": [
      "diamond 4 测试数据\n",
      "2019 05 17 00 24 0.0\n",
      "0.25 0.25 60.0 150.0 -10.0 60.0 361 281 5.0 -25.0 35.0 1 0\n",
      "成功输出至H:\\test_data\\output\\meb_new\\m4.txt\n",
      "输出文件的大小：1097012\n"
     ]
    }
   ],
   "source": [
    "meb.write_griddata_to_micaps4(grd,save_path,creat_dir = True,show = True,title = \"测试数据\")\n",
    "print(\"输出文件的大小：\"+ str(os.path.getsize(save_path)))"
   ]
  },
  {
   "cell_type": "markdown",
   "metadata": {},
   "source": [
    "在上述例子中,已知了网格数据的有效位数是小数点后两位，输出时effectiveNum 采用了默认的6位的方式，这会造成额外的存储空间的浪费。如果调用函数是设定effectiveNum = 2，则可以节省相应的空间。"
   ]
  },
  {
   "cell_type": "code",
   "execution_count": 5,
   "metadata": {},
   "outputs": [
    {
     "name": "stdout",
     "output_type": "stream",
     "text": [
      "diamond 4 t\\meb_new\\m4.txt\n",
      "2019 05 17 00 24 0.0\n",
      "0.25 0.25 60.0 150.0 -10.0 60.0 361 281 5.0 -25.0 35.0 1 0\n",
      "输出文件的大小：691256\n"
     ]
    }
   ],
   "source": [
    "meb.write_griddata_to_micaps4(grd,save_path,effectiveNum = 2)\n",
    "print(\"输出文件的大小：\"+ str(os.path.getsize(save_path)))"
   ]
  },
  {
   "cell_type": "markdown",
   "metadata": {},
   "source": [
    "# 输出成netcdf文件\n",
    "**write_griddata_to_nc(da,save_path = \"a.txt\",creat_dir = False,effectiveNum = 3，show = False)**  \n",
    "将格点数据以nc格式输出\n",
    "\n",
    "**参数说明：**  \n",
    " **da**: 格点数据      \n",
    " **save_path**: 文件输出路径，缺省值为\"a.txt\"   \n",
    " **creat_dir**: 当数据文件路径对应的文件夹不存在时是否新建相应的文件夹    \n",
    " **effectiveNum**: 文件数据的有效位数，缺省值为3   \n",
    " **show**: 是否在屏幕上打印文件成功输出的信息  \n",
    " **return**: 成功输出返回True,失败则返回False  \n",
    "\n",
    "\n",
    "**调用示例**"
   ]
  },
  {
   "cell_type": "code",
   "execution_count": 6,
   "metadata": {},
   "outputs": [
    {
     "data": {
      "text/plain": [
       "True"
      ]
     },
     "execution_count": 6,
     "metadata": {},
     "output_type": "execute_result"
    }
   ],
   "source": [
    "meb.write_griddata_to_nc(grd,r\"H:\\test_data\\output\\meb\\grd.nc\",effectiveNum = 2)"
   ]
  },
  {
   "cell_type": "markdown",
   "metadata": {},
   "source": [
    "# 将风场输出成micap第11类文件\n",
    "**write_griddata_to_micaps11(wind,save_path = \"a.txt\",creat_dir = False,effectiveNum = 3，show = False,title = None)**  \n",
    "将格点数据以micaps11类格式输出\n",
    "\n",
    "**参数说明：**  \n",
    " **wind**: 格点数据,其中member维度的size = 2      \n",
    " **save_path**: 文件输出路径，缺省值为\"a.txt\"   \n",
    " **creat_dir**: 当数据文件路径对应的文件夹不存在时是否新建相应的文件夹    \n",
    " **effectiveNum**: 文件数据的有效位数，缺省值为3   \n",
    " **show**: 是否在屏幕上打印文件成功输出的信息  \n",
    " **title**: micaps文件头中文件描述内容，它将在micaps软件系统中显示，缺省时由系统自动根据文件路径生成  \n",
    " **return**: 成功输出返回True,失败则返回False  \n",
    "\n",
    "\n",
    "**调用示例**"
   ]
  },
  {
   "cell_type": "code",
   "execution_count": 7,
   "metadata": {
    "scrolled": true
   },
   "outputs": [
    {
     "name": "stdout",
     "output_type": "stream",
     "text": [
      "<xarray.DataArray 'wind' (member: 2, level: 1, time: 1, dtime: 1, lat: 281, lon: 361)>\n",
      "array([[[[[[ 7.32, ...,  0.6 ],\n",
      "           ...,\n",
      "           [-1.83, ..., -6.01]]]]],\n",
      "\n",
      "\n",
      "\n",
      "\n",
      "       [[[[[-9.29, ...,  2.68],\n",
      "           ...,\n",
      "           [-1.01, ...,  1.36]]]]]])\n",
      "Coordinates:\n",
      "  * member   (member) <U1 'u' 'v'\n",
      "  * level    (level) object None\n",
      "  * time     (time) object None\n",
      "  * dtime    (dtime) object None\n",
      "  * lat      (lat) float64 -10.0 -9.75 -9.5 -9.25 -9.0 ... 59.25 59.5 59.75 60.0\n",
      "  * lon      (lon) float64 60.0 60.25 60.5 60.75 ... 149.2 149.5 149.8 150.0\n"
     ]
    }
   ],
   "source": [
    "filename = r\"H:\\test_data\\input\\meb\\m11.024\"\n",
    "wind = meb.read_gridwind_from_micaps11(filename)\n",
    "print(wind)"
   ]
  },
  {
   "cell_type": "code",
   "execution_count": 8,
   "metadata": {},
   "outputs": [
    {
     "name": "stdout",
     "output_type": "stream",
     "text": [
      "成功输出至H:\\test_data\\output\\meb\\m11.txt\n"
     ]
    },
    {
     "data": {
      "text/plain": [
       "True"
      ]
     },
     "execution_count": 8,
     "metadata": {},
     "output_type": "execute_result"
    }
   ],
   "source": [
    "meb.write_griddata_to_micaps11(wind,r\"H:\\test_data\\output\\meb\\m11.txt\",show = True,title = \"测试title\")"
   ]
  },
  {
   "cell_type": "code",
   "execution_count": 9,
   "metadata": {},
   "outputs": [
    {
     "data": {
      "text/plain": [
       "True"
      ]
     },
     "execution_count": 9,
     "metadata": {},
     "output_type": "execute_result"
    }
   ],
   "source": [
    "meb.write_griddata_to_nc(wind,r\"H:\\test_data\\output\\meb\\wind.nc\")"
   ]
  },
  {
   "cell_type": "code",
   "execution_count": null,
   "metadata": {},
   "outputs": [],
   "source": []
  }
 ],
 "metadata": {
  "kernelspec": {
   "display_name": "Python 3",
   "language": "python",
   "name": "python3"
  },
  "language_info": {
   "codemirror_mode": {
    "name": "ipython",
    "version": 3
   },
   "file_extension": ".py",
   "mimetype": "text/x-python",
   "name": "python",
   "nbconvert_exporter": "python",
   "pygments_lexer": "ipython3",
   "version": "3.7.1"
  }
 },
 "nbformat": 4,
 "nbformat_minor": 2
}
