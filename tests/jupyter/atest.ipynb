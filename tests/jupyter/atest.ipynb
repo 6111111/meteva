{
 "cells": [
  {
   "cell_type": "code",
   "execution_count": 1,
   "metadata": {},
   "outputs": [],
   "source": [
    "%matplotlib inline\n",
    "%load_ext autoreload\n",
    "%autoreload 2\n",
    "import meteva.base as meb\n",
    "import meteva.method as mem\n",
    "import meteva.product as mpd\n",
    "import numpy as np\n",
    "import datetime\n",
    "import copy\n",
    "import matplotlib.pyplot as plt\n",
    "import pandas as pd"
   ]
  },
  {
   "cell_type": "code",
   "execution_count": 48,
   "metadata": {},
   "outputs": [
    {
     "name": "stdout",
     "output_type": "stream",
     "text": [
      "       level                time  dtime      id     lon    lat  data0\n",
      "0          0 2018-01-01 08:00:00      0   54398  116.62  40.13    0.0\n",
      "1          0 2018-01-01 08:00:00      0   54399  116.28  39.98    0.0\n",
      "2          0 2018-01-01 08:00:00      0   54406  115.97  40.45    0.0\n",
      "3          0 2018-01-01 08:00:00      0   54416  116.87  40.38    0.0\n",
      "4          0 2018-01-01 08:00:00      0   54419  116.63  40.37    0.0\n",
      "...      ...                 ...    ...     ...     ...    ...    ...\n",
      "10455      0 2018-01-01 08:00:00      0  899209   76.20  38.77    0.0\n",
      "10456      0 2018-01-01 08:00:00      0  899211   76.41  38.93    0.0\n",
      "10457      0 2018-01-01 08:00:00      0  899223   76.77  39.66    0.0\n",
      "10458      0 2018-01-01 08:00:00      0  899233   76.76  39.09    0.0\n",
      "10459      0 2018-01-01 08:00:00      0  899533   81.64  37.08    0.0\n",
      "\n",
      "[10460 rows x 7 columns]\n"
     ]
    }
   ],
   "source": [
    "path = r\"H:\\resource\\meteva\\sta\\stat10461.txt\"\n",
    "sta = meb.read_stadata_from_micaps3(path)\n",
    "print(sta)"
   ]
  },
  {
   "cell_type": "code",
   "execution_count": 49,
   "metadata": {},
   "outputs": [
    {
     "data": {
      "text/plain": [
       "True"
      ]
     },
     "execution_count": 49,
     "metadata": {},
     "output_type": "execute_result"
    }
   ],
   "source": [
    "lon = (sta.loc[:,\"lon\"].values * 100).astype(np.int32)/100.0\n",
    "lat = (sta.loc[:,\"lat\"].values * 100).astype(np.int32)/100.0\n",
    "sta[\"lon\"] = lon\n",
    "sta[\"lat\"] = lat\n",
    "meb.write_stadata_to_micaps3(sta,path)"
   ]
  },
  {
   "cell_type": "code",
   "execution_count": 43,
   "metadata": {},
   "outputs": [
    {
     "data": {
      "text/plain": [
       "array([122.51, 122.37, 124.71, ...,  81.63,  81.42,  81.4 ])"
      ]
     },
     "execution_count": 43,
     "metadata": {},
     "output_type": "execute_result"
    }
   ],
   "source": []
  },
  {
   "cell_type": "code",
   "execution_count": null,
   "metadata": {},
   "outputs": [],
   "source": []
  }
 ],
 "metadata": {
  "kernelspec": {
   "display_name": "Python 3",
   "language": "python",
   "name": "python3"
  },
  "language_info": {
   "codemirror_mode": {
    "name": "ipython",
    "version": 3
   },
   "file_extension": ".py",
   "mimetype": "text/x-python",
   "name": "python",
   "nbconvert_exporter": "python",
   "pygments_lexer": "ipython3",
   "version": "3.7.1"
  }
 },
 "nbformat": 4,
 "nbformat_minor": 2
}
