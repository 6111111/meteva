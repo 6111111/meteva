{
 "cells": [
  {
   "cell_type": "code",
   "execution_count": 2,
   "metadata": {},
   "outputs": [],
   "source": [
    "%matplotlib inline\n",
    "%load_ext autoreload\n",
    "%autoreload 2\n",
    "import meteva.method as mem\n",
    "import numpy as np"
   ]
  },
  {
   "cell_type": "markdown",
   "metadata": {},
   "source": [
    "***通过随机函数生成测试数据，用于后续检验函数调用示例***"
   ]
  },
  {
   "cell_type": "code",
   "execution_count": 3,
   "metadata": {},
   "outputs": [],
   "source": [
    "ob = np.random.rand(1000,10)\n",
    "fo1 = np.random.rand(1000,10) \n",
    "fo2 = np.random.rand(5,1000,10)"
   ]
  },
  {
   "cell_type": "markdown",
   "metadata": {},
   "source": [
    "### 检验样本数   \n",
    "**sample_count(Ob, Fo)**  \n",
    "计算检验的样本数  \n",
    "  \n",
    "**参数说明：**  \n",
    " Ob:实况数据, 任意维numpy数组   \n",
    " Fo:预测数据, None或任意数据，它的存在是为了使得参数规范化，方便更高级的封装    \n",
    " return: 整数  \n",
    " **调用示例：**  "
   ]
  },
  {
   "cell_type": "code",
   "execution_count": 4,
   "metadata": {
    "scrolled": true
   },
   "outputs": [
    {
     "data": {
      "text/plain": [
       "10000"
      ]
     },
     "execution_count": 4,
     "metadata": {},
     "output_type": "execute_result"
    }
   ],
   "source": [
    "mem.sample_count(ob,fo1)"
   ]
  },
  {
   "cell_type": "markdown",
   "metadata": {},
   "source": [
    "### 观测数据均值   \n",
    "**ob_mean(Ob, Fo)**  \n",
    "计算两组数据的误差平均值  \n",
    "  \n",
    "**参数说明：**  \n",
    " Ob:实况数据, 任意维numpy数组   \n",
    " Fo:预报数据，None或任意数据，它的存在是为了使得参数规范化，方便更高级的封装  \n",
    " return: 实数  \n",
    " **调用示例：**"
   ]
  },
  {
   "cell_type": "code",
   "execution_count": 5,
   "metadata": {},
   "outputs": [
    {
     "data": {
      "text/plain": [
       "0.504785384985688"
      ]
     },
     "execution_count": 5,
     "metadata": {},
     "output_type": "execute_result"
    }
   ],
   "source": [
    "mem.ob_mean(ob,fo1)"
   ]
  },
  {
   "cell_type": "markdown",
   "metadata": {},
   "source": [
    "### 预报数据均值   \n",
    "**fo_mean(Ob, Fo)**  \n",
    "计算两组数据的误差平均值  \n",
    "  \n",
    "**参数说明：**  \n",
    " Ob:实况数据, None或任意数据，它的存在是为了使得参数规范化，方便更高级的封装   \n",
    " Fo:预报数据，任意维numpy数组     \n",
    " return: 实数  \n",
    " **调用示例：**"
   ]
  },
  {
   "cell_type": "code",
   "execution_count": 6,
   "metadata": {},
   "outputs": [
    {
     "data": {
      "text/plain": [
       "array(0.56287349)"
      ]
     },
     "execution_count": 6,
     "metadata": {},
     "output_type": "execute_result"
    }
   ],
   "source": [
    "mem.fo_mean(ob,fo1)"
   ]
  },
  {
   "cell_type": "code",
   "execution_count": 7,
   "metadata": {},
   "outputs": [
    {
     "data": {
      "text/plain": [
       "array([0.50051211, 0.49722625, 0.50038759, 0.50205257, 0.49948896])"
      ]
     },
     "execution_count": 7,
     "metadata": {},
     "output_type": "execute_result"
    }
   ],
   "source": [
    "mem.fo_mean(ob,fo2)"
   ]
  },
  {
   "cell_type": "markdown",
   "metadata": {},
   "source": [
    "### 准确率   \n",
    "**correct_rate(Ob,Fo,threshold)**  \n",
    "根据设定的阈值，计算两组数据的误差绝对值小于阈值的比例  \n",
    "  \n",
    "**参数说明：**  \n",
    " Ob:实况数据, 任意维numpy数组   \n",
    " Fo:预测数据, 任意维numpy数组,Fo.shape 比Ob.shape多一维或者保持一致，Fo.shape低维与ob.shape保持一致，最外维度任意   \n",
    " threshold:判断为准确的误差阈值，正实数      \n",
    " return: 一个array，元素是0到1的实数，最优值为1 ，array.shaop与Fo高出ob的那个维度一致，fo.shape与Ob.shape相同，shape为1  \n",
    " **调用示例：**"
   ]
  },
  {
   "cell_type": "code",
   "execution_count": 8,
   "metadata": {},
   "outputs": [
    {
     "data": {
      "text/plain": [
       "0.7498"
      ]
     },
     "execution_count": 8,
     "metadata": {},
     "output_type": "execute_result"
    }
   ],
   "source": [
    "mem.correct_rate(ob,fo1,0.5)"
   ]
  },
  {
   "cell_type": "code",
   "execution_count": 9,
   "metadata": {},
   "outputs": [
    {
     "data": {
      "text/plain": [
       "array([0.7526, 0.7473, 0.747 , 0.7446, 0.7491])"
      ]
     },
     "execution_count": 9,
     "metadata": {},
     "output_type": "execute_result"
    }
   ],
   "source": [
    "mem.correct_rate(ob,fo2,0.5)"
   ]
  },
  {
   "cell_type": "markdown",
   "metadata": {},
   "source": [
    "### 平均误差   \n",
    "**me(Ob, Fo)**  \n",
    "计算两组数据的误差平均值  \n",
    "  \n",
    "**参数说明：**  \n",
    " Ob:实况数据, 任意维numpy数组   \n",
    " Fo:预测数据, 任意维numpy数组,Fo.shape 比Ob.shape多一维或者保持一致，Fo.shape低维与ob.shape保持一致，最外维度任意   \n",
    " return:  一个array，元素是负无穷到正无穷的实数，最优值为0 ，array.shaop与Fo高出ob的那个维度一致，fo.shape与Ob.shape相同，shape为1    \n",
    " **调用示例：**"
   ]
  },
  {
   "cell_type": "code",
   "execution_count": 10,
   "metadata": {},
   "outputs": [
    {
     "data": {
      "text/plain": [
       "array(0.0580881)"
      ]
     },
     "execution_count": 10,
     "metadata": {},
     "output_type": "execute_result"
    }
   ],
   "source": [
    "mem.me(ob,fo1)"
   ]
  },
  {
   "cell_type": "code",
   "execution_count": 11,
   "metadata": {},
   "outputs": [
    {
     "data": {
      "text/plain": [
       "array([-0.00427327, -0.00755913, -0.00439779, -0.00273281, -0.00529643])"
      ]
     },
     "execution_count": 11,
     "metadata": {},
     "output_type": "execute_result"
    }
   ],
   "source": [
    "mem.me(ob,fo2)"
   ]
  },
  {
   "cell_type": "markdown",
   "metadata": {},
   "source": [
    "### 平均绝对误差  \n",
    "mae(Ob,Fo)  \n",
    "计算两组数据平均绝对值误差  \n",
    "  \n",
    "**参数说明：**  \n",
    " Ob:实况数据, 任意维numpy数组   \n",
    " Fo: 任意维numpy数组,Fo.shape 比Ob.shape多一维或者保持一致，Fo.shape低维与ob.shape保持一致，最外维度任意     \n",
    " return: 一个array，元素是0到正无穷的实数，最优值为0 ，array.shaop与Fo高出ob的那个维度一致，fo.shape与Ob.shape相同，shape为1     \n",
    " **调用示例：**"
   ]
  },
  {
   "cell_type": "code",
   "execution_count": 12,
   "metadata": {},
   "outputs": [
    {
     "data": {
      "text/plain": [
       "array(0.31803065)"
      ]
     },
     "execution_count": 12,
     "metadata": {},
     "output_type": "execute_result"
    }
   ],
   "source": [
    "mem.mae(ob,fo1)"
   ]
  },
  {
   "cell_type": "code",
   "execution_count": 13,
   "metadata": {},
   "outputs": [
    {
     "data": {
      "text/plain": [
       "array([0.33254207, 0.33482877, 0.3374874 , 0.33627232, 0.33438237])"
      ]
     },
     "execution_count": 13,
     "metadata": {},
     "output_type": "execute_result"
    }
   ],
   "source": [
    "mem.mae(ob,fo2)"
   ]
  },
  {
   "cell_type": "markdown",
   "metadata": {},
   "source": [
    "### 均方误差  \n",
    "**mse(Ob,Fo)**   \n",
    "计算两组数据误差平方的平均  \n",
    "  \n",
    "***参数说明：***  \n",
    " Ob:实况数据, 任意维numpy数组  \n",
    " Fo:任意维numpy数组,Fo.shape 比Ob.shape多一维或者保持一致，Fo.shape低维与ob.shape保持一致，最外维度任意    \n",
    " return:一个array，元素是0到正无穷的实数，最优值为0 ，array.shaop与Fo高出ob的那个维度一致，fo.shape与Ob.shape相同，shape为1   \n",
    "***调用示例：***   "
   ]
  },
  {
   "cell_type": "code",
   "execution_count": 14,
   "metadata": {},
   "outputs": [
    {
     "data": {
      "text/plain": [
       "array(0.15212797)"
      ]
     },
     "execution_count": 14,
     "metadata": {},
     "output_type": "execute_result"
    }
   ],
   "source": [
    "mem.mse(ob,fo1)"
   ]
  },
  {
   "cell_type": "code",
   "execution_count": 15,
   "metadata": {},
   "outputs": [
    {
     "data": {
      "text/plain": [
       "array([0.16663361, 0.16796875, 0.16964944, 0.16900404, 0.16869188])"
      ]
     },
     "execution_count": 15,
     "metadata": {},
     "output_type": "execute_result"
    }
   ],
   "source": [
    "mem.mse(ob,fo2)"
   ]
  },
  {
   "cell_type": "markdown",
   "metadata": {},
   "source": [
    "### 均方根误差  \n",
    "**rmse(Ob,Fo)**  \n",
    "计算两组数据的均方根误差  \n",
    "\n",
    "**参数说明：**  \n",
    " Ob:实况数据, 任意维numpy数组  \n",
    " Fo:任意维numpy数组,Fo.shape 比Ob.shape多一维或者保持一致，Fo.shape低维与ob.shape保持一致，最外维度任意      \n",
    " return: 一个array，元素是0到正无穷的实数，最优值为0 ，array.shaop与Fo高出ob的那个维度一致，fo.shape与Ob.shape相同，shape为1     \n",
    "**调用示例：**   "
   ]
  },
  {
   "cell_type": "code",
   "execution_count": 16,
   "metadata": {},
   "outputs": [
    {
     "data": {
      "text/plain": [
       "array(0.15212797)"
      ]
     },
     "execution_count": 16,
     "metadata": {},
     "output_type": "execute_result"
    }
   ],
   "source": [
    "mem.rmse(ob,fo1)"
   ]
  },
  {
   "cell_type": "code",
   "execution_count": 17,
   "metadata": {},
   "outputs": [
    {
     "data": {
      "text/plain": [
       "array([0.16663361, 0.16796875, 0.16964944, 0.16900404, 0.16869188])"
      ]
     },
     "execution_count": 17,
     "metadata": {},
     "output_type": "execute_result"
    }
   ],
   "source": [
    "mem.rmse(ob,fo2)"
   ]
  },
  {
   "cell_type": "markdown",
   "metadata": {},
   "source": [
    "### 均值偏差  \n",
    "**bias_m(Ob,Fo)**  \n",
    "计算两组数据的平均值之比  \n",
    "  \n",
    "**参数说明：**  \n",
    " Ob:实况数据, 任意维numpy数组  \n",
    " Fo:任意维numpy数组,Fo.shape 比Ob.shape多一维或者保持一致，Fo.shape低维与ob.shape保持一致，最外维度任意   \n",
    " return:一个array，元素是0到正无穷的实数，最优值为1 ，array.shaop与Fo高出ob的那个维度一致，fo.shape与Ob.shape相同，shape为1    \n",
    "**调用示例：**   "
   ]
  },
  {
   "cell_type": "code",
   "execution_count": 18,
   "metadata": {
    "scrolled": true
   },
   "outputs": [
    {
     "data": {
      "text/plain": [
       "array(1.11507485)"
      ]
     },
     "execution_count": 18,
     "metadata": {},
     "output_type": "execute_result"
    }
   ],
   "source": [
    "mem.bias_m(ob,fo1)"
   ]
  },
  {
   "cell_type": "code",
   "execution_count": 19,
   "metadata": {},
   "outputs": [
    {
     "data": {
      "text/plain": [
       "array([0.99153448, 0.98502506, 0.9912878 , 0.99458619, 0.98950757])"
      ]
     },
     "execution_count": 19,
     "metadata": {},
     "output_type": "execute_result"
    }
   ],
   "source": [
    "mem.bias_m(ob,fo2)"
   ]
  },
  {
   "cell_type": "markdown",
   "metadata": {},
   "source": [
    "### 相关系数  \n",
    "**corr(Ob,Fo)**    \n",
    "计算两组数据的平均值之比  \n",
    "  \n",
    "**参数说明：**  \n",
    " Ob:实况数据, 任意维numpy数组  \n",
    " Fo:任意维numpy数组,Fo.shape 比Ob.shape多一维或者保持一致，Fo.shape低维与ob.shape保持一致，最外维度任意     \n",
    " return:一个array，元素是-1到1的实数，最优值为1 ，array.shaop与Fo高出ob的那个维度一致，fo.shape与Ob.shape相同，shape为1   \n",
    "**调用示例：**   "
   ]
  },
  {
   "cell_type": "code",
   "execution_count": 20,
   "metadata": {
    "scrolled": true
   },
   "outputs": [
    {
     "data": {
      "text/plain": [
       "-0.0006430268238744731"
      ]
     },
     "execution_count": 20,
     "metadata": {},
     "output_type": "execute_result"
    }
   ],
   "source": [
    "mem.corr(ob,fo1)"
   ]
  },
  {
   "cell_type": "code",
   "execution_count": 21,
   "metadata": {
    "scrolled": true
   },
   "outputs": [
    {
     "data": {
      "text/plain": [
       "array([ 0.01304774, -0.00447674, -0.00733343, -0.0135723 , -0.00783854])"
      ]
     },
     "execution_count": 21,
     "metadata": {},
     "output_type": "execute_result"
    }
   ],
   "source": [
    "mem.corr(ob,fo2)"
   ]
  },
  {
   "cell_type": "markdown",
   "metadata": {},
   "source": [
    "### 定量相对误差\n",
    "**mre(Ob,Fo)**  \n",
    "对每一对观测和预报不同时为0的数据计算（预报-观测）/(预报+观测）取绝对值后再做平均\n",
    "  \n",
    "**参数说明：**  \n",
    " Ob:实况数据, 任意维numpy数组  \n",
    " Fo:任意维numpy数组,Fo.shape 比Ob.shape多一维或者保持一致，Fo.shape低维与ob.shape保持一致，最外维度任意    \n",
    " return:  一个array，元素是0到1的实数，最优值为0  ，array.shaop与Fo高出ob的那个维度一致，fo.shape与Ob.shape相同，shape为1   \n",
    "**调用示例：**   "
   ]
  },
  {
   "cell_type": "code",
   "execution_count": 22,
   "metadata": {
    "scrolled": true
   },
   "outputs": [
    {
     "data": {
      "text/plain": [
       "array(0.44631876)"
      ]
     },
     "execution_count": 22,
     "metadata": {},
     "output_type": "execute_result"
    }
   ],
   "source": [
    "mem.mre(ob,fo1)"
   ]
  },
  {
   "cell_type": "code",
   "execution_count": 23,
   "metadata": {
    "scrolled": false
   },
   "outputs": [
    {
     "data": {
      "text/plain": [
       "array([0.38547978, 0.38544743, 0.38871505, 0.38596787, 0.38467072])"
      ]
     },
     "execution_count": 23,
     "metadata": {},
     "output_type": "execute_result"
    }
   ],
   "source": [
    "mem.mre(ob,fo2)"
   ]
  },
  {
   "cell_type": "markdown",
   "metadata": {},
   "source": [
    "### 纳什系数\n",
    "**nse(Ob,Fo)**    \n",
    "水文中常用的降水检验方法，计算方法为：1 - 均方误差/观测方差  \n",
    "  \n",
    "**参数说明：**  \n",
    " Ob:实况数据, 任意维numpy数组  \n",
    " Fo:任意维numpy数组,Fo.shape 比Ob.shape多一维或者保持一致，Fo.shape低维与ob.shape保持一致，最外维度任意   \n",
    " return:一个array，元素是负无穷到1的实数，最优值为1，Fo.shape 比Ob.shape多一维时array.shaop与Fo高出ob的那个维度一致，fo.shape与Ob.shape相同时shape为1  \n",
    "**调用示例：**   "
   ]
  },
  {
   "cell_type": "code",
   "execution_count": 24,
   "metadata": {},
   "outputs": [
    {
     "data": {
      "text/plain": [
       "array(-0.97894917)"
      ]
     },
     "execution_count": 24,
     "metadata": {},
     "output_type": "execute_result"
    }
   ],
   "source": [
    "mem.nse(ob,fo1)"
   ]
  },
  {
   "cell_type": "code",
   "execution_count": 25,
   "metadata": {},
   "outputs": [
    {
     "data": {
      "text/plain": [
       "array([-0.98076518, -0.99663582, -1.01661414, -1.00894228, -1.00523165])"
      ]
     },
     "execution_count": 25,
     "metadata": {},
     "output_type": "execute_result"
    }
   ],
   "source": [
    "mem.nse(ob,fo2)"
   ]
  },
  {
   "cell_type": "markdown",
   "metadata": {},
   "source": [
    "在以上示例中，观测和预报的数据都直接输入到评分函数中进行计算，然而有些情况下待检验的数据太大不能整体存入一个numpy数组中，或者不方便整体存入一个numpy数组中，此时就不能调用上面的方式调用评分函数。为此本程序库设计了一套可分块计算的检验程序。  \n",
    "其检验步骤如下：  \n",
    "***步骤1：根据需要将分块数据逐一输入到中间结果计算函数***  \n",
    "***步骤2：将中间结果进行累加或合并***  \n",
    "***步骤3：根据累加或合并的中间结果计算检验指标***  \n",
    "通常上述计算中步骤1是最耗费计算资源，为了提高效率步骤1也可以采用**并行**的方式执行。此外，步骤1执行的结果也可**输出到文件**中，在后续的检验可以从中读入部分中间结果执行后续步骤，从而可以实现各种方式的分组检验，大大提高检验计算效率。"
   ]
  },
  {
   "cell_type": "markdown",
   "metadata": {},
   "source": [
    "### 总样本数、正确的样本数   \n",
    "**tc_count(Ob,Fo，threshold)**  \n",
    "用来计算me、mae、mse、rmse、nse等检验指标的中间量  \n",
    "**参数说明：**  \n",
    " Ob:实况数据, 任意维numpy数组  \n",
    " Fo:任意维numpy数组,Fo.shape 比Ob.shape多一维或者保持一致，Fo.shape低维与ob.shape保持一致，最外维度任意  \n",
    " threshold:判断为准确的误差阈值，正实数    \n",
    " return: 一个array，Fo.shape 比Ob.shape多一维时，array.shaop= (Fo高出ob的那个维度，2),fo.shape与Ob.shape相同是array.shaop=(2,),其内容依次为总样本数、正确的样本数   \n",
    " \n",
    "### 总样本数、误差总和、绝对误差总、误差平方总和   \n",
    "**tase(Ob,Fo)**  \n",
    "用来计算me、mae、mse、rmse、nse等检验指标的中间量  \n",
    "**参数说明：**  \n",
    " Ob:实况数据, 任意维numpy数组  \n",
    " Fo:任意维numpy数组,Fo.shape 比Ob.shape多一维或者保持一致，Fo.shape低维与ob.shape保持一致，最外维度任意    \n",
    " return: 一个array，Fo.shape 比Ob.shape多一维时，array.shaop= (Fo高出ob的那个维度，4),fo.shape与Ob.shape相同是array.shaop=(4,),其内容依次为总样本数、误差总和、绝对误差总和、误差平方总和   \n",
    "   \n",
    "\n",
    "### 预报和观测值之和大于0样本数、相对误差绝对值综合\n",
    "**toar(Ob,Fo)**  \n",
    "用来计算mre等检验指标的中间量  \n",
    "**参数说明：**  \n",
    " Ob:实况数据, 任意维numpy数组  \n",
    " Fo:任意维numpy数组,Fo.shape 比Ob.shape多一维或者保持一致，Fo.shape低维与ob.shape保持一致，最外维度任意    \n",
    " return: 一个array，Fo.shape 比Ob.shape多一维时，array.shaop= (Fo高出ob的那个维度，2),fo.shape与Ob.shape相同是array.shaop=(2,),其内容依次为预报和观测值之和大于0样本数、相对误差绝对值总和   \n",
    "   \n",
    "### 样本数、观测平均值、预报平均值、观测方差、预报方差_协方差\n",
    "**tmmsss(Ob,Fo)**   \n",
    "用来计算bias、corr、nse等检验指标的中间量  \n",
    "**参数说明：**  \n",
    " Ob:实况数据, 任意维numpy数组  \n",
    " Fo:任意维numpy数组,Fo.shape 比Ob.shape多一维或者保持一致，Fo.shape低维与ob.shape保持一致，最外维度任意     \n",
    " return:  一个array，Fo.shape 比Ob.shape多一维时，array.shaop= (Fo高出ob的那个维度，6),fo.shape与Ob.shape相同是array.shaop=(6,)，其内容依次为样本数、观测平均值、预报平均值、观测方差、预报方差、协方差   \n",
    "### tmmsss合并函数\n",
    "**tmmsss_merge(tmmsss0,tmmsss1)**  \n",
    "用来将tmmsss计算得到的分块中间统计量进行合并，得到两块数据并集对应的统计量   \n",
    "**参数说明：**  \n",
    " tmmsss0: 任意维numpy数组，最内层维度分别记录了（count,mx,my,sxx,syy,sxy）,tmmsss0.shape = tmmsss1.shape     \n",
    " tmmsss1: 任意维numpy数组，最内层维度分别记录了（count,mx,my,sxx,syy,sxy）,tmmsss0.shape = tmmsss1.shape    \n",
    " return: 长度6的一维数组，分别记录了（count,mx,my,sxx,syy,sxy）  \n",
    "   \n",
    " **调用示例：**"
   ]
  },
  {
   "cell_type": "code",
   "execution_count": 28,
   "metadata": {},
   "outputs": [],
   "source": [
    "tase_array1 = np.zeros(4)            #声明长度为4的数组存储最终合并后的中间统计量\n",
    "tms_array1 = np.zeros(6)          #声明长度为6的数组存储最终合并后的中间统计量\n",
    "toar_array1 = np.zeros(2)            #声明长度为2的数组存储最终合并后的中间统计量\n",
    "tc_array1 = np.zeros(2)\n",
    "for i in range(ob.shape[1]):\n",
    "    ob1 = ob[:,i]                   #获取分块数据\n",
    "    fo_piece1 = fo1[:,i]\n",
    "    tase1 = mem.tase(ob1,fo_piece1)           #调用函数计算分块数据的中间统计量\n",
    "    tase_array1 += tase1             #通过数组累加可直接获得tase的合并结果\n",
    "    tms1 = mem.tmmsss(ob1,fo_piece1)                   #调用函数计算分块数据的中间统计量\n",
    "    tms_array1 = mem.tmmsss_merge(tms_array1,tms1) #需调用合并函数获得tmmsss的合并结果\n",
    "    toar1 = mem.toar(ob1,fo_piece1)              #调用函数计算分块数据的中间统计量\n",
    "    toar_array1 += toar1                #通过数组累加可直接获得tase的合并结果\n",
    "    tc1 = mem.tc_count(ob1,fo_piece1,0.5)   #调用函数计算分块数据的中间统计量\n",
    "    tc_array1  += tc1    #通过数组累加可直接获得tc_count的合并结果"
   ]
  },
  {
   "cell_type": "code",
   "execution_count": 35,
   "metadata": {},
   "outputs": [],
   "source": [
    "tase_array2 = np.zeros((5,4))            #声明长度为4的数组存储最终合并后的中间统计量\n",
    "tms_array2 = np.zeros((5,6))          #声明长度为6的数组存储最终合并后的中间统计量)\n",
    "toar_array2 = np.zeros((5,2))            #声明长度为2的数组存储最终合并后的中间统计量)\n",
    "tc_array2 = np.zeros((5,2))\n",
    "for i in range(ob.shape[1]):\n",
    "    ob1 = ob[:,i]                   #获取分块数据\n",
    "    fo_piece2 = fo2[...,i]\n",
    "    \n",
    "    tase1 = mem.tase(ob1,fo_piece2)           #调用函数计算分块数据的中间统计量\n",
    "    tase_array2 += tase1             #通过数组累加可直接获得tase的合并结果\n",
    "    tms1 = mem.tmmsss(ob1,fo_piece2)                   #调用函数计算分块数据的中间统计量\n",
    "    tms_array2 = mem.tmmsss_merge(tms_array2,tms1) #需调用合并函数获得tmmsss的合并结果\n",
    "    toar1 = mem.toar(ob1,fo_piece2)              #调用函数计算分块数据的中间统计量\n",
    "    toar_array2 += toar1                #通过数组累加可直接获得tase的合并结果\n",
    "    tc1 = mem.tc_count(ob1,fo_piece2,0.5)   #调用函数计算分块数据的中间统计量\n",
    "    tc_array2  += tc1    #通过数组累加可直接获得tc_count的合并结果"
   ]
  },
  {
   "cell_type": "markdown",
   "metadata": {},
   "source": [
    "**以下为根据合并后的中间统计量计算最终检验指标的函数：**\n",
    "\n",
    "### 准确率   \n",
    "**correct_rate_tc(tc_count_array)**  \n",
    "计算两组数据误差小于阈值的比例  \n",
    "  \n",
    "**参数说明：**  \n",
    " tc_count_array:包含总样本数和正确样本数的多维数组，其中最后一维长度为2，分别记录了总样本数和正确样本数  \n",
    " return: numpy数组，其中每个元素为0到1的实数，最优值为1  \n",
    "**调用示例：**"
   ]
  },
  {
   "cell_type": "code",
   "execution_count": 36,
   "metadata": {},
   "outputs": [
    {
     "data": {
      "text/plain": [
       "0.7498"
      ]
     },
     "execution_count": 36,
     "metadata": {},
     "output_type": "execute_result"
    }
   ],
   "source": [
    "mem.correct_rate_tc(tc_array1)"
   ]
  },
  {
   "cell_type": "code",
   "execution_count": 37,
   "metadata": {},
   "outputs": [
    {
     "data": {
      "text/plain": [
       "array([0.7526, 0.7473, 0.747 , 0.7446, 0.7491])"
      ]
     },
     "execution_count": 37,
     "metadata": {},
     "output_type": "execute_result"
    }
   ],
   "source": [
    "mem.correct_rate_tc(tc_array2)"
   ]
  },
  {
   "cell_type": "markdown",
   "metadata": {},
   "source": [
    "### 平均误差   \n",
    "**me_tase(tase_array)**  \n",
    "计算两组数据的误差平均值  \n",
    "  \n",
    "**参数说明：**  \n",
    " tase_array:包含命中空报和漏报的多维数组，其中最后一维长度为4，分别记录了样本数，误差和、绝对误差和，误差平方和  \n",
    " return: numpy数组，其中每个元素为负无穷到正无穷的实数，最优值为0  \n",
    "**调用示例：**"
   ]
  },
  {
   "cell_type": "code",
   "execution_count": 39,
   "metadata": {},
   "outputs": [
    {
     "data": {
      "text/plain": [
       "-0.0007945679396820131"
      ]
     },
     "execution_count": 39,
     "metadata": {},
     "output_type": "execute_result"
    }
   ],
   "source": [
    "mem.me_tase(tase_array1) "
   ]
  },
  {
   "cell_type": "code",
   "execution_count": 38,
   "metadata": {},
   "outputs": [
    {
     "data": {
      "text/plain": [
       "array([-0.00427327, -0.00755913, -0.00439779, -0.00273281, -0.00529643])"
      ]
     },
     "execution_count": 38,
     "metadata": {},
     "output_type": "execute_result"
    }
   ],
   "source": [
    "mem.me_tase(tase_array2) "
   ]
  },
  {
   "cell_type": "markdown",
   "metadata": {},
   "source": [
    "### 平均绝对误差   \n",
    "**mae_tase(tase_array)**   \n",
    "计算两组数据平均绝对值误差 \n",
    "  \n",
    "**参数说明：**  \n",
    " tase_array:包含命中空报和漏报的多维数组，其中最后一维长度为4，分别记录了样本数，误差和、绝对误差和，误差平方和  \n",
    " return: numpy数组，其中每个元素为0到正无穷的实数，最优值为0  \n",
    " **调用示例：**"
   ]
  },
  {
   "cell_type": "code",
   "execution_count": 40,
   "metadata": {},
   "outputs": [
    {
     "data": {
      "text/plain": [
       "0.33409602140336236"
      ]
     },
     "execution_count": 40,
     "metadata": {},
     "output_type": "execute_result"
    }
   ],
   "source": [
    "mem.mae_tase(tase_array1)"
   ]
  },
  {
   "cell_type": "code",
   "execution_count": 41,
   "metadata": {},
   "outputs": [
    {
     "data": {
      "text/plain": [
       "array([0.33254207, 0.33482877, 0.3374874 , 0.33627232, 0.33438237])"
      ]
     },
     "execution_count": 41,
     "metadata": {},
     "output_type": "execute_result"
    }
   ],
   "source": [
    "mem.mae_tase(tase_array2)"
   ]
  },
  {
   "cell_type": "markdown",
   "metadata": {},
   "source": [
    "### 均方误差   \n",
    "**mse_tase(tase_array)**   \n",
    "计算两组数据均方误差 \n",
    "  \n",
    "**参数说明：**  \n",
    " tase_array:包含命中空报和漏报的多维数组，其中最后一维长度为4，分别记录了样本数，误差和、绝对误差和，误差平方和  \n",
    " return: numpy数组，其中每个元素为0到正无穷的实数，最优值为0  \n",
    "**调用示例：**"
   ]
  },
  {
   "cell_type": "code",
   "execution_count": 42,
   "metadata": {},
   "outputs": [
    {
     "data": {
      "text/plain": [
       "0.16648084107075853"
      ]
     },
     "execution_count": 42,
     "metadata": {},
     "output_type": "execute_result"
    }
   ],
   "source": [
    "mem.mse_tase(tase_array1)"
   ]
  },
  {
   "cell_type": "code",
   "execution_count": 43,
   "metadata": {},
   "outputs": [
    {
     "data": {
      "text/plain": [
       "array([0.16663361, 0.16796875, 0.16964944, 0.16900404, 0.16869188])"
      ]
     },
     "execution_count": 43,
     "metadata": {},
     "output_type": "execute_result"
    }
   ],
   "source": [
    "mem.mse_tase(tase_array2)"
   ]
  },
  {
   "cell_type": "markdown",
   "metadata": {},
   "source": [
    "### 平均绝对误差   \n",
    "**rmse_tase(tase_array)**   \n",
    "计算两组数据均方根误差 \n",
    "  \n",
    "**参数说明：**  \n",
    " tase_array:包含命中空报和漏报的多维数组，其中最后一维长度为4，分别记录了样本数，误差和、绝对误差和，误差平方和  \n",
    " return: numpy数组，其中每个元素为0到正无穷的实数，最优值为0  \n",
    "**调用示例：**"
   ]
  },
  {
   "cell_type": "code",
   "execution_count": 44,
   "metadata": {},
   "outputs": [
    {
     "data": {
      "text/plain": [
       "0.40802063804513433"
      ]
     },
     "execution_count": 44,
     "metadata": {},
     "output_type": "execute_result"
    }
   ],
   "source": [
    "mem.rmse_tase(tase_array1)"
   ]
  },
  {
   "cell_type": "code",
   "execution_count": 45,
   "metadata": {},
   "outputs": [
    {
     "data": {
      "text/plain": [
       "array([0.40820781, 0.4098399 , 0.41188523, 0.41110101, 0.41072117])"
      ]
     },
     "execution_count": 45,
     "metadata": {},
     "output_type": "execute_result"
    }
   ],
   "source": [
    "mem.rmse_tase(tase_array2)"
   ]
  },
  {
   "cell_type": "markdown",
   "metadata": {},
   "source": [
    "### 均值偏差   \n",
    "**bias_cmmsss(cmmsss_array)**\n",
    "计算求预测数据和实况数据的平均值之比\n",
    "  \n",
    "**参数说明：**  \n",
    " tase_array:包含命中空报和漏报的多维数组，其中最后一维长度为6，\n",
    "        分别记录了样本数、观测平均值、预报平均值、观测方差、预报方差、协方差  \n",
    " return: numpy数组，其中每个元素为0到正无穷，最优值为1  \n",
    " **调用示例：**"
   ]
  },
  {
   "cell_type": "code",
   "execution_count": 46,
   "metadata": {},
   "outputs": [
    {
     "data": {
      "text/plain": [
       "0.9984259291902745"
      ]
     },
     "execution_count": 46,
     "metadata": {},
     "output_type": "execute_result"
    }
   ],
   "source": [
    "mem.bias_tmmsss(tms_array1)"
   ]
  },
  {
   "cell_type": "code",
   "execution_count": 47,
   "metadata": {},
   "outputs": [
    {
     "data": {
      "text/plain": [
       "array([1.0085378 , 1.0152026 , 1.00878877, 1.00544328, 1.01060369])"
      ]
     },
     "execution_count": 47,
     "metadata": {},
     "output_type": "execute_result"
    }
   ],
   "source": [
    "mem.bias_tmmsss(tms_array2)"
   ]
  },
  {
   "cell_type": "markdown",
   "metadata": {},
   "source": [
    "### 相关系数   \n",
    "**corr_tmmsss(tmmsss_array)**  \n",
    "计算求预测数据和实况数据的平均值之比\n",
    "  \n",
    "**参数说明：**  \n",
    " tmmsss_array:包含命中空报和漏报的多维数组，其中最后一维长度为6，\n",
    "        分别记录了样本数、观测平均值、预报平均值、观测方差、预报方差、协方差  \n",
    " return: numpy数组，其中每个元素为-1到1的实数，最优值为1  \n",
    "**调用示例：**"
   ]
  },
  {
   "cell_type": "code",
   "execution_count": 48,
   "metadata": {},
   "outputs": [
    {
     "data": {
      "text/plain": [
       "-0.0006430268238744759"
      ]
     },
     "execution_count": 48,
     "metadata": {},
     "output_type": "execute_result"
    }
   ],
   "source": [
    "mem.corr_tmmsss(tms_array1)"
   ]
  },
  {
   "cell_type": "code",
   "execution_count": 49,
   "metadata": {},
   "outputs": [
    {
     "data": {
      "text/plain": [
       "array([ 0.01304774, -0.00447674, -0.00733343, -0.0135723 , -0.00783854])"
      ]
     },
     "execution_count": 49,
     "metadata": {},
     "output_type": "execute_result"
    }
   ],
   "source": [
    "mem.corr_tmmsss(tms_array2)"
   ]
  },
  {
   "cell_type": "markdown",
   "metadata": {},
   "source": [
    "### 定量相对误差     \n",
    "**mre_toar(toar_array)**  \n",
    "对每一对观测和预报不同时为0的数据计算（预报-观测）/(预报+观测）取绝对值后再做平均\n",
    "  \n",
    "**参数说明：**  \n",
    " toar_array:包含命中空报和漏报的多维数组，其中最后一维长度为2，\n",
    "        其内容依次为预报和观测值之和大于0样本数、相对误差绝对值总和\n",
    " return: numpy数组，其中每个元素为0到1的实数，最优值为0    \n",
    "**调用示例：**"
   ]
  },
  {
   "cell_type": "code",
   "execution_count": 50,
   "metadata": {},
   "outputs": [
    {
     "data": {
      "text/plain": [
       "0.3843347366894413"
      ]
     },
     "execution_count": 50,
     "metadata": {},
     "output_type": "execute_result"
    }
   ],
   "source": [
    "mem.mre_toar(toar_array1)"
   ]
  },
  {
   "cell_type": "code",
   "execution_count": 51,
   "metadata": {},
   "outputs": [
    {
     "data": {
      "text/plain": [
       "array([0.38547978, 0.38544743, 0.38871505, 0.38596787, 0.38467072])"
      ]
     },
     "execution_count": 51,
     "metadata": {},
     "output_type": "execute_result"
    }
   ],
   "source": [
    "mem.mre_toar(toar_array2)"
   ]
  },
  {
   "cell_type": "markdown",
   "metadata": {},
   "source": [
    "### 纳什系数    \n",
    "**nse_tase_tmmsss(tase_array,tmmsss_array)**  \n",
    "水文中常用的降水检验方法，计算方法为：1 - 均方误差/观测方差  \n",
    "  \n",
    "**参数说明：**  \n",
    " tase_array:包含命中空报和漏报的多维数组，其中最后一维长度为4，分别记录了样本数，误差和、绝对误差和，误差平方和  \n",
    " cmmsss_array:包含命中空报和漏报的多维数组，其中最后一维长度为6，分别记录了样本数、观测平均值、预报平均值、观测方差、预报方差、协方差   \n",
    " return: numpy数组，其中每个元素为0到1的实数，最优值为0    \n",
    "**调用示例：**"
   ]
  },
  {
   "cell_type": "code",
   "execution_count": 52,
   "metadata": {},
   "outputs": [
    {
     "data": {
      "text/plain": [
       "-0.978949167954428"
      ]
     },
     "execution_count": 52,
     "metadata": {},
     "output_type": "execute_result"
    }
   ],
   "source": [
    "mem.nse_tase_tmmsss(tase_array1,tms_array1)"
   ]
  },
  {
   "cell_type": "code",
   "execution_count": 53,
   "metadata": {},
   "outputs": [
    {
     "data": {
      "text/plain": [
       "array([-0.98076518, -0.99663582, -1.01661414, -1.00894228, -1.00523165])"
      ]
     },
     "execution_count": 53,
     "metadata": {},
     "output_type": "execute_result"
    }
   ],
   "source": [
    "mem.nse_tase_tmmsss(tase_array2,tms_array2)"
   ]
  },
  {
   "cell_type": "markdown",
   "metadata": {},
   "source": [
    "以上只是展示了分类检验的维度为1的情况，实际上上述思路可以扩展至任意高维的情况。熟练使用中间统计量计算和合并方法，基于中间统计量整体计算分类问题下的检验指标数组，是提高代码编写效果的关键。上述检验函数的内部也都采用了numpy的整体计算方式实现，在计算效率上进行了最大程度的优化。"
   ]
  },
  {
   "cell_type": "code",
   "execution_count": null,
   "metadata": {},
   "outputs": [],
   "source": []
  }
 ],
 "metadata": {
  "kernelspec": {
   "display_name": "Python 3",
   "language": "python",
   "name": "python3"
  },
  "language_info": {
   "codemirror_mode": {
    "name": "ipython",
    "version": 3
   },
   "file_extension": ".py",
   "mimetype": "text/x-python",
   "name": "python",
   "nbconvert_exporter": "python",
   "pygments_lexer": "ipython3",
   "version": "3.7.1"
  }
 },
 "nbformat": 4,
 "nbformat_minor": 2
}
