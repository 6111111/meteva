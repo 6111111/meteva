{
 "cells": [
  {
   "cell_type": "code",
   "execution_count": 1,
   "metadata": {},
   "outputs": [],
   "source": [
    "%matplotlib inline\n",
    "%load_ext autoreload\n",
    "%autoreload 2\n",
    "import nmc_verification.nmc_vf_base as nvb"
   ]
  },
  {
   "cell_type": "code",
   "execution_count": 2,
   "metadata": {},
   "outputs": [
    {
     "name": "stdout",
     "output_type": "stream",
     "text": [
      "members:['data0']\n",
      "levels:[0]\n",
      "gtime:['20990101000000', '20990101000000', '1h']\n",
      "dtimes:[0, 'hour']\n",
      "glon:[100, 110.0, 1]\n",
      "glat:[20, 30.0, 1]\n",
      "\n"
     ]
    }
   ],
   "source": [
    "grid0 = nvb.grid([100,110,1],[20,30,1])\n",
    "print(grid0)"
   ]
  },
  {
   "cell_type": "code",
   "execution_count": 3,
   "metadata": {},
   "outputs": [],
   "source": [
    "grd = nvb.grid_data(grid0)"
   ]
  },
  {
   "cell_type": "code",
   "execution_count": 4,
   "metadata": {},
   "outputs": [
    {
     "name": "stdout",
     "output_type": "stream",
     "text": [
      "100\n"
     ]
    }
   ],
   "source": [
    "print(grid0.slon)"
   ]
  },
  {
   "cell_type": "code",
   "execution_count": 5,
   "metadata": {},
   "outputs": [
    {
     "name": "stdout",
     "output_type": "stream",
     "text": [
      "members:['data0']\n",
      "levels:[0]\n",
      "gtime:['20990101000000', '20990101000000', '1h']\n",
      "dtimes:[0, 'hour']\n",
      "glon:[100, 110.0, 1]\n",
      "glat:[20, 30.0, 1]\n",
      "\n",
      "<xarray.DataArray 'data0' (member: 1, level: 1, time: 1, dtime: 1, lat: 11, lon: 11)>\n",
      "array([[[[[[0., 0., 0., 0., 0., 0., 0., 0., 0., 0., 0.],\n",
      "           [0., 0., 0., 0., 0., 0., 0., 0., 0., 0., 0.],\n",
      "           [0., 0., 0., 0., 0., 0., 0., 0., 0., 0., 0.],\n",
      "           [0., 0., 0., 0., 0., 0., 0., 0., 0., 0., 0.],\n",
      "           [0., 0., 0., 0., 0., 0., 0., 0., 0., 0., 0.],\n",
      "           [0., 0., 0., 0., 0., 0., 0., 0., 0., 0., 0.],\n",
      "           [0., 0., 0., 0., 0., 0., 0., 0., 0., 0., 0.],\n",
      "           [0., 0., 0., 0., 0., 0., 0., 0., 0., 0., 0.],\n",
      "           [0., 0., 0., 0., 0., 0., 0., 0., 0., 0., 0.],\n",
      "           [0., 0., 0., 0., 0., 0., 0., 0., 0., 0., 0.],\n",
      "           [0., 0., 0., 0., 0., 0., 0., 0., 0., 0., 0.]]]]]])\n",
      "Coordinates:\n",
      "  * member   (member) <U5 'data0'\n",
      "  * level    (level) int32 0\n",
      "  * time     (time) datetime64[ns] 2099-01-01\n",
      "  * dtime    (dtime) int32 0\n",
      "  * lat      (lat) int32 20 21 22 23 24 25 26 27 28 29 30\n",
      "  * lon      (lon) int32 100 101 102 103 104 105 106 107 108 109 110\n",
      "Attributes:\n",
      "    dtime_type:  hour\n"
     ]
    }
   ],
   "source": [
    "print(grid0)\n",
    "print(grd)"
   ]
  },
  {
   "cell_type": "code",
   "execution_count": null,
   "metadata": {},
   "outputs": [],
   "source": []
  }
 ],
 "metadata": {
  "kernelspec": {
   "display_name": "Python 3",
   "language": "python",
   "name": "python3"
  },
  "language_info": {
   "codemirror_mode": {
    "name": "ipython",
    "version": 3
   },
   "file_extension": ".py",
   "mimetype": "text/x-python",
   "name": "python",
   "nbconvert_exporter": "python",
   "pygments_lexer": "ipython3",
   "version": "3.7.1"
  }
 },
 "nbformat": 4,
 "nbformat_minor": 2
}
