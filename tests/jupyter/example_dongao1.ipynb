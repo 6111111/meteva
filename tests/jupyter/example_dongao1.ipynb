{
 "cells": [
  {
   "cell_type": "code",
   "execution_count": 1,
   "metadata": {},
   "outputs": [],
   "source": [
    "import nmc_verification.nmc_vf_base as nvb\n",
    "import nmc_verification.nmc_vf_product as nvp\n",
    "import datetime\n",
    "import os\n",
    "import pandas as pd\n",
    "import numpy as np\n",
    "import matplotlib.colors as colors\n",
    "import matplotlib.pyplot as plt\n",
    "import copy\n",
    "import time"
   ]
  },
  {
   "cell_type": "code",
   "execution_count": 2,
   "metadata": {},
   "outputs": [
    {
     "ename": "NameError",
     "evalue": "name 'multi_time' is not defined",
     "output_type": "error",
     "traceback": [
      "\u001b[1;31m---------------------------------------------------------------------------\u001b[0m",
      "\u001b[1;31mNameError\u001b[0m                                 Traceback (most recent call last)",
      "\u001b[1;32m<ipython-input-2-aa7d251e8e68>\u001b[0m in \u001b[0;36m<module>\u001b[1;34m\u001b[0m\n\u001b[0;32m     12\u001b[0m     \u001b[1;34m\"temp_fo\"\u001b[0m\u001b[1;33m:\u001b[0m\u001b[1;34m\"temp_fo.txt\"\u001b[0m\u001b[1;33m\u001b[0m\u001b[1;33m\u001b[0m\u001b[0m\n\u001b[0;32m     13\u001b[0m }\n\u001b[1;32m---> 14\u001b[1;33m \u001b[0mmulti_time\u001b[0m\u001b[1;33m(\u001b[0m\u001b[0mpara\u001b[0m\u001b[1;33m)\u001b[0m\u001b[1;33m\u001b[0m\u001b[1;33m\u001b[0m\u001b[0m\n\u001b[0m",
      "\u001b[1;31mNameError\u001b[0m: name 'multi_time' is not defined"
     ]
    }
   ],
   "source": [
    "para ={\n",
    "    \"ip_port_file\":r\"H:\\test_data\\input\\nvb\\ip_port.txt\",\n",
    "    \"ob_dir\":r\"SURFACE/PLOT_10MIN_OLYMPIC/YYYYMMDDHH0000.000\",\n",
    "    \"fo_grd_dir_u\":r\"ECMWF_HR/UGRD/800/YYMMDDHH.TTT\",\n",
    "    \"fo_grd_dir_v\":r\"ECMWF_HR/VGRD/800/YYMMDDHH.TTT\",\n",
    "    \"max_dh\":120,\n",
    "    \"ddh\":3,\n",
    "    \"dfo\":12,\n",
    "    \"output_dir\": r\"H:\\task\\other\\201911-预报司-冬奥会检验\\冬奥观测数据\",\n",
    "    \"station_file\":\"station.txt\",\n",
    "    \"title\":\"EC_wind_800hPa_2min_3Hour\",\n",
    "    \"temp_fo\":\"temp_fo.txt\"\n",
    "}\n",
    "multi_time(para)"
   ]
  },
  {
   "cell_type": "code",
   "execution_count": null,
   "metadata": {},
   "outputs": [],
   "source": []
  }
 ],
 "metadata": {
  "kernelspec": {
   "display_name": "Python 3",
   "language": "python",
   "name": "python3"
  },
  "language_info": {
   "codemirror_mode": {
    "name": "ipython",
    "version": 3
   },
   "file_extension": ".py",
   "mimetype": "text/x-python",
   "name": "python",
   "nbconvert_exporter": "python",
   "pygments_lexer": "ipython3",
   "version": "3.7.1"
  }
 },
 "nbformat": 4,
 "nbformat_minor": 2
}
