{
 "cells": [
  {
   "cell_type": "code",
   "execution_count": 1,
   "metadata": {},
   "outputs": [],
   "source": [
    "%matplotlib inline\n",
    "%load_ext autoreload\n",
    "%autoreload 2\n",
    "import meteva.method as mem\n",
    "import numpy as np"
   ]
  },
  {
   "cell_type": "markdown",
   "metadata": {},
   "source": [
    "***通过随机函数生成测试数据，用于后续检验函数调用示例***"
   ]
  },
  {
   "cell_type": "code",
   "execution_count": 2,
   "metadata": {},
   "outputs": [],
   "source": [
    "fo1 = np.random.rand(1000,10)\n",
    "error = np.random.rand(1000,10)-0.5\n",
    "ob1 = fo1 + error\n",
    "fo2 = np.random.rand(5,1000,10)\n",
    "fo2_mean = np.mean(fo2,axis=0)\n",
    "ob2 = fo2_mean+error\n",
    "ob1[ob1>0.5] = 1\n",
    "ob1[ob1<=0.5] = 0\n",
    "ob2[ob2>0.5] = 1\n",
    "ob2[ob2<=0.5] = 0"
   ]
  },
  {
   "cell_type": "markdown",
   "metadata": {},
   "source": [
    "### bs评分   \n",
    "**bs(Ob, Fo)**  \n",
    "计算brier_score 评分\n",
    "  \n",
    "**参数说明：**  \n",
    " Ob:实况数据, 任意维numpy数组，元素取值必须为0或者1   \n",
    " Fo: 预测数据, 任意维numpy数组,Fo.shape 比Ob.shape多一维或者保持一致，Fo.shape低维与ob.shape保持一致，最外维度任意,元素取值必须在区间[0,1]内    \n",
    " return:  一个array，元素0到1的实数，完美值为0,array.shaop与Fo高出ob的那个维度一致，fo.shape与Ob.shape相同，shape为1    \n",
    " **调用示例：** "
   ]
  },
  {
   "cell_type": "code",
   "execution_count": 3,
   "metadata": {},
   "outputs": [
    {
     "data": {
      "text/plain": [
       "0.16797541085437498"
      ]
     },
     "execution_count": 3,
     "metadata": {},
     "output_type": "execute_result"
    }
   ],
   "source": [
    "mem.bs(ob1,fo1)"
   ]
  },
  {
   "cell_type": "code",
   "execution_count": 4,
   "metadata": {},
   "outputs": [
    {
     "ename": "ValueError",
     "evalue": "Found input variables with inconsistent numbers of samples: [10000, 50000]",
     "output_type": "error",
     "traceback": [
      "\u001b[1;31m---------------------------------------------------------------------------\u001b[0m",
      "\u001b[1;31mValueError\u001b[0m                                Traceback (most recent call last)",
      "\u001b[1;32m<ipython-input-4-4f0919e53a40>\u001b[0m in \u001b[0;36m<module>\u001b[1;34m\u001b[0m\n\u001b[1;32m----> 1\u001b[1;33m \u001b[0mmem\u001b[0m\u001b[1;33m.\u001b[0m\u001b[0mbs\u001b[0m\u001b[1;33m(\u001b[0m\u001b[0mob2\u001b[0m\u001b[1;33m,\u001b[0m\u001b[0mfo2\u001b[0m\u001b[1;33m)\u001b[0m\u001b[1;33m\u001b[0m\u001b[1;33m\u001b[0m\u001b[0m\n\u001b[0m",
      "\u001b[1;32mh:\\task\\develop\\python\\git\\meteva\\meteva\\method\\probability\\score.py\u001b[0m in \u001b[0;36mbs\u001b[1;34m(Ob, Fo)\u001b[0m\n\u001b[0;32m     40\u001b[0m     \u001b[1;33m:\u001b[0m\u001b[1;32mreturn\u001b[0m\u001b[1;33m:\u001b[0m \u001b[0m实数形式的评分值\u001b[0m\u001b[1;33m\u001b[0m\u001b[1;33m\u001b[0m\u001b[0m\n\u001b[0;32m     41\u001b[0m     '''\n\u001b[1;32m---> 42\u001b[1;33m     \u001b[0mbs0\u001b[0m \u001b[1;33m=\u001b[0m\u001b[0mbrier_score_loss\u001b[0m\u001b[1;33m(\u001b[0m\u001b[0mOb\u001b[0m\u001b[1;33m.\u001b[0m\u001b[0mflatten\u001b[0m\u001b[1;33m(\u001b[0m\u001b[1;33m)\u001b[0m\u001b[1;33m,\u001b[0m\u001b[0mFo\u001b[0m\u001b[1;33m.\u001b[0m\u001b[0mflatten\u001b[0m\u001b[1;33m(\u001b[0m\u001b[1;33m)\u001b[0m\u001b[1;33m)\u001b[0m\u001b[1;33m\u001b[0m\u001b[1;33m\u001b[0m\u001b[0m\n\u001b[0m\u001b[0;32m     43\u001b[0m     \u001b[1;32mreturn\u001b[0m \u001b[0mbs0\u001b[0m\u001b[1;33m\u001b[0m\u001b[1;33m\u001b[0m\u001b[0m\n\u001b[0;32m     44\u001b[0m \u001b[1;33m\u001b[0m\u001b[0m\n",
      "\u001b[1;32ms:\\ProgramData\\Anaconda3\\lib\\site-packages\\sklearn\\metrics\\classification.py\u001b[0m in \u001b[0;36mbrier_score_loss\u001b[1;34m(y_true, y_prob, sample_weight, pos_label)\u001b[0m\n\u001b[0;32m   2032\u001b[0m     \u001b[0massert_all_finite\u001b[0m\u001b[1;33m(\u001b[0m\u001b[0my_true\u001b[0m\u001b[1;33m)\u001b[0m\u001b[1;33m\u001b[0m\u001b[1;33m\u001b[0m\u001b[0m\n\u001b[0;32m   2033\u001b[0m     \u001b[0massert_all_finite\u001b[0m\u001b[1;33m(\u001b[0m\u001b[0my_prob\u001b[0m\u001b[1;33m)\u001b[0m\u001b[1;33m\u001b[0m\u001b[1;33m\u001b[0m\u001b[0m\n\u001b[1;32m-> 2034\u001b[1;33m     \u001b[0mcheck_consistent_length\u001b[0m\u001b[1;33m(\u001b[0m\u001b[0my_true\u001b[0m\u001b[1;33m,\u001b[0m \u001b[0my_prob\u001b[0m\u001b[1;33m,\u001b[0m \u001b[0msample_weight\u001b[0m\u001b[1;33m)\u001b[0m\u001b[1;33m\u001b[0m\u001b[1;33m\u001b[0m\u001b[0m\n\u001b[0m\u001b[0;32m   2035\u001b[0m \u001b[1;33m\u001b[0m\u001b[0m\n\u001b[0;32m   2036\u001b[0m     \u001b[1;32mif\u001b[0m \u001b[0mpos_label\u001b[0m \u001b[1;32mis\u001b[0m \u001b[1;32mNone\u001b[0m\u001b[1;33m:\u001b[0m\u001b[1;33m\u001b[0m\u001b[1;33m\u001b[0m\u001b[0m\n",
      "\u001b[1;32ms:\\ProgramData\\Anaconda3\\lib\\site-packages\\sklearn\\utils\\validation.py\u001b[0m in \u001b[0;36mcheck_consistent_length\u001b[1;34m(*arrays)\u001b[0m\n\u001b[0;32m    233\u001b[0m     \u001b[1;32mif\u001b[0m \u001b[0mlen\u001b[0m\u001b[1;33m(\u001b[0m\u001b[0muniques\u001b[0m\u001b[1;33m)\u001b[0m \u001b[1;33m>\u001b[0m \u001b[1;36m1\u001b[0m\u001b[1;33m:\u001b[0m\u001b[1;33m\u001b[0m\u001b[1;33m\u001b[0m\u001b[0m\n\u001b[0;32m    234\u001b[0m         raise ValueError(\"Found input variables with inconsistent numbers of\"\n\u001b[1;32m--> 235\u001b[1;33m                          \" samples: %r\" % [int(l) for l in lengths])\n\u001b[0m\u001b[0;32m    236\u001b[0m \u001b[1;33m\u001b[0m\u001b[0m\n\u001b[0;32m    237\u001b[0m \u001b[1;33m\u001b[0m\u001b[0m\n",
      "\u001b[1;31mValueError\u001b[0m: Found input variables with inconsistent numbers of samples: [10000, 50000]"
     ]
    }
   ],
   "source": [
    "mem.bs(ob2,fo2)"
   ]
  },
  {
   "cell_type": "markdown",
   "metadata": {},
   "source": [
    "### bss评分   \n",
    "**bss(Ob, Fo)**  \n",
    "计算Brier skill score  评分, 它是实际预报bs相对预报随机预报bs评分的技巧。\n",
    "  \n",
    "**参数说明：**  \n",
    " Ob:实况数据, 任意维numpy数组，元素取值必须为0或者1   \n",
    " Fo:预测数据, 任意维numpy数组,Fo.shape 比Ob.shape多一维或者保持一致，Fo.shape低维与ob.shape保持一致，最外维度任意,元素取值必须在区间[0,1]内  \n",
    " return: 一个array，元素负无穷到1的实数，完美值为1,array.shaop与Fo高出ob的那个维度一致，fo.shape与Ob.shape相同，shape为1  \n",
    " **调用示例：** "
   ]
  },
  {
   "cell_type": "code",
   "execution_count": null,
   "metadata": {},
   "outputs": [],
   "source": [
    "mem.bss(ob1,fo1)"
   ]
  },
  {
   "cell_type": "code",
   "execution_count": null,
   "metadata": {},
   "outputs": [],
   "source": [
    "mem.bss(ob2,fo2)"
   ]
  },
  {
   "cell_type": "markdown",
   "metadata": {},
   "source": [
    "### roc面积   \n",
    "**roc_auc(Ob, Fo)**  \n",
    "计算roc图中 roc曲线以下部分的面积。\n",
    "  \n",
    "**参数说明：**  \n",
    " Ob:实况数据, 任意维numpy数组，元素取值必须为0或者1   \n",
    " Fo:预测数据, 任意维numpy数组,Fo.shape 比Ob.shape多一维或者保持一致，Fo.shape低维与ob.shape保持一致，最外维度任意,元素取值必须在区间[0,1]内    \n",
    " return:一个array，元素 0 到 1的实数，完美值为1，小于或等于0.5代表没有预报技巧。array.shaop与Fo高出ob的那个维度一致，fo.shape与Ob.shape相同，shape为1  \n",
    " **调用示例：** "
   ]
  },
  {
   "cell_type": "code",
   "execution_count": null,
   "metadata": {},
   "outputs": [],
   "source": [
    "mem.roc_auc(ob1,fo1)"
   ]
  },
  {
   "cell_type": "code",
   "execution_count": null,
   "metadata": {},
   "outputs": [],
   "source": [
    "mem.roc_auc(ob2,fo2)"
   ]
  },
  {
   "cell_type": "markdown",
   "metadata": {},
   "source": [
    "   在以上示例中，观测和预报的数据都直接输入到评分函数中进行计算，然而有些情况下待检验的数据太大不能整体存入一个numpy数组中，或者不方便整体存入一个numpy数组中，此时就不能调用上面的方式调用评分函数。为此本程序库设计了一套可分块计算的检验程序。\n",
    "其检验步骤如下：\n",
    "步骤1：根据需要将分块数据逐一输入到中间结果计算函数\n",
    "步骤2：将中间结果进行累加或合并\n",
    "步骤3：根据累加或合并的中间结果计算检验指标\n",
    "通常上述计算中步骤1是最耗费计算资源，为了提高效率步骤1也可以采用并行的方式执行。此外，步骤1执行的结果也可输出到文件中，在后续的检验可以从中读入部分中间结果执行后续步骤，从而可以实现各种方式的分组检验，大大提高检验计算效率。  \n",
    "   另外，在预报检验经常需要进行分组检验，获得不同类别预报的评分指标并进行对比。此时可以应用上述基于中间结果的检验函数对多维中间统计量的整体计算能力来简化代码的复杂度。"
   ]
  },
  {
   "cell_type": "markdown",
   "metadata": {},
   "source": [
    "### 总样本数、误差总和、观测平均、观测方差   \n",
    "**tems(Ob,Fo)**  \n",
    "用来计算bs,bss等检验指标的中间量   \n",
    "   \n",
    "**参数说明：**  \n",
    " Ob:实况数据，任意维numpy数组  \n",
    " Fo:预测数据, 任意维numpy数组,Fo.shape 比Ob.shape多一维或者保持一致，Fo.shape低维与ob.shape保持一致，最外维度任意      \n",
    " return: 一个numpy数组，shape=(Fo高出ob的那个维度,4)其内容依次为总样本数、误差总和、观测的平均值、观测的方差  \n",
    "   \n",
    "\n",
    "### tems合并函数\n",
    "**tems_merge(tems0,tems1)**  \n",
    "用来将tems计算得到的分块中间统计量进行合并，得到两块数据并集对应的统计量  \n",
    "**参数说明：**  \n",
    " tems0: 最内层维度为4的多维数组，分别记录了（总样本数、误差总和、观测的平均值、观测的方差）  \n",
    " tems1: 最内层维度为4的多维数组，分别记录了（总样本数、误差总和、观测的平均值、观测的方差）  \n",
    " return: 最内层维度为4的多维数组，分别记录了（总样本数、误差总和、观测的平均值、观测的方差）  \n",
    "   \n",
    "**调用示例**  "
   ]
  },
  {
   "cell_type": "code",
   "execution_count": null,
   "metadata": {},
   "outputs": [],
   "source": [
    "model_count = 5\n",
    "day_count = 100\n",
    "tems_array = np.zeros((model_count,4))  \n",
    "grade_count = 10\n",
    "hnh_array = np.zeros((model_count,grade_count,2))\n",
    "for i in range(day_count):\n",
    "    ob = np.random.rand(1000)\n",
    "    ob[ob>0.5] = 1\n",
    "    ob[ob<=0.5] = 0\n",
    "    for j in range(model_count):\n",
    "        fo = np.random.rand(1000)\n",
    "        hnh_array[j,:,:] += mem.hnh(ob,fo,grade_count) #计算并累加区分能力表，函数见probablility.plot.hnh模块\n",
    "        tems1 = mem.tems(ob,fo)\n",
    "        tems_array[j,:] = mem.tems_merge(tems_array[j,:],tems1)"
   ]
  },
  {
   "cell_type": "markdown",
   "metadata": {},
   "source": [
    "### bs评分   \n",
    "**bs_tems(tems_array)**  \n",
    "计算brier_score 评分\n",
    "  \n",
    "**参数说明：**  \n",
    " tems_array:多维numpy数组,其最后一维长度为4，其内容依次为总样本数、误差总和、观测的平均值、观测的方差    \n",
    " return: numpy数组，其中每个元素为 0到1的实数，完美值为0  \n",
    " **调用示例：** "
   ]
  },
  {
   "cell_type": "code",
   "execution_count": null,
   "metadata": {},
   "outputs": [],
   "source": [
    "mem.bs_tems(tems_array)"
   ]
  },
  {
   "cell_type": "markdown",
   "metadata": {},
   "source": [
    "### bss评分   \n",
    "**bss_tems(tems_array)**  \n",
    "计算Brier skill score  评分, 它是实际预报bs相对预报随机预报bs评分的技巧。\n",
    "  \n",
    "**参数说明：**  \n",
    " tems_array:多维numpy数组,其最后一维长度为4，其内容依次为总样本数、误差总和、观测的平均值、观测的方差   \n",
    " return: numpy数组，其中每个元素为负无穷到1的实数，完美值为1  \n",
    " **调用示例：** "
   ]
  },
  {
   "cell_type": "code",
   "execution_count": null,
   "metadata": {},
   "outputs": [],
   "source": [
    "mem.bss_tems(tems_array)"
   ]
  },
  {
   "cell_type": "markdown",
   "metadata": {},
   "source": [
    "### roc面积   \n",
    "**roc_auc_hnh(hnh_array)**  \n",
    "计算roc图中 roc曲线以下部分的面积。\n",
    "  \n",
    "**参数说明：**  \n",
    " hnh_array: grade_count × 2 的numpy数组，其中元素[i,0]和[i,1]分别为预报概率在第i个区间，观测发生和不发生的样本数     \n",
    " Fo:预测数据, 任意维numpy数组,Fo.shape 比Ob.shape多一维或者保持一致，Fo.shape低维与ob.shape保持一致，最外维度任意，元素取值必须在区间[0,1]内    \n",
    " return: numpy数组，其中每个元素为0 到 1的实数，完美值为1，小于或等于0.5代表没有预报技巧。  \n",
    " **调用示例：** "
   ]
  },
  {
   "cell_type": "code",
   "execution_count": null,
   "metadata": {},
   "outputs": [],
   "source": [
    "mem.roc_auc_hnh(hnh_array)"
   ]
  },
  {
   "cell_type": "markdown",
   "metadata": {},
   "source": [
    "以上只是展示了分类检验的维度为1的情况，实际上上述思路可以扩展至任意高维的情况。熟练使用中间统计量计算和合并方法，基于中间统计量整体计算分类问题下的检验指标数组，是提高代码编写效果的关键。上述检验函数的内部也都采用了numpy的整体计算方式实现，在计算效率上进行了最大程度的优化。"
   ]
  }
 ],
 "metadata": {
  "kernelspec": {
   "display_name": "Python 3",
   "language": "python",
   "name": "python3"
  },
  "language_info": {
   "codemirror_mode": {
    "name": "ipython",
    "version": 3
   },
   "file_extension": ".py",
   "mimetype": "text/x-python",
   "name": "python",
   "nbconvert_exporter": "python",
   "pygments_lexer": "ipython3",
   "version": "3.7.1"
  }
 },
 "nbformat": 4,
 "nbformat_minor": 2
}
