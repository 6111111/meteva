{
 "cells": [
  {
   "cell_type": "code",
   "execution_count": 1,
   "metadata": {},
   "outputs": [],
   "source": [
    "%matplotlib inline\n",
    "%load_ext autoreload\n",
    "%autoreload 2\n",
    "from nmc_verification.nmc_vf_method.multi_category import *\n",
    "import numpy as np"
   ]
  },
  {
   "cell_type": "markdown",
   "metadata": {},
   "source": [
    "***通过随机函数生成测试数据，用于后续检验函数调用示例***"
   ]
  },
  {
   "cell_type": "code",
   "execution_count": 26,
   "metadata": {},
   "outputs": [],
   "source": [
    "ob = np.random.rand(2,10) * 10\n",
    "fo = np.random.rand(2,10) * 10\n",
    "ob_int = ob.astype(np.int8)\n",
    "fo_int = fo.astype(np.int8)\n",
    "grade_list = [3,5]"
   ]
  },
  {
   "cell_type": "code",
   "execution_count": 27,
   "metadata": {
    "scrolled": true
   },
   "outputs": [
    {
     "data": {
      "text/plain": [
       "array([[4, 2, 3, 5, 6, 0, 2, 8, 3, 2],\n",
       "       [9, 4, 6, 7, 9, 8, 1, 1, 3, 3]], dtype=int8)"
      ]
     },
     "execution_count": 27,
     "metadata": {},
     "output_type": "execute_result"
    }
   ],
   "source": [
    "ob_int"
   ]
  },
  {
   "cell_type": "code",
   "execution_count": 28,
   "metadata": {},
   "outputs": [
    {
     "data": {
      "text/plain": [
       "array([[6, 2, 4, 6, 7, 0, 7, 8, 3, 4],\n",
       "       [2, 1, 4, 3, 8, 8, 8, 3, 7, 3]], dtype=int8)"
      ]
     },
     "execution_count": 28,
     "metadata": {},
     "output_type": "execute_result"
    }
   ],
   "source": [
    "fo_int"
   ]
  },
  {
   "cell_type": "markdown",
   "metadata": {},
   "source": [
    "###  准确率  \n",
    "**accuracy(ob, fo, grade_list=None)**  \n",
    "统计观测和预报分类一致的样本数占比  \n",
    "\n",
    "**参数说明：**  \n",
    " Ob:实况数据，任意维numpy数组   \n",
    " Fo:预测数据，任意维numpy数组,Fo.shape 和Ob.shape一致  \n",
    " grade_list: 如果该参数为None，观测或预报值出现过的值都作为分类标记，如果该参数不为None，它必须是一个从小到大排列的实数，以其中列出的数值划分出的多个区间作为分类标签。对比预报和观测值不为整数的情况，grade_list 不能设置为None。  \n",
    " return:  0-1的实数，0代表无技巧，最优预报为1  \n",
    "**调用示例：**  "
   ]
  },
  {
   "cell_type": "code",
   "execution_count": 29,
   "metadata": {},
   "outputs": [
    {
     "data": {
      "text/plain": [
       "0.3"
      ]
     },
     "execution_count": 29,
     "metadata": {},
     "output_type": "execute_result"
    }
   ],
   "source": [
    "accuracy(ob_int,fo_int)"
   ]
  },
  {
   "cell_type": "code",
   "execution_count": 30,
   "metadata": {},
   "outputs": [
    {
     "data": {
      "text/plain": [
       "0.5"
      ]
     },
     "execution_count": 30,
     "metadata": {},
     "output_type": "execute_result"
    }
   ],
   "source": [
    "accuracy(ob_int,fo_int,grade_list)"
   ]
  },
  {
   "cell_type": "markdown",
   "metadata": {},
   "source": [
    "###  hss评分   \n",
    "**hss(ob,fo,grade_list = None)**  \n",
    "Heidke skill score，统计准确率相对于随机预报的技巧\n",
    "\n",
    "**参数说明：**  \n",
    " Ob:实况数据，任意维numpy数组   \n",
    " Fo:预测数据，任意维numpy数组,Fo.shape 和Ob.shape一致  \n",
    " grade_list: 如果该参数为None，观测或预报值出现过的值都作为分类标记，如果该参数不为None，它必须是一个从小到大排列的实数，以其中列出的数值划分出的多个区间作为分类标签。对比预报和观测值不为整数的情况，grade_list 不能设置为None。  \n",
    " return:  负无穷到1的实数，0代表无技巧，最优预报为1  \n",
    "**调用示例：**  "
   ]
  },
  {
   "cell_type": "code",
   "execution_count": 31,
   "metadata": {},
   "outputs": [
    {
     "data": {
      "text/plain": [
       "0.20903954802259886"
      ]
     },
     "execution_count": 31,
     "metadata": {},
     "output_type": "execute_result"
    }
   ],
   "source": [
    "hss(ob_int,fo_int)"
   ]
  },
  {
   "cell_type": "code",
   "execution_count": 32,
   "metadata": {},
   "outputs": [
    {
     "data": {
      "text/plain": [
       "0.23664122137404583"
      ]
     },
     "execution_count": 32,
     "metadata": {},
     "output_type": "execute_result"
    }
   ],
   "source": [
    "hss(ob_int,fo_int,grade_list)"
   ]
  },
  {
   "cell_type": "markdown",
   "metadata": {},
   "source": [
    "###  hk评分   \n",
    "**hk(ob,fo,grade_list = None)**  \n",
    "Hanssen and Kuipers discriminant，统计准确率相对于随机预报的技巧\n",
    "\n",
    "**参数说明：**  \n",
    " Ob:实况数据，任意维numpy数组   \n",
    " Fo:预测数据，任意维numpy数组,Fo.shape 和Ob.shape一致  \n",
    " grade_list: 如果该参数为None，观测或预报值出现过的值都作为分类标记，如果该参数不为None，它必须是一个从小到大排列的实数，以其中列出的数值划分出的多个区间作为分类标签。对比预报和观测值不为整数的情况，grade_list 不能设置为None。  \n",
    " return:  负无穷到1的实数，0代表无技巧，最优预报为1  \n",
    "**调用示例：**  "
   ]
  },
  {
   "cell_type": "code",
   "execution_count": 33,
   "metadata": {},
   "outputs": [
    {
     "data": {
      "text/plain": [
       "0.21022727272727273"
      ]
     },
     "execution_count": 33,
     "metadata": {},
     "output_type": "execute_result"
    }
   ],
   "source": [
    "hk(ob_int,fo_int)"
   ]
  },
  {
   "cell_type": "code",
   "execution_count": 34,
   "metadata": {},
   "outputs": [
    {
     "data": {
      "text/plain": [
       "0.23484848484848492"
      ]
     },
     "execution_count": 34,
     "metadata": {},
     "output_type": "execute_result"
    }
   ],
   "source": [
    "hk(ob_int,fo_int,grade_list)"
   ]
  },
  {
   "cell_type": "markdown",
   "metadata": {},
   "source": [
    "在以上示例中，观测和预报的数据都直接输入到评分函数中进行计算，然而有些情况下待检验的数据太大不能整体存入一个numpy数组中，或者不方便整体存入一个numpy数组中，此时就不能调用上面的方式调用评分函数。为此本程序库设计了一套可分块计算的检验程序。  \n",
    "其检验步骤如下：  \n",
    "***步骤1：根据需要将分块数据逐一输入到中间结果计算函数***  \n",
    "***步骤2：将中间结果进行累加或合并***  \n",
    "***步骤3：根据累加或合并的中间结果计算检验指标***  \n",
    "通常上述计算中步骤1是最耗费计算资源，为了提高效率步骤1也可以采用**并行**的方式执行。此外，步骤1执行的结果也可**输出到文件**中，在后续的检验可以从中读入部分中间结果执行后续步骤，从而可以实现各种方式的分组检验，大大提高检验计算效率。"
   ]
  },
  {
   "cell_type": "markdown",
   "metadata": {},
   "source": [
    "### 总样本数、正确样本数     \n",
    "**tc(ob, fo, grade_list=None)**  \n",
    "用来计算accuracy等检验指标的中间量  \n",
    "\n",
    "**参数说明：**  \n",
    " Ob:实况数据，任意维numpy数组   \n",
    " Fo:预测数据，任意维numpy数组,Fo.shape 和Ob.shape一致  \n",
    " grade_list: 如果该参数为None，观测或预报值出现过的值都作为分类标记，如果该参数不为None，它必须是一个从小到大排列的实数，以其中列出的数值划分出的多个区间作为分类标签。对比预报和观测值不为整数的情况，grade_list 不能设置为None。  \n",
    " return: 长度为2的一维numpy数组，其内容依次为总样本数、正确分类的样本数  \n",
    "    \n",
    "   \n",
    "   \n",
    "  \n",
    "  \n",
    "### 总样本数、正确样本数、 预报观测频率表    \n",
    "**tcof(ob,fo,grade_list)**  \n",
    "用来计算accuracy等检验指标的中间量  \n",
    "\n",
    "**参数说明：**  \n",
    " Ob:实况数据，任意维numpy数组   \n",
    " Fo:预测数据，任意维numpy数组,Fo.shape 和Ob.shape一致  \n",
    " grade_list: 一个从小到大排列的实数列表，以其中列出的数值划分出的多个区间作为分类标签，该参数不能设置为None。 \n",
    " return: shape为(len(grade_list)+2,2)的二维numpy数组,记为返回值为re，其中re[0,0] 为总样本数，re[0,1]为正确样本数据、re[1:,0]为观测频率表，re[1:,1]为预报频率表。  \n",
    "   \n",
    " **调用示例：**  "
   ]
  },
  {
   "cell_type": "code",
   "execution_count": 1,
   "metadata": {},
   "outputs": [
    {
     "ename": "NameError",
     "evalue": "name 'np' is not defined",
     "output_type": "error",
     "traceback": [
      "\u001b[1;31m---------------------------------------------------------------------------\u001b[0m",
      "\u001b[1;31mNameError\u001b[0m                                 Traceback (most recent call last)",
      "\u001b[1;32m<ipython-input-1-d3a3b2829d85>\u001b[0m in \u001b[0;36m<module>\u001b[1;34m\u001b[0m\n\u001b[1;32m----> 1\u001b[1;33m \u001b[0mtc_array\u001b[0m \u001b[1;33m=\u001b[0m \u001b[0mnp\u001b[0m\u001b[1;33m.\u001b[0m\u001b[0mzeros\u001b[0m\u001b[1;33m(\u001b[0m\u001b[1;33m(\u001b[0m\u001b[1;36m2\u001b[0m\u001b[1;33m)\u001b[0m\u001b[1;33m)\u001b[0m\u001b[1;33m\u001b[0m\u001b[1;33m\u001b[0m\u001b[0m\n\u001b[0m\u001b[0;32m      2\u001b[0m \u001b[0mtcof_array\u001b[0m \u001b[1;33m=\u001b[0m \u001b[0mnp\u001b[0m\u001b[1;33m.\u001b[0m\u001b[0mzeros\u001b[0m\u001b[1;33m(\u001b[0m\u001b[1;33m(\u001b[0m\u001b[0mlen\u001b[0m\u001b[1;33m(\u001b[0m\u001b[0mgrade_list\u001b[0m\u001b[1;33m)\u001b[0m\u001b[1;33m+\u001b[0m\u001b[1;36m2\u001b[0m\u001b[1;33m,\u001b[0m\u001b[1;36m2\u001b[0m\u001b[1;33m)\u001b[0m\u001b[1;33m)\u001b[0m\u001b[1;33m\u001b[0m\u001b[1;33m\u001b[0m\u001b[0m\n\u001b[0;32m      3\u001b[0m \u001b[1;32mfor\u001b[0m \u001b[0mi\u001b[0m \u001b[1;32min\u001b[0m \u001b[0mrange\u001b[0m\u001b[1;33m(\u001b[0m\u001b[1;36m2\u001b[0m\u001b[1;33m)\u001b[0m\u001b[1;33m:\u001b[0m\u001b[1;33m\u001b[0m\u001b[1;33m\u001b[0m\u001b[0m\n\u001b[0;32m      4\u001b[0m     \u001b[0mob1\u001b[0m \u001b[1;33m=\u001b[0m \u001b[0mob_int\u001b[0m\u001b[1;33m[\u001b[0m\u001b[0mi\u001b[0m\u001b[1;33m,\u001b[0m\u001b[1;33m:\u001b[0m\u001b[1;33m]\u001b[0m\u001b[1;33m\u001b[0m\u001b[1;33m\u001b[0m\u001b[0m\n\u001b[0;32m      5\u001b[0m     \u001b[0mfo1\u001b[0m \u001b[1;33m=\u001b[0m \u001b[0mfo_int\u001b[0m\u001b[1;33m[\u001b[0m\u001b[0mi\u001b[0m\u001b[1;33m,\u001b[0m\u001b[1;33m:\u001b[0m\u001b[1;33m]\u001b[0m\u001b[1;33m\u001b[0m\u001b[1;33m\u001b[0m\u001b[0m\n",
      "\u001b[1;31mNameError\u001b[0m: name 'np' is not defined"
     ]
    }
   ],
   "source": [
    "tc_array = np.zeros((2))\n",
    "tcof_array = np.zeros((len(grade_list)+2,2))\n",
    "for i in range(2):\n",
    "    ob1 = ob_int[i,:]\n",
    "    fo1 = fo_int[i,:]\n",
    "    tc_array += tc(ob,fo,grade_list)\n",
    "    tcof_array += tcof(ob,fo,grade_list)\n",
    "    "
   ]
  },
  {
   "cell_type": "markdown",
   "metadata": {},
   "source": [
    " **以下为根据合并后的中间统计量计算最终检验指标的函数：**\n",
    "###  准确率  \n",
    "**accuracy_tc(tc_array)**  \n",
    "统计观测和预报分类一致的样本数占比  \n",
    "\n",
    "**参数说明：**  \n",
    " tc_array:包含总样本数和正确样本数的多维数组，其中最后一维长度为2，分别记录了总样本数、正确样本数     \n",
    " return:  numpy数组，其中每个元素为0-1的实数，0代表无技巧，最优预报为1  \n",
    "**调用示例：**  "
   ]
  },
  {
   "cell_type": "code",
   "execution_count": 37,
   "metadata": {},
   "outputs": [
    {
     "data": {
      "text/plain": [
       "0.5"
      ]
     },
     "execution_count": 37,
     "metadata": {},
     "output_type": "execute_result"
    }
   ],
   "source": [
    "accuracy_tc(tc_array)"
   ]
  },
  {
   "cell_type": "markdown",
   "metadata": {},
   "source": [
    "### 准确率   \n",
    "**accuracy_tcof(tcof_array)**  \n",
    "统计观测和预报分类一致的样本数占比\n",
    "\n",
    "**参数说明：**   \n",
    " tcof_array:包含总样本数和正确样本数的多维数组，其中最后一维长度为2，其中tcof_array[...,0,0]记录了总样本数矩阵，其中tcof_array[...,0,1]记录了正确本数矩阵，tcof_array[...,1:,0]记录了观测频率表，tcof_array[...,1:,1]记录了预报频率表   \n",
    " return: numpy数组，其中每个元素为0-1的实数，0代表无技巧，最优预报为1  \n",
    "**调用示例：**  "
   ]
  },
  {
   "cell_type": "code",
   "execution_count": 38,
   "metadata": {},
   "outputs": [
    {
     "data": {
      "text/plain": [
       "0.5"
      ]
     },
     "execution_count": 38,
     "metadata": {},
     "output_type": "execute_result"
    }
   ],
   "source": [
    "accuracy_tcof(tcof_array)"
   ]
  },
  {
   "cell_type": "markdown",
   "metadata": {},
   "source": [
    "### hss评分   \n",
    "**hss_tcof(tcof_array)**  \n",
    "Heidke skill score，统计准确率相对于随机预报的技巧\n",
    "\n",
    "**参数说明：**   \n",
    " tcof_array:包含总样本数和正确样本数的多维数组，其中最后一维长度为2，其中tcof_array[...,0,0]记录了总样本数矩阵，其中tcof_array[...,0,1]记录了正确本数矩阵，tcof_array[...,1:,0]记录了观测频率表，tcof_array[...,1:,1]记录了预报频率表   \n",
    " return: numpy数组，其中每个元素为负无穷到1的实数，0代表无技巧，最优预报为1  \n",
    "**调用示例：**  "
   ]
  },
  {
   "cell_type": "code",
   "execution_count": 41,
   "metadata": {
    "scrolled": true
   },
   "outputs": [
    {
     "data": {
      "text/plain": [
       "0.23664122137404583"
      ]
     },
     "execution_count": 41,
     "metadata": {},
     "output_type": "execute_result"
    }
   ],
   "source": [
    "hss_tcof(tcof_array)"
   ]
  },
  {
   "cell_type": "markdown",
   "metadata": {},
   "source": [
    "### hk评分   \n",
    "**hk_tcof(tcof_array)**  \n",
    "Hanssen and Kuipers discriminant，统计准确率相对于随机预报的技巧\n",
    "\n",
    "**参数说明：**   \n",
    " tcof_array:包含总样本数和正确样本数的多维数组，其中最后一维长度为2，其中tcof_array[...,0,0]记录了总样本数矩阵，其中tcof_array[...,0,1]记录了正确本数矩阵，tcof_array[...,1:,0]记录了观测频率表，tcof_array[...,1:,1]记录了预报频率表   \n",
    " return: numpy数组，其中每个元素为负无穷到1的实数，0代表无技巧，最优预报为1   \n",
    "**调用示例：**  "
   ]
  },
  {
   "cell_type": "code",
   "execution_count": 42,
   "metadata": {},
   "outputs": [
    {
     "data": {
      "text/plain": [
       "0.23484848484848492"
      ]
     },
     "execution_count": 42,
     "metadata": {},
     "output_type": "execute_result"
    }
   ],
   "source": [
    "hk_tcof(tcof_array)"
   ]
  },
  {
   "cell_type": "markdown",
   "metadata": {},
   "source": [
    "在预报检验经常需要进行分组检验，获得不同类别预报的评分指标并进行对比。此时可以应用上述基于中间结果的检验函数对多维中间统计量的整体计算能力来简化代码的复杂度。  \n",
    "**示例如下：**"
   ]
  },
  {
   "cell_type": "code",
   "execution_count": 46,
   "metadata": {},
   "outputs": [],
   "source": [
    "day_count = 100\n",
    "model_count = 3\n",
    "ob = np.random.rand(day_count,10) * 10\n",
    "fo = np.random.rand(model_count,day_count,10) * 10\n",
    "ob_int = ob.astype(np.int8)\n",
    "fo_int = fo.astype(np.int8)\n",
    "tcof_array = np.zeros((model_count,len(grade_list)+2,2))\n",
    "for i in range(day_count):\n",
    "    ob1 = ob_int[i,:]\n",
    "    for j in range(model_count):\n",
    "        fo1 = fo_int[j,i,:]\n",
    "        tcof_array[j,:,:] += tcof(ob1,fo1,grade_list)"
   ]
  },
  {
   "cell_type": "code",
   "execution_count": 47,
   "metadata": {},
   "outputs": [
    {
     "data": {
      "text/plain": [
       "array([0.365, 0.355, 0.364])"
      ]
     },
     "execution_count": 47,
     "metadata": {},
     "output_type": "execute_result"
    }
   ],
   "source": [
    "accuracy_tcof(tcof_array)"
   ]
  },
  {
   "cell_type": "code",
   "execution_count": 48,
   "metadata": {},
   "outputs": [
    {
     "data": {
      "text/plain": [
       "array([-0.01989682, -0.04356267, -0.01980604])"
      ]
     },
     "execution_count": 48,
     "metadata": {},
     "output_type": "execute_result"
    }
   ],
   "source": [
    "hss_tcof(tcof_array)"
   ]
  },
  {
   "cell_type": "code",
   "execution_count": 49,
   "metadata": {
    "scrolled": true
   },
   "outputs": [
    {
     "data": {
      "text/plain": [
       "array([-0.02000187, -0.04347356, -0.01994375])"
      ]
     },
     "execution_count": 49,
     "metadata": {},
     "output_type": "execute_result"
    }
   ],
   "source": [
    "hk_tcof(tcof_array)"
   ]
  },
  {
   "cell_type": "markdown",
   "metadata": {},
   "source": [
    "以上只是展示了分类检验的维度为1的情况，实际上上述思路可以扩展至任意高维的情况。熟练使用中间统计量计算和合并方法，基于中间统计量整体计算分类问题下的检验指标数组，是提高代码编写效果的关键。上述检验函数的内部也都采用了numpy的整体计算方式实现，在计算效率上进行了最大程度的优化。"
   ]
  }
 ],
 "metadata": {
  "kernelspec": {
   "display_name": "Python 3",
   "language": "python",
   "name": "python3"
  },
  "language_info": {
   "codemirror_mode": {
    "name": "ipython",
    "version": 3
   },
   "file_extension": ".py",
   "mimetype": "text/x-python",
   "name": "python",
   "nbconvert_exporter": "python",
   "pygments_lexer": "ipython3",
   "version": "3.7.1"
  }
 },
 "nbformat": 4,
 "nbformat_minor": 2
}
