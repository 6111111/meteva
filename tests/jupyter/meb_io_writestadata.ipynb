{
 "cells": [
  {
   "cell_type": "code",
   "execution_count": 1,
   "metadata": {},
   "outputs": [],
   "source": [
    "%matplotlib inline\n",
    "%load_ext autoreload\n",
    "%autoreload 2\n",
    "import meteva.base as meb"
   ]
  },
  {
   "cell_type": "markdown",
   "metadata": {},
   "source": [
    "### 输出成micaps第3类文件\n",
    "**write_stadata_to_micaps3(sta,save_path = \"a.txt\",creat_dir = False, type = -1,effectiveNum = 4，show = False,title = None)**  \n",
    "将站点数据以micaps第3类格式输出\n",
    "\n",
    "**参数说明：**  \n",
    " **sta**: 站点数据      \n",
    " **save_path**: 文件输出路径，缺省值为\"a.txt\"   \n",
    " **creat_dir**: 当数据文件路径对应的文件夹不存在时是否新建相应的文件夹  \n",
    " **type**:  控制文件在micaps中的显示方式。当type = -1时， 若站点值为0.1-0.9时填一位小数，若站点值大于1时只填整数；当 type = -2时，若站点值小于1时不填，大于等于1时只填整数；当 type = -3 ,只填整数。  \n",
    " **effectiveNum**: 文件数据的有效位数，缺省值为4   \n",
    " **show**: 是否在屏幕上打印文件成功输出的信息  \n",
    " **title**: micaps文件头中文件描述内容，它将在micaps软件系统中显示，缺省时由系统自动根据文件路径生成  \n",
    " **return**: 成功输出返回True，失败就返回False \n",
    "\n",
    "\n",
    "**调用示例**"
   ]
  },
  {
   "cell_type": "code",
   "execution_count": 2,
   "metadata": {},
   "outputs": [
    {
     "name": "stdout",
     "output_type": "stream",
     "text": [
      "文件夹：H:\\test_data\\output\\meb_new不存在\n"
     ]
    },
    {
     "data": {
      "text/plain": [
       "False"
      ]
     },
     "execution_count": 2,
     "metadata": {},
     "output_type": "execute_result"
    }
   ],
   "source": [
    "filename = r\"H:\\test_data\\input\\meb\\m1.txt\"\n",
    "sta = meb.read_stadata_from_micaps1_2_8(filename,meb.m1_element_column_dict[\"温度\"]) \n",
    "meb.write_stadata_to_micaps3(sta,r\"H:\\test_data\\output\\meb_new\\m3.txt\")"
   ]
  },
  {
   "cell_type": "code",
   "execution_count": 3,
   "metadata": {},
   "outputs": [
    {
     "name": "stdout",
     "output_type": "stream",
     "text": [
      "成功输出至H:\\test_data\\output\\meb_new\\m3.txt\n"
     ]
    },
    {
     "data": {
      "text/plain": [
       "True"
      ]
     },
     "execution_count": 3,
     "metadata": {},
     "output_type": "execute_result"
    }
   ],
   "source": [
    "meb.write_stadata_to_micaps3(sta,r\"H:\\test_data\\output\\meb_new\\m3.txt\",creat_dir = True,show = True)"
   ]
  },
  {
   "cell_type": "code",
   "execution_count": null,
   "metadata": {},
   "outputs": [],
   "source": []
  }
 ],
 "metadata": {
  "kernelspec": {
   "display_name": "Python 3",
   "language": "python",
   "name": "python3"
  },
  "language_info": {
   "codemirror_mode": {
    "name": "ipython",
    "version": 3
   },
   "file_extension": ".py",
   "mimetype": "text/x-python",
   "name": "python",
   "nbconvert_exporter": "python",
   "pygments_lexer": "ipython3",
   "version": "3.7.1"
  }
 },
 "nbformat": 4,
 "nbformat_minor": 2
}
