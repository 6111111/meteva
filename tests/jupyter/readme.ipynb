{
 "cells": [
  {
   "cell_type": "markdown",
   "metadata": {},
   "source": [
    "# nmc_verification\n",
    "本程序库提供了常用的各种气象预报检验评估的算法函数，气象检验分析的图片和表格型产品的制作函数，以及可以使用检验评估系统示例。  \n",
    "说明文档详见： https://www.showdoc.cc/meteva  \n",
    "\n",
    "# 依赖库\n",
    "   numpy>=1.12.1  \n",
    "   scipy>=0.19.0  \n",
    "   pandas>=0.20.0  \n",
    "   xarray>=0.11.0  \n",
    "   scikit-learn>=0.21.2  \n",
    "   matplotlib>=3.0.1  \n",
    "   httplib2>=0.12.0  \n",
    "   protobuf>=3.6.1  \n",
    "   netCDF4>=1.4.2  \n",
    "   seaborn>=0.9.0  \n",
    "   ipywidgets>=7.5.1\n",
    "# 安装方法  \n",
    "采用如下命令安装\n",
    "```\n",
    "pip install meteva\n",
    "```"
   ]
  },
  {
   "cell_type": "code",
   "execution_count": null,
   "metadata": {},
   "outputs": [],
   "source": []
  }
 ],
 "metadata": {
  "kernelspec": {
   "display_name": "Python 3",
   "language": "python",
   "name": "python3"
  },
  "language_info": {
   "codemirror_mode": {
    "name": "ipython",
    "version": 3
   },
   "file_extension": ".py",
   "mimetype": "text/x-python",
   "name": "python",
   "nbconvert_exporter": "python",
   "pygments_lexer": "ipython3",
   "version": "3.7.1"
  }
 },
 "nbformat": 4,
 "nbformat_minor": 2
}
