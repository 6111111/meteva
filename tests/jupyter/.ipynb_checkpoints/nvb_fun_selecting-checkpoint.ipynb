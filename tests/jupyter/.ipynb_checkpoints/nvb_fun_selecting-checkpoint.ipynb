{
 "cells": [
  {
   "cell_type": "code",
   "execution_count": 1,
   "metadata": {},
   "outputs": [],
   "source": [
    "%matplotlib inline\n",
    "%load_ext autoreload\n",
    "%autoreload 2\n",
    "import nmc_verification.nmc_vf_base as nvb\n",
    "import pandas as pd\n",
    "import numpy as np\n",
    "import datetime\n",
    "import copy"
   ]
  },
  {
   "cell_type": "markdown",
   "metadata": {},
   "source": [
    "随机生成包含多个层次，多个时刻，多个时效，多个成员的站点数据，用于测试示例"
   ]
  },
  {
   "cell_type": "code",
   "execution_count": 2,
   "metadata": {},
   "outputs": [
    {
     "name": "stdout",
     "output_type": "stream",
     "text": [
      "    level                time  dtime     id  lon  lat  grapes  ec  ncep\n",
      "0    1000 2019-12-31 08:00:00      0  54511  100   30      18   2    68\n",
      "1    1000 2019-12-31 08:00:00      0  54522  110   40      10  75    17\n",
      "2     850 2019-12-31 08:00:00      0  54511  100   30      14  69    53\n",
      "3     850 2019-12-31 08:00:00      0  54522  110   40      42  18    86\n",
      "4    1000 2020-01-01 08:00:00      0  54511  100   30      98  83    38\n",
      "5    1000 2020-01-01 08:00:00      0  54522  110   40      46  27    95\n",
      "6     850 2020-01-01 08:00:00      0  54511  100   30      55  56    24\n",
      "7     850 2020-01-01 08:00:00      0  54522  110   40      75  62    33\n",
      "8    1000 2019-12-31 08:00:00     24  54511  100   30      11  67    44\n",
      "9    1000 2019-12-31 08:00:00     24  54522  110   40      88  12    58\n",
      "10    850 2019-12-31 08:00:00     24  54511  100   30      93  36    70\n",
      "11    850 2019-12-31 08:00:00     24  54522  110   40      69  22     3\n",
      "12   1000 2020-01-01 08:00:00     24  54511  100   30      74  78    95\n",
      "13   1000 2020-01-01 08:00:00     24  54522  110   40      68  56    64\n",
      "14    850 2020-01-01 08:00:00     24  54511  100   30      66  73    42\n",
      "15    850 2020-01-01 08:00:00     24  54522  110   40      82  25    89\n"
     ]
    }
   ],
   "source": [
    "data = {\"id\":[54511,54522],\"lon\":[100,110],\"lat\":[30,40],\"grapes\":[0,0],\"ec\":[0,0],\"ncep\":[0,0],}\n",
    "df = pd.DataFrame(data)\n",
    "sta = nvb.sta_data(df)\n",
    "nvb.set_stadata_coords(sta,level = 1000,time = datetime.datetime(2019,12,31,8,0),dtime = 0)\n",
    "sta1 = copy.deepcopy(sta)\n",
    "nvb.set_stadata_coords(sta1,level = 850)\n",
    "sta = nvb.combine_join(sta,sta1)\n",
    "sta1 = copy.deepcopy(sta)\n",
    "nvb.set_stadata_coords(sta1,time = datetime.datetime(2020,1,1,8,0))\n",
    "sta = nvb.combine_join(sta,sta1)\n",
    "sta1 = copy.deepcopy(sta)\n",
    "nvb.set_stadata_coords(sta1,dtime = 24)\n",
    "sta_all = nvb.combine_join(sta,sta1)\n",
    "sta_all.iloc[:,-3:] = (np.random.rand(16,3)*100).astype(np.int16)\n",
    "print(sta_all)"
   ]
  },
  {
   "cell_type": "code",
   "execution_count": 3,
   "metadata": {},
   "outputs": [
    {
     "name": "stdout",
     "output_type": "stream",
     "text": [
      "<xarray.DataArray 'data0' (member: 3, level: 2, time: 2, dtime: 2, lat: 2, lon: 2)>\n",
      "array([[[[[[18.,  0.],\n",
      "           [ 0., 10.]],\n",
      "\n",
      "          [[11.,  0.],\n",
      "           [ 0., 88.]]],\n",
      "\n",
      "\n",
      "         [[[98.,  0.],\n",
      "           [ 0., 46.]],\n",
      "\n",
      "          [[74.,  0.],\n",
      "           [ 0., 68.]]]],\n",
      "\n",
      "\n",
      "\n",
      "        [[[[14.,  0.],\n",
      "           [ 0., 42.]],\n",
      "\n",
      "          [[93.,  0.],\n",
      "           [ 0., 69.]]],\n",
      "\n",
      "\n",
      "         [[[55.,  0.],\n",
      "           [ 0., 75.]],\n",
      "\n",
      "          [[66.,  0.],\n",
      "           [ 0., 82.]]]]],\n",
      "\n",
      "\n",
      "\n",
      "\n",
      "       [[[[[ 2.,  0.],\n",
      "           [ 0., 75.]],\n",
      "\n",
      "          [[67.,  0.],\n",
      "           [ 0., 12.]]],\n",
      "\n",
      "\n",
      "         [[[83.,  0.],\n",
      "           [ 0., 27.]],\n",
      "\n",
      "          [[78.,  0.],\n",
      "           [ 0., 56.]]]],\n",
      "\n",
      "\n",
      "\n",
      "        [[[[69.,  0.],\n",
      "           [ 0., 18.]],\n",
      "\n",
      "          [[36.,  0.],\n",
      "           [ 0., 22.]]],\n",
      "\n",
      "\n",
      "         [[[56.,  0.],\n",
      "           [ 0., 62.]],\n",
      "\n",
      "          [[73.,  0.],\n",
      "           [ 0., 25.]]]]],\n",
      "\n",
      "\n",
      "\n",
      "\n",
      "       [[[[[68.,  0.],\n",
      "           [ 0., 17.]],\n",
      "\n",
      "          [[44.,  0.],\n",
      "           [ 0., 58.]]],\n",
      "\n",
      "\n",
      "         [[[38.,  0.],\n",
      "           [ 0., 95.]],\n",
      "\n",
      "          [[95.,  0.],\n",
      "           [ 0., 64.]]]],\n",
      "\n",
      "\n",
      "\n",
      "        [[[[53.,  0.],\n",
      "           [ 0., 86.]],\n",
      "\n",
      "          [[70.,  0.],\n",
      "           [ 0.,  3.]]],\n",
      "\n",
      "\n",
      "         [[[24.,  0.],\n",
      "           [ 0., 33.]],\n",
      "\n",
      "          [[42.,  0.],\n",
      "           [ 0., 89.]]]]]])\n",
      "Coordinates:\n",
      "  * member   (member) <U6 'grapes' 'ec' 'ncep'\n",
      "  * level    (level) int32 1000 850\n",
      "  * time     (time) datetime64[ns] 2019-12-31T08:00:00 2020-01-01T08:00:00\n",
      "  * dtime    (dtime) int32 0 24\n",
      "  * lat      (lat) int32 30 40\n",
      "  * lon      (lon) int32 100 110\n"
     ]
    }
   ],
   "source": [
    "grd_all = nvb.trans_sta_to_grd(sta_all)\n",
    "print(grd_all)"
   ]
  },
  {
   "cell_type": "markdown",
   "metadata": {},
   "source": [
    "# 提取部分成员数据  \n",
    "**in_member_list(data, member_list,name_or_index = \"name\")**   \n",
    "从网格和站点数据中提取部分成员的数据\n",
    "\n",
    "\n",
    "**参数说明：**  \n",
    " **data**: 站点数据或者网格数据  \n",
    " **member_list**: 成员的名称或者序号  \n",
    " **name_or_index**: 该参数为“name”的情况下，member_list里为成员的名称，否则为成员的序号，序号从0开始计数  \n",
    " **return**: 如果data为站点数据，则返回站点数据，如果data为网格数据，则返回网格数据             \n",
    "\n",
    "**调用示例**"
   ]
  },
  {
   "cell_type": "code",
   "execution_count": 4,
   "metadata": {},
   "outputs": [
    {
     "name": "stdout",
     "output_type": "stream",
     "text": [
      "    level                time  dtime     id  lon  lat  grapes  ec\n",
      "0    1000 2019-12-31 08:00:00      0  54511  100   30      18   2\n",
      "1    1000 2019-12-31 08:00:00      0  54522  110   40      10  75\n",
      "2     850 2019-12-31 08:00:00      0  54511  100   30      14  69\n",
      "3     850 2019-12-31 08:00:00      0  54522  110   40      42  18\n",
      "4    1000 2020-01-01 08:00:00      0  54511  100   30      98  83\n",
      "5    1000 2020-01-01 08:00:00      0  54522  110   40      46  27\n",
      "6     850 2020-01-01 08:00:00      0  54511  100   30      55  56\n",
      "7     850 2020-01-01 08:00:00      0  54522  110   40      75  62\n",
      "8    1000 2019-12-31 08:00:00     24  54511  100   30      11  67\n",
      "9    1000 2019-12-31 08:00:00     24  54522  110   40      88  12\n",
      "10    850 2019-12-31 08:00:00     24  54511  100   30      93  36\n",
      "11    850 2019-12-31 08:00:00     24  54522  110   40      69  22\n",
      "12   1000 2020-01-01 08:00:00     24  54511  100   30      74  78\n",
      "13   1000 2020-01-01 08:00:00     24  54522  110   40      68  56\n",
      "14    850 2020-01-01 08:00:00     24  54511  100   30      66  73\n",
      "15    850 2020-01-01 08:00:00     24  54522  110   40      82  25\n"
     ]
    }
   ],
   "source": [
    "sta = nvb.in_member_list(sta_all,[\"grapes\",\"ec\"])   #提取的站点数据中仅保留了grape和ec两个成员\n",
    "print(sta)"
   ]
  },
  {
   "cell_type": "code",
   "execution_count": 5,
   "metadata": {},
   "outputs": [
    {
     "ename": "TypeError",
     "evalue": "in_member_list() got an unexpected keyword argument 'name_or_index'",
     "output_type": "error",
     "traceback": [
      "\u001b[1;31m---------------------------------------------------------------------------\u001b[0m",
      "\u001b[1;31mTypeError\u001b[0m                                 Traceback (most recent call last)",
      "\u001b[1;32m<ipython-input-5-e4d567c5ea23>\u001b[0m in \u001b[0;36m<module>\u001b[1;34m\u001b[0m\n\u001b[1;32m----> 1\u001b[1;33m \u001b[0msta\u001b[0m \u001b[1;33m=\u001b[0m \u001b[0mnvb\u001b[0m\u001b[1;33m.\u001b[0m\u001b[0min_member_list\u001b[0m\u001b[1;33m(\u001b[0m\u001b[0msta_all\u001b[0m\u001b[1;33m,\u001b[0m\u001b[1;33m[\u001b[0m\u001b[1;36m1\u001b[0m\u001b[1;33m]\u001b[0m\u001b[1;33m,\u001b[0m\u001b[0mname_or_index\u001b[0m \u001b[1;33m=\u001b[0m \u001b[1;34m\"index\"\u001b[0m\u001b[1;33m)\u001b[0m    \u001b[1;31m#提取的站点数据中仅保留了序号为1的数据成员\u001b[0m\u001b[1;33m\u001b[0m\u001b[1;33m\u001b[0m\u001b[0m\n\u001b[0m\u001b[0;32m      2\u001b[0m \u001b[0mprint\u001b[0m\u001b[1;33m(\u001b[0m\u001b[0msta\u001b[0m\u001b[1;33m)\u001b[0m\u001b[1;33m\u001b[0m\u001b[1;33m\u001b[0m\u001b[0m\n",
      "\u001b[1;31mTypeError\u001b[0m: in_member_list() got an unexpected keyword argument 'name_or_index'"
     ]
    }
   ],
   "source": [
    "sta = nvb.in_member_list(sta_all,[1],name_or_index = \"index\")    #提取的站点数据中仅保留了序号为1的数据成员\n",
    "print(sta)"
   ]
  },
  {
   "cell_type": "code",
   "execution_count": null,
   "metadata": {},
   "outputs": [],
   "source": [
    "grd = nvb.in_member_list(grd_all,[\"grapes\"])  #如果输入为网格数据，则返回结果也是网格数据\n",
    "print(grd)"
   ]
  },
  {
   "cell_type": "code",
   "execution_count": null,
   "metadata": {},
   "outputs": [],
   "source": [
    "grd = nvb.in_member_list(grd_all,[0],name_or_index = \"index\")\n",
    "print(grd)"
   ]
  },
  {
   "cell_type": "markdown",
   "metadata": {},
   "source": [
    "# 提取部分层次数据  \n",
    "**in_level_list(data, level_list)**   \n",
    "从网格和站点数据中提取部分层次的数据\n",
    "\n",
    "\n",
    "**参数说明：**  \n",
    " **data**: 站点数据或者网格数据  \n",
    " **level_list**: 待提取的层次列表    \n",
    " **return**: 如果data为站点数据，则返回站点数据，如果data为网格数据，则返回网格数据             \n",
    "\n",
    "**调用示例**"
   ]
  },
  {
   "cell_type": "code",
   "execution_count": null,
   "metadata": {},
   "outputs": [],
   "source": [
    "sta = nvb.in_level_list(sta_all,[1000])\n",
    "print(sta)"
   ]
  },
  {
   "cell_type": "markdown",
   "metadata": {},
   "source": [
    "# 提取部分时间的数据  \n",
    "**in_time_list(data, time_list)**   \n",
    "从网格和站点数据中提取部分时间的数据\n",
    "\n",
    "\n",
    "**参数说明：**  \n",
    " **data**: 站点数据或者网格数据  \n",
    " **member_list**: 待提取的时间序列    \n",
    " **return**: 如果data为站点数据，则返回站点数据，如果data为网格数据，则返回网格数据             \n",
    "\n",
    "**调用示例**"
   ]
  },
  {
   "cell_type": "code",
   "execution_count": 6,
   "metadata": {},
   "outputs": [
    {
     "name": "stdout",
     "output_type": "stream",
     "text": [
      "Empty DataFrame\n",
      "Columns: [level, time, dtime, id, lon, lat, grapes, ec, ncep]\n",
      "Index: []\n"
     ]
    }
   ],
   "source": [
    "sta = nvb.in_time_list(sta_all,[datetime.datetime(2019,1,2,8,0)])\n",
    "print(sta)"
   ]
  },
  {
   "cell_type": "markdown",
   "metadata": {},
   "source": [
    "# 提取部分时效数据  \n",
    "**in_dtime_list(data, dtime_list)**   \n",
    "从网格和站点数据中提取部分时效的数据\n",
    "\n",
    "\n",
    "**参数说明：**  \n",
    " **data**: 站点数据或者网格数据  \n",
    " **dtime_list**: 待提取的时效序列     \n",
    " **return**: 如果data为站点数据，则返回站点数据，如果data为网格数据，则返回网格数据             \n",
    "\n",
    "**调用示例**"
   ]
  },
  {
   "cell_type": "code",
   "execution_count": 7,
   "metadata": {},
   "outputs": [
    {
     "name": "stdout",
     "output_type": "stream",
     "text": [
      "    level                time  dtime     id  lon  lat  grapes  ec  ncep\n",
      "8    1000 2019-12-31 08:00:00     24  54511  100   30      11  67    44\n",
      "9    1000 2019-12-31 08:00:00     24  54522  110   40      88  12    58\n",
      "10    850 2019-12-31 08:00:00     24  54511  100   30      93  36    70\n",
      "11    850 2019-12-31 08:00:00     24  54522  110   40      69  22     3\n",
      "12   1000 2020-01-01 08:00:00     24  54511  100   30      74  78    95\n",
      "13   1000 2020-01-01 08:00:00     24  54522  110   40      68  56    64\n",
      "14    850 2020-01-01 08:00:00     24  54511  100   30      66  73    42\n",
      "15    850 2020-01-01 08:00:00     24  54522  110   40      82  25    89\n"
     ]
    }
   ],
   "source": [
    "sta = nvb.in_dtime_list(sta_all,[24])\n",
    "print(sta)"
   ]
  },
  {
   "cell_type": "markdown",
   "metadata": {},
   "source": [
    "# 提取部分年份数据  \n",
    "**in_year_list(data, year_list)**   \n",
    "从网格和站点数据中提取部分年份的数据\n",
    "\n",
    "\n",
    "**参数说明：**  \n",
    " **data**: 站点数据或者网格数据  \n",
    " **year_list**: 待提取的年份序列    \n",
    " **return**: 如果data为站点数据，则返回站点数据，如果data为网格数据，则返回网格数据             \n",
    "\n",
    "**调用示例**"
   ]
  },
  {
   "cell_type": "code",
   "execution_count": 8,
   "metadata": {},
   "outputs": [
    {
     "name": "stdout",
     "output_type": "stream",
     "text": [
      "    level                time  dtime     id  lon  lat  grapes  ec  ncep\n",
      "0    1000 2019-12-31 08:00:00      0  54511  100   30      18   2    68\n",
      "1    1000 2019-12-31 08:00:00      0  54522  110   40      10  75    17\n",
      "2     850 2019-12-31 08:00:00      0  54511  100   30      14  69    53\n",
      "3     850 2019-12-31 08:00:00      0  54522  110   40      42  18    86\n",
      "8    1000 2019-12-31 08:00:00     24  54511  100   30      11  67    44\n",
      "9    1000 2019-12-31 08:00:00     24  54522  110   40      88  12    58\n",
      "10    850 2019-12-31 08:00:00     24  54511  100   30      93  36    70\n",
      "11    850 2019-12-31 08:00:00     24  54522  110   40      69  22     3\n"
     ]
    }
   ],
   "source": [
    "sta = nvb.in_year_list(sta_all,[2019])\n",
    "print(sta)"
   ]
  },
  {
   "cell_type": "markdown",
   "metadata": {},
   "source": [
    "# 提取部分月份数据  \n",
    "**in_month_list(data, month_list,name_or_index = \"name\")**   \n",
    "从网格和站点数据中提取部分月份的数据\n",
    "\n",
    "\n",
    "**参数说明：**  \n",
    " **data**: 站点数据或者网格数据  \n",
    " **month_list**: 待提取的月份数据    \n",
    " **return**: 如果data为站点数据，则返回站点数据，如果data为网格数据，则返回网格数据             \n",
    "\n",
    "**调用示例**"
   ]
  },
  {
   "cell_type": "code",
   "execution_count": 9,
   "metadata": {},
   "outputs": [
    {
     "name": "stdout",
     "output_type": "stream",
     "text": [
      "Empty DataFrame\n",
      "Columns: [level, time, dtime, id, lon, lat, grapes, ec, ncep]\n",
      "Index: []\n"
     ]
    }
   ],
   "source": [
    "sta = nvb.in_month_list(sta_all,[2])\n",
    "print(sta)"
   ]
  },
  {
   "cell_type": "markdown",
   "metadata": {},
   "source": [
    "# 提取指定经度范围数据  \n",
    "**between_lon_range(data, slon,elon)**   \n",
    "从网格和站点数据中提取给定经度范围的数据\n",
    "\n",
    "\n",
    "**参数说明：**  \n",
    " **data**: 站点数据或者网格数据  \n",
    " **slon**: 起始经度范围    \n",
    " **elon**: 结束经度范围     \n",
    " **return**: 如果data为站点数据，则返回站点数据，如果data为网格数据，则返回网格数据             \n",
    "\n",
    "**调用示例**"
   ]
  },
  {
   "cell_type": "code",
   "execution_count": 10,
   "metadata": {},
   "outputs": [
    {
     "name": "stdout",
     "output_type": "stream",
     "text": [
      "    level                time  dtime     id  lon  lat  grapes  ec  ncep\n",
      "0    1000 2019-12-31 08:00:00      0  54511  100   30      18   2    68\n",
      "2     850 2019-12-31 08:00:00      0  54511  100   30      14  69    53\n",
      "4    1000 2020-01-01 08:00:00      0  54511  100   30      98  83    38\n",
      "6     850 2020-01-01 08:00:00      0  54511  100   30      55  56    24\n",
      "8    1000 2019-12-31 08:00:00     24  54511  100   30      11  67    44\n",
      "10    850 2019-12-31 08:00:00     24  54511  100   30      93  36    70\n",
      "12   1000 2020-01-01 08:00:00     24  54511  100   30      74  78    95\n",
      "14    850 2020-01-01 08:00:00     24  54511  100   30      66  73    42\n"
     ]
    }
   ],
   "source": [
    "sta = nvb.between_lon_range(sta_all,95,105)\n",
    "print(sta)"
   ]
  },
  {
   "cell_type": "markdown",
   "metadata": {},
   "source": [
    "# 提取指定纬度范围数据  \n",
    "**between_lat_range(data, slat,elat)**   \n",
    "从网格和站点数据中提取给定纬度范围的数据\n",
    "\n",
    "\n",
    "**参数说明：**  \n",
    " **data**: 站点数据或者网格数据  \n",
    " **slat**: 起始经度范围    \n",
    " **elat**: 结束经度范围     \n",
    " **return**: 如果data为站点数据，则返回站点数据，如果data为网格数据，则返回网格数据             \n",
    "\n",
    "**调用示例**"
   ]
  },
  {
   "cell_type": "code",
   "execution_count": 11,
   "metadata": {},
   "outputs": [
    {
     "name": "stdout",
     "output_type": "stream",
     "text": [
      "    level                time  dtime     id  lon  lat  grapes  ec  ncep\n",
      "1    1000 2019-12-31 08:00:00      0  54522  110   40      10  75    17\n",
      "3     850 2019-12-31 08:00:00      0  54522  110   40      42  18    86\n",
      "5    1000 2020-01-01 08:00:00      0  54522  110   40      46  27    95\n",
      "7     850 2020-01-01 08:00:00      0  54522  110   40      75  62    33\n",
      "9    1000 2019-12-31 08:00:00     24  54522  110   40      88  12    58\n",
      "11    850 2019-12-31 08:00:00     24  54522  110   40      69  22     3\n",
      "13   1000 2020-01-01 08:00:00     24  54522  110   40      68  56    64\n",
      "15    850 2020-01-01 08:00:00     24  54522  110   40      82  25    89\n"
     ]
    }
   ],
   "source": [
    "sta = nvb.between_lat_range(sta_all,35,45)\n",
    "print(sta)"
   ]
  },
  {
   "cell_type": "markdown",
   "metadata": {},
   "source": [
    "# 提取指定水平网格范围内的数据  \n",
    "**in_grid_xy(data, grid0)**   \n",
    "从网格和站点数据中提取指定水平网格范围内的数据\n",
    "\n",
    "\n",
    "**参数说明：**  \n",
    " **data**: 站点数据或者网格数据  \n",
    " **grid0**: 网格信息类变量，仅采用了其中经纬度方向的范围信息      \n",
    " **return**: 如果data为站点数据，则返回站点数据，如果data为网格数据，则返回网格数据             \n",
    "\n",
    "**调用示例**"
   ]
  },
  {
   "cell_type": "code",
   "execution_count": 12,
   "metadata": {},
   "outputs": [
    {
     "name": "stdout",
     "output_type": "stream",
     "text": [
      "    level                time  dtime     id  lon  lat  grapes  ec  ncep\n",
      "0    1000 2019-12-31 08:00:00      0  54511  100   30      18   2    68\n",
      "2     850 2019-12-31 08:00:00      0  54511  100   30      14  69    53\n",
      "4    1000 2020-01-01 08:00:00      0  54511  100   30      98  83    38\n",
      "6     850 2020-01-01 08:00:00      0  54511  100   30      55  56    24\n",
      "8    1000 2019-12-31 08:00:00     24  54511  100   30      11  67    44\n",
      "10    850 2019-12-31 08:00:00     24  54511  100   30      93  36    70\n",
      "12   1000 2020-01-01 08:00:00     24  54511  100   30      74  78    95\n",
      "14    850 2020-01-01 08:00:00     24  54511  100   30      66  73    42\n"
     ]
    }
   ],
   "source": [
    "grid1 = nvb.grid([100,105,1],[30,35,1])\n",
    "sta = nvb.in_grid_xy(sta_all,grid1)\n",
    "print(sta)"
   ]
  },
  {
   "cell_type": "code",
   "execution_count": null,
   "metadata": {},
   "outputs": [],
   "source": []
  }
 ],
 "metadata": {
  "kernelspec": {
   "display_name": "Python 3",
   "language": "python",
   "name": "python3"
  },
  "language_info": {
   "codemirror_mode": {
    "name": "ipython",
    "version": 3
   },
   "file_extension": ".py",
   "mimetype": "text/x-python",
   "name": "python",
   "nbconvert_exporter": "python",
   "pygments_lexer": "ipython3",
   "version": "3.7.1"
  }
 },
 "nbformat": 4,
 "nbformat_minor": 2
}
