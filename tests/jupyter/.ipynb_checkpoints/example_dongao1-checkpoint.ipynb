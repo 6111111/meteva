{
 "cells": [
  {
   "cell_type": "code",
   "execution_count": 2,
   "metadata": {},
   "outputs": [
    {
     "data": {
      "application/vnd.jupyter.widget-view+json": {
       "model_id": "b84e50d1b00442f394c443e0ca17ea0c",
       "version_major": 2,
       "version_minor": 0
      },
      "text/plain": [
       "interactive(children=(ToggleButtons(description='观测要素:', options=('平均风_2分钟', '温度', '1h降水', '3h降水', '24h降水'), v…"
      ]
     },
     "metadata": {},
     "output_type": "display_data"
    }
   ],
   "source": [
    "%load_ext autoreload\n",
    "from ipywidgets import interactive\n",
    "from ipywidgets import widgets,interactive,interact_manual\n",
    "import nmc_verification.nmc_vf_product.presentation.winter_olympic as wo\n",
    "interactive_plot = interact_manual(wo.ob_multi_fo_time,ob_element = wo.tb_ob_element,model_name= wo.tb_model_name,\n",
    "    model_element= wo.tb_model_element,model_level= wo.tb_model_level,station_id = wo.tb_station_id,max_dh =wo.tb_max_dh)"
   ]
  },
  {
   "cell_type": "code",
   "execution_count": null,
   "metadata": {},
   "outputs": [],
   "source": []
  }
 ],
 "metadata": {
  "kernelspec": {
   "display_name": "Python 3",
   "language": "python",
   "name": "python3"
  },
  "language_info": {
   "codemirror_mode": {
    "name": "ipython",
    "version": 3
   },
   "file_extension": ".py",
   "mimetype": "text/x-python",
   "name": "python",
   "nbconvert_exporter": "python",
   "pygments_lexer": "ipython3",
   "version": "3.7.1"
  }
 },
 "nbformat": 4,
 "nbformat_minor": 2
}
