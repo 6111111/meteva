{
 "cells": [
  {
   "cell_type": "code",
   "execution_count": 1,
   "metadata": {},
   "outputs": [
    {
     "name": "stderr",
     "output_type": "stream",
     "text": [
      "\n",
      "Bad key \"text.kerning_factor\" on line 4 in\n",
      "s:\\ProgramData\\Anaconda3\\lib\\site-packages\\matplotlib\\mpl-data\\stylelib\\_classic_test_patch.mplstyle.\n",
      "You probably need to get an updated matplotlibrc file from\n",
      "http://github.com/matplotlib/matplotlib/blob/master/matplotlibrc.template\n",
      "or from the matplotlib source distribution\n",
      "s:\\ProgramData\\Anaconda3\\lib\\site-packages\\statsmodels\\tools\\_testing.py:19: FutureWarning: pandas.util.testing is deprecated. Use the functions in the public API at pandas.testing instead.\n",
      "  import pandas.util.testing as tm\n"
     ]
    }
   ],
   "source": [
    "%matplotlib inline\n",
    "%load_ext autoreload\n",
    "%autoreload 2\n",
    "import meteva.method as mem\n",
    "import numpy as np"
   ]
  },
  {
   "cell_type": "markdown",
   "metadata": {},
   "source": [
    "***通过随机函数生成测试数据，用于后续检验函数调用示例***"
   ]
  },
  {
   "cell_type": "code",
   "execution_count": 2,
   "metadata": {},
   "outputs": [],
   "source": [
    "ob = np.random.rand(1000,10)\n",
    "fo1 = np.random.rand(1000,10)\n",
    "fo2 = np.random.rand(5,1000,10)"
   ]
  },
  {
   "cell_type": "markdown",
   "metadata": {},
   "source": [
    "**<font face=\"黑体\" color=blue size = 5>检验样本数</font>**     \n",
    "**sample_count(ob, fo)**  \n",
    "计算检验的样本数  \n",
    "\n",
    "\n",
    "|参数|说明|    \n",
    "|:--|:--|  \n",
    "|**<font face=\"黑体\" color=blue size = 5>ob</font>**|实况数据, 任意维numpy数组|   \n",
    "|**<font face=\"黑体\" color=blue size = 5>fo</font>**| fo比Ob.shape多一维或者保持一致，fo.shape低维与ob.shape保持一致|   \n",
    "|<font face=\"黑体\" color=blue size=5>return</font>|整数|   \n",
    "\n",
    " \n",
    " **调用示例：**  "
   ]
  },
  {
   "cell_type": "code",
   "execution_count": 3,
   "metadata": {
    "scrolled": true
   },
   "outputs": [
    {
     "data": {
      "text/plain": [
       "10000"
      ]
     },
     "execution_count": 3,
     "metadata": {},
     "output_type": "execute_result"
    }
   ],
   "source": [
    "mem.sample_count(ob,fo1)  "
   ]
  },
  {
   "cell_type": "code",
   "execution_count": 4,
   "metadata": {},
   "outputs": [
    {
     "data": {
      "text/plain": [
       "10000"
      ]
     },
     "execution_count": 4,
     "metadata": {},
     "output_type": "execute_result"
    }
   ],
   "source": [
    "mem.sample_count(ob,fo2)"
   ]
  },
  {
   "cell_type": "markdown",
   "metadata": {},
   "source": [
    "**<font face=\"黑体\" color=blue size = 5>观测和预报的均值</font>**     \n",
    "**ob_fo_mean(ob, fo)**  \n",
    "计算观测和预报的平均值  \n",
    "  \n",
    "|参数|说明|    \n",
    "|:--|:--|  \n",
    "|**<font face=\"黑体\" color=blue size = 5>ob</font>**|实况数据, 任意维numpy数组|   \n",
    "|**<font face=\"黑体\" color=blue size = 5>fo</font>**| fo比Ob.shape多一维或者保持一致，fo.shape低维与ob.shape保持一致|   \n",
    "|<font face=\"黑体\" color=blue size=5>return</font>|一维数组，shape = （1+预报成员数据），其中第一个元素为观测的平均值，其余为预报的平均值|     \n",
    "  \n",
    " **调用示例：**"
   ]
  },
  {
   "cell_type": "code",
   "execution_count": 5,
   "metadata": {},
   "outputs": [
    {
     "data": {
      "text/plain": [
       "array([0.49421264, 0.49669316])"
      ]
     },
     "execution_count": 5,
     "metadata": {},
     "output_type": "execute_result"
    }
   ],
   "source": [
    "mem.ob_fo_mean(ob,fo1)  #单个预报时，返回size =2的数组"
   ]
  },
  {
   "cell_type": "code",
   "execution_count": 6,
   "metadata": {},
   "outputs": [
    {
     "data": {
      "text/plain": [
       "array([0.49421264, 0.49507408, 0.49728813, 0.4973459 , 0.50285266,\n",
       "       0.50032056])"
      ]
     },
     "execution_count": 6,
     "metadata": {},
     "output_type": "execute_result"
    }
   ],
   "source": [
    "mem.ob_fo_mean(ob,fo2)  #多个预报是 返回数组的size =  1+预报成员"
   ]
  },
  {
   "cell_type": "markdown",
   "metadata": {},
   "source": [
    "**<font face=\"黑体\" color=blue size = 5>观测和预报的标准差</font>**     \n",
    "**fo_mean(Ob, Fo)**  \n",
    "计算两组数据的误差平均值  \n",
    "  \n",
    "|参数|说明|    \n",
    "|:--|:--|  \n",
    "|**<font face=\"黑体\" color=blue size = 5>ob</font>**|实况数据, 任意维numpy数组|   \n",
    "|**<font face=\"黑体\" color=blue size = 5>fo</font>**| fo比Ob.shape多一维或者保持一致，fo.shape低维与ob.shape保持一致|   \n",
    "|<font face=\"黑体\" color=blue size=5>return</font>|一维数组，shape = （1+预报成员数据），其中第一个元素为观测的标准差，其余为预报的标准差|   \n",
    "  \n",
    " **调用示例：**"
   ]
  },
  {
   "cell_type": "code",
   "execution_count": 7,
   "metadata": {},
   "outputs": [
    {
     "data": {
      "text/plain": [
       "array([0.28886932, 0.2898601 ])"
      ]
     },
     "execution_count": 7,
     "metadata": {},
     "output_type": "execute_result"
    }
   ],
   "source": [
    "mem.ob_fo_std(ob,fo1)  #单个预报时，返回size =2的数组"
   ]
  },
  {
   "cell_type": "code",
   "execution_count": 8,
   "metadata": {},
   "outputs": [
    {
     "data": {
      "text/plain": [
       "array([0.28886932, 0.28814034, 0.28972975, 0.29134877, 0.28565956,\n",
       "       0.28600226])"
      ]
     },
     "execution_count": 8,
     "metadata": {},
     "output_type": "execute_result"
    }
   ],
   "source": [
    "mem.ob_fo_std(ob,fo2)  #多个预报是 返回数组的size =  1+预报成员"
   ]
  },
  {
   "cell_type": "markdown",
   "metadata": {},
   "source": [
    "**<font face=\"黑体\" color=blue size = 5>准确率</font>**     \n",
    "**correct_rate(ob,fo,threshold)**  \n",
    "根据设定的阈值，计算两组数据的误差绝对值小于阈值的比例  \n",
    "\n",
    "\n",
    "|参数|说明|    \n",
    "|:--|:--|  \n",
    "|**<font face=\"黑体\" color=blue size = 5>ob</font>**|实况数据, 任意维numpy数组|   \n",
    "|**<font face=\"黑体\" color=blue size = 5>fo</font>**| fo比Ob.shape多一维或者保持一致，fo.shape低维与ob.shape保持一致|   \n",
    "|<font face=\"黑体\" color=blue size=5>return</font>|如果fo和ob的shape一致（即只有一种预报），返回结果为实数；如果fo比ob高出一维，则返回1维数组，长度等于预报成员数。每个元素是0到1的实数，最优值为1|   \n",
    "  \n",
    " **调用示例：**\n"
   ]
  },
  {
   "cell_type": "code",
   "execution_count": 9,
   "metadata": {},
   "outputs": [
    {
     "data": {
      "text/plain": [
       "0.7524"
      ]
     },
     "execution_count": 9,
     "metadata": {},
     "output_type": "execute_result"
    }
   ],
   "source": [
    "mem.correct_rate(ob,fo1,0.5)  #单个预报时，返回实数"
   ]
  },
  {
   "cell_type": "code",
   "execution_count": 10,
   "metadata": {},
   "outputs": [
    {
     "data": {
      "text/plain": [
       "array([0.7532, 0.7529, 0.7524, 0.7519, 0.7568])"
      ]
     },
     "execution_count": 10,
     "metadata": {},
     "output_type": "execute_result"
    }
   ],
   "source": [
    "mem.correct_rate(ob,fo2,0.5)  #多个预报时返回数组，size  = 预报成员数"
   ]
  },
  {
   "cell_type": "markdown",
   "metadata": {},
   "source": [
    "**<font face=\"黑体\" color=blue size = 5>平均误差</font>**     \n",
    "**me(ob,fo)**  \n",
    "计算两组数据的误差平均值  \n",
    "  \n",
    "\n",
    "|参数|说明|    \n",
    "|:--|:--|  \n",
    "|**<font face=\"黑体\" color=blue size = 5>ob</font>**|实况数据, 任意维numpy数组|   \n",
    "|**<font face=\"黑体\" color=blue size = 5>fo</font>**| fo比Ob.shape多一维或者保持一致，fo.shape低维与ob.shape保持一致|   \n",
    "|<font face=\"黑体\" color=blue size=5>return</font>|如果fo和ob的shape一致（即只有一种预报），返回结果为实数；如果fo比ob高出一维，则返回1维数组，长度等于预报成员数。每个元素是负无穷到正无穷的实数，最优值为0|   \n",
    "  \n",
    " **调用示例：**\n"
   ]
  },
  {
   "cell_type": "code",
   "execution_count": 11,
   "metadata": {},
   "outputs": [
    {
     "data": {
      "text/plain": [
       "0.0024805262714196865"
      ]
     },
     "execution_count": 11,
     "metadata": {},
     "output_type": "execute_result"
    }
   ],
   "source": [
    "mem.me(ob,fo1)  #单个预报是返回实时"
   ]
  },
  {
   "cell_type": "code",
   "execution_count": 12,
   "metadata": {},
   "outputs": [
    {
     "data": {
      "text/plain": [
       "array([0.00086145, 0.00307549, 0.00313326, 0.00864002, 0.00610793])"
      ]
     },
     "execution_count": 12,
     "metadata": {},
     "output_type": "execute_result"
    }
   ],
   "source": [
    "mem.me(ob,fo2)   #多个预报时返回数组，size = 预报成员数"
   ]
  },
  {
   "cell_type": "markdown",
   "metadata": {},
   "source": [
    "**<font face=\"黑体\" color=blue size = 5>平均绝对误差</font>**     \n",
    "mae(ob,fo)  \n",
    "计算两组数据平均绝对值误差  \n",
    "\n",
    "\n",
    "\n",
    "|参数|说明|    \n",
    "|:--|:--|  \n",
    "|**<font face=\"黑体\" color=blue size = 5>ob</font>**|实况数据, 任意维numpy数组|   \n",
    "|**<font face=\"黑体\" color=blue size = 5>fo</font>**| fo比Ob.shape多一维或者保持一致，fo.shape低维与ob.shape保持一致|   \n",
    "|<font face=\"黑体\" color=blue size=5>return</font>|如果fo和ob的shape一致（即只有一种预报），返回结果为实数；如果fo比ob高出一维，则返回1维数组，长度等于预报成员数。每个元素是0到正无穷的实数，最优值为0|   \n",
    "  \n",
    " **调用示例：**"
   ]
  },
  {
   "cell_type": "code",
   "execution_count": 13,
   "metadata": {},
   "outputs": [
    {
     "data": {
      "text/plain": [
       "0.3331230186705488"
      ]
     },
     "execution_count": 13,
     "metadata": {},
     "output_type": "execute_result"
    }
   ],
   "source": [
    "mem.mae(ob,fo1)   #单个预报是返回实时"
   ]
  },
  {
   "cell_type": "code",
   "execution_count": 14,
   "metadata": {},
   "outputs": [
    {
     "data": {
      "text/plain": [
       "array([0.33217457, 0.33126373, 0.33014924, 0.33142996, 0.33102543])"
      ]
     },
     "execution_count": 14,
     "metadata": {},
     "output_type": "execute_result"
    }
   ],
   "source": [
    "mem.mae(ob,fo2)   #多个预报时返回数组，size = 预报成员数"
   ]
  },
  {
   "cell_type": "markdown",
   "metadata": {},
   "source": [
    "**<font face=\"黑体\" color=blue size = 5>均方误差</font>**     \n",
    "**mse(Ob,Fo)**   \n",
    "计算两组数据误差平方的平均  \n",
    "\n",
    "   \n",
    "\n",
    "|参数|说明|    \n",
    "|:--|:--|  \n",
    "|**<font face=\"黑体\" color=blue size = 5>ob</font>**|实况数据, 任意维numpy数组|   \n",
    "|**<font face=\"黑体\" color=blue size = 5>fo</font>**| fo比Ob.shape多一维或者保持一致，fo.shape低维与ob.shape保持一致|   \n",
    "|<font face=\"黑体\" color=blue size=5>return</font>|如果fo和ob的shape一致（即只有一种预报），返回结果为实数；如果fo比ob高出一维，则返回1维数组，长度等于预报成员数。每个元素是0到正无穷的实数，最优值为0|   \n",
    "  \n",
    "**调用示例：**"
   ]
  },
  {
   "cell_type": "code",
   "execution_count": 15,
   "metadata": {},
   "outputs": [
    {
     "data": {
      "text/plain": [
       "0.16663620427759862"
      ]
     },
     "execution_count": 15,
     "metadata": {},
     "output_type": "execute_result"
    }
   ],
   "source": [
    "mem.mse(ob,fo1)    #单个预报是返回实时"
   ]
  },
  {
   "cell_type": "code",
   "execution_count": 16,
   "metadata": {},
   "outputs": [
    {
     "data": {
      "text/plain": [
       "array([0.16581315, 0.16531946, 0.16487205, 0.16553529, 0.16502758])"
      ]
     },
     "execution_count": 16,
     "metadata": {},
     "output_type": "execute_result"
    }
   ],
   "source": [
    "mem.mse(ob,fo2)   #多个预报时返回数组，size = 预报成员数"
   ]
  },
  {
   "cell_type": "markdown",
   "metadata": {},
   "source": [
    "**<font face=\"黑体\" color=blue size = 5>均方根误差</font>**     \n",
    "**rmse(ob,fo)**  \n",
    "计算两组数据的均方根误差  \n",
    "\n",
    "\n",
    "\n",
    "|参数|说明|    \n",
    "|:--|:--|  \n",
    "|**<font face=\"黑体\" color=blue size = 5>ob</font>**|实况数据, 任意维numpy数组|   \n",
    "|**<font face=\"黑体\" color=blue size = 5>fo</font>**| fo比Ob.shape多一维或者保持一致，fo.shape低维与ob.shape保持一致|   \n",
    "|<font face=\"黑体\" color=blue size=5>return</font>|如果fo和ob的shape一致（即只有一种预报），返回结果为实数；如果fo比ob高出一维，则返回1维数组，长度等于预报成员数。每个元素是0到正无穷的实数，最优值为0|   \n",
    "  \n",
    " **调用示例：**\n"
   ]
  },
  {
   "cell_type": "code",
   "execution_count": 17,
   "metadata": {},
   "outputs": [
    {
     "data": {
      "text/plain": [
       "0.4082109801041596"
      ]
     },
     "execution_count": 17,
     "metadata": {},
     "output_type": "execute_result"
    }
   ],
   "source": [
    "mem.rmse(ob,fo1)    #单个预报是返回实时"
   ]
  },
  {
   "cell_type": "code",
   "execution_count": 18,
   "metadata": {},
   "outputs": [
    {
     "data": {
      "text/plain": [
       "array([0.40720161, 0.40659495, 0.40604439, 0.40686029, 0.40623587])"
      ]
     },
     "execution_count": 18,
     "metadata": {},
     "output_type": "execute_result"
    }
   ],
   "source": [
    "mem.rmse(ob,fo2)   #多个预报时返回数组，size = 预报成员数"
   ]
  },
  {
   "cell_type": "markdown",
   "metadata": {},
   "source": [
    "**<font face=\"黑体\" color=blue size = 5>均值偏差</font>**     \n",
    "**bias_m(ob,fo)**  \n",
    "计算两组数据的平均值之比  \n",
    "\n",
    "\n",
    "|参数|说明|    \n",
    "|:--|:--|  \n",
    "|**<font face=\"黑体\" color=blue size = 5>ob</font>**|实况数据, 任意维numpy数组|   \n",
    "|**<font face=\"黑体\" color=blue size = 5>fo</font>**| fo比Ob.shape多一维或者保持一致，fo.shape低维与ob.shape保持一致|   \n",
    "|<font face=\"黑体\" color=blue size=5>return</font>|如果fo和ob的shape一致（即只有一种预报），返回结果为实数；如果fo比ob高出一维，则返回1维数组，长度等于预报成员数。每个元素是0到正无穷的实数，最优值为1|   \n",
    "  \n",
    " **调用示例：**\n",
    " "
   ]
  },
  {
   "cell_type": "code",
   "execution_count": 19,
   "metadata": {
    "scrolled": true
   },
   "outputs": [
    {
     "data": {
      "text/plain": [
       "1.0050191478034054"
      ]
     },
     "execution_count": 19,
     "metadata": {},
     "output_type": "execute_result"
    }
   ],
   "source": [
    "mem.bias_m(ob,fo1)   #单个预报是返回实时"
   ]
  },
  {
   "cell_type": "code",
   "execution_count": 20,
   "metadata": {},
   "outputs": [
    {
     "data": {
      "text/plain": [
       "array([1.00174307, 1.00622302, 1.00633991, 1.0174824 , 1.01235891])"
      ]
     },
     "execution_count": 20,
     "metadata": {},
     "output_type": "execute_result"
    }
   ],
   "source": [
    "mem.bias_m(ob,fo2)   #多个预报时返回数组，size = 预报成员数"
   ]
  },
  {
   "cell_type": "markdown",
   "metadata": {},
   "source": [
    "**<font face=\"黑体\" color=blue size = 5>相关系数</font>**     \n",
    "**corr(ob,fo)**    \n",
    "计算两组数据的平均值之比  \n",
    "\n",
    "\n",
    "|参数|说明|    \n",
    "|:--|:--|  \n",
    "|**<font face=\"黑体\" color=blue size = 5>ob</font>**|实况数据, 任意维numpy数组|   \n",
    "|**<font face=\"黑体\" color=blue size = 5>fo</font>**| fo比Ob.shape多一维或者保持一致，fo.shape低维与ob.shape保持一致|   \n",
    "|<font face=\"黑体\" color=blue size=5>return</font>|如果fo和ob的shape一致（即只有一种预报），返回结果为实数；如果fo比ob高出一维，则返回1维数组，长度等于预报成员数。每个元素是-1到1的实数，最优值为1|   \n",
    "  \n",
    " **调用示例：**\n",
    "   "
   ]
  },
  {
   "cell_type": "code",
   "execution_count": 21,
   "metadata": {
    "scrolled": true
   },
   "outputs": [
    {
     "data": {
      "text/plain": [
       "0.004982034564989438"
      ]
     },
     "execution_count": 21,
     "metadata": {},
     "output_type": "execute_result"
    }
   ],
   "source": [
    "mem.corr(ob,fo1)   #单个预报是返回实时"
   ]
  },
  {
   "cell_type": "code",
   "execution_count": 22,
   "metadata": {
    "scrolled": true
   },
   "outputs": [
    {
     "data": {
      "text/plain": [
       "array([ 0.00395222,  0.01241913,  0.02059939, -0.0025072 ,  0.00152813])"
      ]
     },
     "execution_count": 22,
     "metadata": {},
     "output_type": "execute_result"
    }
   ],
   "source": [
    "mem.corr(ob,fo2)  #多个预报时返回数组，size = 预报成员数"
   ]
  },
  {
   "cell_type": "markdown",
   "metadata": {},
   "source": [
    "5**<font face=\"黑体\" color=blue size = 5>定量相对误差</font>**     \n",
    "**mre(ob,fo)**  \n",
    "对每一对观测和预报不同时为0的数据计算（预报-观测）/(预报+观测）取绝对值后再做平均\n",
    "\n",
    "\n",
    "|参数|说明|    \n",
    "|:--|:--|  \n",
    "|**<font face=\"黑体\" color=blue size = 5>ob</font>**|实况数据, 任意维numpy数组|   \n",
    "|**<font face=\"黑体\" color=blue size = 5>fo</font>**| fo比Ob.shape多一维或者保持一致，fo.shape低维与ob.shape保持一致|   \n",
    "|<font face=\"黑体\" color=blue size=5>return</font>|如果fo和ob的shape一致（即只有一种预报），返回结果为实数；如果fo比ob高出一维，则返回1维数组，长度等于预报成员数。每个元素是0到1的实数，最优值为0|   \n",
    "  \n",
    " **调用示例：**\n",
    " \n"
   ]
  },
  {
   "cell_type": "code",
   "execution_count": 23,
   "metadata": {
    "scrolled": true
   },
   "outputs": [
    {
     "data": {
      "text/plain": [
       "0.38929320451015703"
      ]
     },
     "execution_count": 23,
     "metadata": {},
     "output_type": "execute_result"
    }
   ],
   "source": [
    "mem.mre(ob,fo1)   #单个预报是返回实时"
   ]
  },
  {
   "cell_type": "code",
   "execution_count": 24,
   "metadata": {
    "scrolled": false
   },
   "outputs": [
    {
     "data": {
      "text/plain": [
       "array([0.38899618, 0.38822326, 0.38821657, 0.38351784, 0.38583246])"
      ]
     },
     "execution_count": 24,
     "metadata": {},
     "output_type": "execute_result"
    }
   ],
   "source": [
    "mem.mre(ob,fo2)  #多个预报时返回数组，size = 预报成员数"
   ]
  },
  {
   "cell_type": "markdown",
   "metadata": {},
   "source": [
    "**<font face=\"黑体\" color=blue size = 5>纳什系数</font>**     \n",
    "**nse(ob,fo)**    \n",
    "水文中常用的降水检验方法，计算方法为：1 - 均方误差/观测方差  \n",
    "\n",
    "\n",
    "|参数|说明|    \n",
    "|:--|:--|  \n",
    "|**<font face=\"黑体\" color=blue size = 5>ob</font>**|实况数据, 任意维numpy数组|   \n",
    "|**<font face=\"黑体\" color=blue size = 5>fo</font>**| fo比Ob.shape多一维或者保持一致，fo.shape低维与ob.shape保持一致|   \n",
    "|<font face=\"黑体\" color=blue size=5>return</font>|如果fo和ob的shape一致（即只有一种预报），返回结果为实数；如果fo比ob高出一维，则返回1维数组，长度等于预报成员数。每个元素是负无穷到1的实数，最优值为1|   \n",
    "  \n",
    " **调用示例：**"
   ]
  },
  {
   "cell_type": "code",
   "execution_count": 25,
   "metadata": {},
   "outputs": [
    {
     "data": {
      "text/plain": [
       "-0.9969469856705915"
      ]
     },
     "execution_count": 25,
     "metadata": {},
     "output_type": "execute_result"
    }
   ],
   "source": [
    "mem.nse(ob,fo1)   #单个预报是返回实时"
   ]
  },
  {
   "cell_type": "code",
   "execution_count": 26,
   "metadata": {},
   "outputs": [
    {
     "data": {
      "text/plain": [
       "array([-0.98708365, -0.98116726, -0.97580553, -0.98375382, -0.97766948])"
      ]
     },
     "execution_count": 26,
     "metadata": {},
     "output_type": "execute_result"
    }
   ],
   "source": [
    "mem.nse(ob,fo2)  #多个预报时返回数组，size = 预报成员数"
   ]
  },
  {
   "cell_type": "markdown",
   "metadata": {},
   "source": [
    "在以上示例中，观测和预报的数据都直接输入到评分函数中进行计算，然而有些情况下待检验的数据太大不能整体存入一个numpy数组中，或者不方便整体存入一个numpy数组中，此时就不能调用上面的方式调用评分函数。为此本程序库设计了一套可分块计算的检验程序。  \n",
    "其检验步骤如下：  \n",
    "***步骤1：根据需要将分块数据逐一输入到中间结果计算函数***  \n",
    "***步骤2：将中间结果进行累加或合并***  \n",
    "***步骤3：根据累加或合并的中间结果计算检验指标***  \n",
    "通常上述计算中步骤1是最耗费计算资源，为了提高效率步骤1也可以采用**并行**的方式执行。此外，步骤1执行的结果也可**输出到文件**中，在后续的检验可以从中读入部分中间结果执行后续步骤，从而可以实现各种方式的分组检验，大大提高检验计算效率。"
   ]
  },
  {
   "cell_type": "markdown",
   "metadata": {},
   "source": [
    "**<font face=\"黑体\" color=blue size = 5>总样本数、正确的样本数</font>**     \n",
    "**tc_count(ob,fo，threshold)**  \n",
    "用来计算me、mae、mse、rmse、nse等检验指标的中间量  \n",
    "\n",
    "\n",
    "|参数|说明|    \n",
    "|:--|:--|  \n",
    "|**<font face=\"黑体\" color=blue size = 5>ob</font>**|实况数据, 任意维numpy数组|   \n",
    "|**<font face=\"黑体\" color=blue size = 5>fo</font>**| fo比ob.shape多一维或者保持一致，fo.shape低维与ob.shape保持一致|   \n",
    "|<font face=\"黑体\" color=blue size=5>return</font>|一个numpy数组，fo.shape 比ob.shape多一维时，即fo包含多个预报成员时，array.shape= (预报成员数，2),fo.shape与ob.shape相同时结果为size=2的一维数组,其中最后一维内容依次为总样本数、正确的样本数| \n",
    "\n",
    "\n",
    " \n",
    " \n",
    " \n",
    "**<font face=\"黑体\" color=blue size = 5>总样本数、误差总和、绝对误差总和、误差平方总和</font>**     \n",
    "**tase(ob,fo)**  \n",
    "用来计算me、mae、mse、rmse、nse等检验指标的中间量  \n",
    "\n",
    "\n",
    "|参数|说明|    \n",
    "|:--|:--|  \n",
    "|**<font face=\"黑体\" color=blue size = 5>ob</font>**|实况数据, 任意维numpy数组|   \n",
    "|**<font face=\"黑体\" color=blue size = 5>fo</font>**| fo比ob.shape多一维或者保持一致，fo.shape低维与ob.shape保持一致|   \n",
    "|<font face=\"黑体\" color=blue size=5>return</font>|一个numpy数组，fo.shape 比ob.shape多一维时，即fo包含多个预报成员时，array.shape= (预报成员数，4),fo.shape与ob.shape相同时结果为size=4的一维数组,其中最后一维内容依次为内容依次为总样本数、误差总和、绝对误差总和、误差平方总和|   \n",
    "\n",
    "\n",
    "   \n",
    "\n",
    "**<font face=\"黑体\" color=blue size = 5>预报和观测值之和大于0样本数、相对误差绝对值总和</font>**     \n",
    "**toar(ob,fo)**  \n",
    "用来计算mre等检验指标的中间量  \n",
    "\n",
    "|参数|说明|    \n",
    "|:--|:--|  \n",
    "|**<font face=\"黑体\" color=blue size = 5>ob</font>**|实况数据, 任意维numpy数组|   \n",
    "|**<font face=\"黑体\" color=blue size = 5>fo</font>**| fo比ob.shape多一维或者保持一致，fo.shape低维与ob.shape保持一致|   \n",
    "|<font face=\"黑体\" color=blue size=5>return</font>|一个numpy数组，fo.shape 比ob.shape多一维时，即fo包含多个预报成员时，array.shape= (预报成员数，2),fo.shape与ob.shape相同时结果为size=2的一维数组,其中最后一维内容依次为预报和观测值之和大于0样本数、相对误差绝对值总和|   \n",
    "\n",
    " \n",
    "   \n",
    "**<font face=\"黑体\" color=blue size = 5>样本数、观测平均值、预报平均值、观测方差、预报方差、协方差</font>**     \n",
    "**tmmsss(ob,fo)**   \n",
    "用来计算bias、corr、nse等检验指标的中间量  \n",
    "\n",
    "\n",
    "|参数|说明|    \n",
    "|:--|:--|  \n",
    "|**<font face=\"黑体\" color=blue size = 5>ob</font>**|实况数据, 任意维numpy数组|   \n",
    "|**<font face=\"黑体\" color=blue size = 5>fo</font>**| fo比ob.shape多一维或者保持一致，fo.shape低维与ob.shape保持一致|   \n",
    "|<font face=\"黑体\" color=blue size=5>return</font>|一个numpy数组，fo.shape 比ob.shape多一维时，即fo包含多个预报成员时，array.shape= (预报成员数，6),fo.shape与ob.shape相同时结果为size=6的一维数组,其中最后一维内容依次为样本数、观测平均值、预报平均值、观测方差、预报方差、协方差|  \n",
    "\n",
    "\n",
    "\n",
    "**<font face=\"黑体\" color=blue size = 5>tmmsss合并函数</font>**     \n",
    "**tmmsss_merge(tmmsss0,tmmsss1)**  \n",
    "用来将tmmsss计算得到的分块中间统计量进行合并，得到两块数据并集对应的统计量   \n",
    "\n",
    "|参数|说明|    \n",
    "|:--|:--|  \n",
    "|**<font face=\"黑体\" color=blue size = 5>tmmsss0</font>**|任意维numpy数组，最后一维size = 6,内容包括（样本数、观测平均值、预报平均值、观测方差、预报方差、协方差）|   \n",
    "|**<font face=\"黑体\" color=blue size = 5>tmmsss1</font>**|shape和内容含义和tmmsss0一致|   \n",
    "|<font face=\"黑体\" color=blue size=5>return</font>|合并后的中间统计量，shape和内容含义和tmmsss0一致|  \n",
    "\n",
    "   \n",
    " **调用示例：**"
   ]
  },
  {
   "cell_type": "code",
   "execution_count": 27,
   "metadata": {},
   "outputs": [],
   "source": [
    "#假设在本示例中ob和fo的数据不能或不便整体输入到检验函数中，可以采用如下方式分块计算检验的中间结果。\n",
    "#再把中间结果进行相加或合并。\n",
    "\n",
    "tase_array1 = np.zeros(4)            #声明长度为4的数组存储最终合并后的中间统计量\n",
    "tms_array1 = np.zeros(6)          #声明长度为6的数组存储最终合并后的中间统计量\n",
    "toar_array1 = np.zeros(2)            #声明长度为2的数组存储最终合并后的中间统计量\n",
    "tc_array1 = np.zeros(2)\n",
    "for i in range(ob.shape[1]):\n",
    "    ob1 = ob[:,i]                   #获取分块数据\n",
    "    fo_piece1 = fo1[:,i]\n",
    "    tase1 = mem.tase(ob1,fo_piece1)           #调用函数计算分块数据的中间统计量\n",
    "    tase_array1 += tase1             #通过数组累加可直接获得tase的合并结果\n",
    "    tms1 = mem.tmmsss(ob1,fo_piece1)                   #调用函数计算分块数据的中间统计量\n",
    "    tms_array1 = mem.tmmsss_merge(tms_array1,tms1) #需调用合并函数获得tmmsss的合并结果\n",
    "    toar1 = mem.toar(ob1,fo_piece1)              #调用函数计算分块数据的中间统计量\n",
    "    toar_array1 += toar1                #通过数组累加可直接获得tase的合并结果\n",
    "    tc1 = mem.tc_count(ob1,fo_piece1,0.5)   #调用函数计算分块数据的中间统计量\n",
    "    tc_array1  += tc1    #通过数组累加可直接获得tc_count的合并结果"
   ]
  },
  {
   "cell_type": "code",
   "execution_count": 28,
   "metadata": {},
   "outputs": [],
   "source": [
    "#存储中间结果的数组也可以是高维的，示例如下：\n",
    "\n",
    "tase_array2 = np.zeros((5,4))            #声明长度为4的数组存储最终合并后的中间统计量\n",
    "tms_array2 = np.zeros((5,6))          #声明长度为6的数组存储最终合并后的中间统计量)\n",
    "toar_array2 = np.zeros((5,2))            #声明长度为2的数组存储最终合并后的中间统计量)\n",
    "tc_array2 = np.zeros((5,2))\n",
    "for i in range(ob.shape[1]):\n",
    "    ob1 = ob[:,i]                   #获取分块数据\n",
    "    fo_piece2 = fo2[...,i]\n",
    "    \n",
    "    tase1 = mem.tase(ob1,fo_piece2)           #调用函数计算分块数据的中间统计量\n",
    "    tase_array2 += tase1             #通过数组累加可直接获得tase的合并结果\n",
    "    tms1 = mem.tmmsss(ob1,fo_piece2)                   #调用函数计算分块数据的中间统计量\n",
    "    tms_array2 = mem.tmmsss_merge(tms_array2,tms1) #需调用合并函数获得tmmsss的合并结果\n",
    "    toar1 = mem.toar(ob1,fo_piece2)              #调用函数计算分块数据的中间统计量\n",
    "    toar_array2 += toar1                #通过数组累加可直接获得tase的合并结果\n",
    "    tc1 = mem.tc_count(ob1,fo_piece2,0.5)   #调用函数计算分块数据的中间统计量\n",
    "    tc_array2  += tc1    #通过数组累加可直接获得tc_count的合并结果"
   ]
  },
  {
   "cell_type": "markdown",
   "metadata": {},
   "source": [
    "**以下为根据合并后的中间统计量计算最终检验指标的函数：**  \n",
    "\n",
    "**<font face=\"黑体\" color=blue size = 5>准确率</font>**     \n",
    "**correct_rate_tc(tc_count_array)**  \n",
    "计算两组数据误差小于阈值的比例  \n",
    "\n",
    "\n",
    "|参数|说明|    \n",
    "|:--|:--|  \n",
    "|**<font face=\"黑体\" color=blue size = 5>tc_count_array</font>**|包含检验中间结果的多维数组，其中最后一维长度为2，分别记录了总样本数和正确样本数，它通常是tc_count函数的计算结果，或者计算结果的累加|   \n",
    "|<font face=\"黑体\" color=blue size=5>return</font>|整数或数组，它比tc_count_array少了最后一维。其中每个元素为0到1的实数，最优值为1  |  \n",
    "\n",
    "**调用示例：**"
   ]
  },
  {
   "cell_type": "code",
   "execution_count": 29,
   "metadata": {},
   "outputs": [
    {
     "data": {
      "text/plain": [
       "0.7524"
      ]
     },
     "execution_count": 29,
     "metadata": {},
     "output_type": "execute_result"
    }
   ],
   "source": [
    "mem.correct_rate_tc(tc_array1)    #单个预报是返回实时"
   ]
  },
  {
   "cell_type": "code",
   "execution_count": 30,
   "metadata": {},
   "outputs": [
    {
     "data": {
      "text/plain": [
       "array([0.7532, 0.7529, 0.7524, 0.7519, 0.7568])"
      ]
     },
     "execution_count": 30,
     "metadata": {},
     "output_type": "execute_result"
    }
   ],
   "source": [
    "mem.correct_rate_tc(tc_array2)   #多个预报时返回数组，size = 预报成员数"
   ]
  },
  {
   "cell_type": "markdown",
   "metadata": {},
   "source": [
    "**<font face=\"黑体\" color=blue size = 5>平均误差</font>**     \n",
    "**me_tase(tase_array)**  \n",
    "计算两组数据的误差平均值  \n",
    "\n",
    "\n",
    "|参数|说明|    \n",
    "|:--|:--|  \n",
    "|**<font face=\"黑体\" color=blue size = 5>tase_array</font>**|包含检验中间结果的多维数组，其中最后一维长度为4，分别记录了样本数，误差和、绝对误差和，误差平方和，它通常是tase函数的计算结果，或者计算结果的累加|   \n",
    "|<font face=\"黑体\" color=blue size=5>return</font>|整数或数组，它比tase_array少了最后一维。其中每个元素为负无穷到正无穷的实数，最优值为0  | \n",
    "\n",
    "   \n",
    "**调用示例：**"
   ]
  },
  {
   "cell_type": "code",
   "execution_count": 31,
   "metadata": {},
   "outputs": [
    {
     "data": {
      "text/plain": [
       "0.002480526271419685"
      ]
     },
     "execution_count": 31,
     "metadata": {},
     "output_type": "execute_result"
    }
   ],
   "source": [
    "mem.me_tase(tase_array1)    #单个预报是返回实时"
   ]
  },
  {
   "cell_type": "code",
   "execution_count": 32,
   "metadata": {},
   "outputs": [
    {
     "data": {
      "text/plain": [
       "array([0.00086145, 0.00307549, 0.00313326, 0.00864002, 0.00610793])"
      ]
     },
     "execution_count": 32,
     "metadata": {},
     "output_type": "execute_result"
    }
   ],
   "source": [
    "mem.me_tase(tase_array2)  #多个预报时返回数组，size = 预报成员数"
   ]
  },
  {
   "cell_type": "markdown",
   "metadata": {},
   "source": [
    "**<font face=\"黑体\" color=blue size = 5>平均绝对误差</font>**     \n",
    "**mae_tase(tase_array)**   \n",
    "计算两组数据平均绝对值误差 \n",
    "\n",
    "\n",
    "|参数|说明|    \n",
    "|:--|:--|  \n",
    "|**<font face=\"黑体\" color=blue size = 5>tase_array</font>**|包含检验中间结果的多维数组，其中最后一维长度为4，分别记录了样本数，误差和、绝对误差和，误差平方和，它通常是tase函数的计算结果，或者计算结果的累加|   \n",
    "|<font face=\"黑体\" color=blue size=5>return</font>|整数或数组，它比tase_array少了最后一维。其中每个元素为0到正无穷的实数，最优值为0| \n",
    "  \n",
    "\n",
    " **调用示例：**"
   ]
  },
  {
   "cell_type": "code",
   "execution_count": 33,
   "metadata": {},
   "outputs": [
    {
     "data": {
      "text/plain": [
       "0.3331230186705488"
      ]
     },
     "execution_count": 33,
     "metadata": {},
     "output_type": "execute_result"
    }
   ],
   "source": [
    "mem.mae_tase(tase_array1)   #单个预报是返回实时"
   ]
  },
  {
   "cell_type": "code",
   "execution_count": 34,
   "metadata": {},
   "outputs": [
    {
     "data": {
      "text/plain": [
       "array([0.33217457, 0.33126373, 0.33014924, 0.33142996, 0.33102543])"
      ]
     },
     "execution_count": 34,
     "metadata": {},
     "output_type": "execute_result"
    }
   ],
   "source": [
    "mem.mae_tase(tase_array2)   #多个预报时返回数组，size = 预报成员数"
   ]
  },
  {
   "cell_type": "markdown",
   "metadata": {},
   "source": [
    "**<font face=\"黑体\" color=blue size = 5>均方误差</font>**     \n",
    "**mse_tase(tase_array)**   \n",
    "计算两组数据均方误差 \n",
    "  \n",
    "\n",
    "|参数|说明|    \n",
    "|:--|:--|  \n",
    "|**<font face=\"黑体\" color=blue size = 5>tase_array</font>**|包含检验中间结果的多维数组，其中最后一维长度为4，分别记录了样本数，误差和、绝对误差和，误差平方和，它通常是tase函数的计算结果，或者计算结果的累加|   \n",
    "|<font face=\"黑体\" color=blue size=5>return</font>|整数或数组，它比tase_array少了最后一维。其中每个元素为0到正无穷的实数，最优值为0| \n",
    "\n",
    "**调用示例：**"
   ]
  },
  {
   "cell_type": "code",
   "execution_count": 35,
   "metadata": {},
   "outputs": [
    {
     "data": {
      "text/plain": [
       "0.16663620427759862"
      ]
     },
     "execution_count": 35,
     "metadata": {},
     "output_type": "execute_result"
    }
   ],
   "source": [
    "mem.mse_tase(tase_array1)   #单个预报是返回实时"
   ]
  },
  {
   "cell_type": "code",
   "execution_count": 36,
   "metadata": {},
   "outputs": [
    {
     "data": {
      "text/plain": [
       "array([0.16581315, 0.16531946, 0.16487205, 0.16553529, 0.16502758])"
      ]
     },
     "execution_count": 36,
     "metadata": {},
     "output_type": "execute_result"
    }
   ],
   "source": [
    "mem.mse_tase(tase_array2)   #多个预报时返回数组，size = 预报成员数"
   ]
  },
  {
   "cell_type": "markdown",
   "metadata": {},
   "source": [
    "**<font face=\"黑体\" color=blue size = 5>平均绝对误差</font>**     \n",
    "**rmse_tase(tase_array)**   \n",
    "计算两组数据均方根误差 \n",
    "  \n",
    "\n",
    "|参数|说明|    \n",
    "|:--|:--|  \n",
    "|**<font face=\"黑体\" color=blue size = 5>tase_array</font>**|包含检验中间结果的多维数组，其中最后一维长度为4，分别记录了样本数，误差和、绝对误差和，误差平方和，它通常是tase函数的计算结果，或者计算结果的累加|   \n",
    "|<font face=\"黑体\" color=blue size=5>return</font>|整数或数组，它比tase_array少了最后一维。其中每个元素为0到正无穷的实数，最优值为0| \n",
    "\n",
    "**调用示例：**"
   ]
  },
  {
   "cell_type": "code",
   "execution_count": 37,
   "metadata": {},
   "outputs": [
    {
     "data": {
      "text/plain": [
       "0.4082109801041596"
      ]
     },
     "execution_count": 37,
     "metadata": {},
     "output_type": "execute_result"
    }
   ],
   "source": [
    "mem.rmse_tase(tase_array1)    #单个预报是返回实时"
   ]
  },
  {
   "cell_type": "code",
   "execution_count": 38,
   "metadata": {},
   "outputs": [
    {
     "data": {
      "text/plain": [
       "array([0.40720161, 0.40659495, 0.40604439, 0.40686029, 0.40623587])"
      ]
     },
     "execution_count": 38,
     "metadata": {},
     "output_type": "execute_result"
    }
   ],
   "source": [
    "mem.rmse_tase(tase_array2)  #多个预报时返回数组，size = 预报成员数"
   ]
  },
  {
   "cell_type": "markdown",
   "metadata": {},
   "source": [
    "**<font face=\"黑体\" color=blue size = 5>均值偏差</font>**     \n",
    "**bias_cmmsss(cmmsss_array)**\n",
    "计算求预测数据和实况数据的平均值之比\n",
    "\n",
    "\n",
    "\n",
    "|参数|说明|    \n",
    "|:--|:--|  \n",
    "|**<font face=\"黑体\" color=blue size = 5>cmmsss_array</font>**|包含检验中间结果的多维数组，其中最后一维长度为6，分别记录了样本数、观测平均值、预报平均值、观测方差、预报方差、协方差，它通常是cmmsss函数的计算结果，或者再经tmmsss_merge函数合并的结果|   \n",
    "|<font face=\"黑体\" color=blue size=5>return</font>|整数或数组，它比cmmsss_array少了最后一维。其中每个元素为0到正无穷，最优值为1  | \n",
    "\n",
    " **调用示例：**"
   ]
  },
  {
   "cell_type": "code",
   "execution_count": 39,
   "metadata": {},
   "outputs": [
    {
     "data": {
      "text/plain": [
       "1.0050191478034054"
      ]
     },
     "execution_count": 39,
     "metadata": {},
     "output_type": "execute_result"
    }
   ],
   "source": [
    "mem.bias_tmmsss(tms_array1)   #单个预报是返回实时"
   ]
  },
  {
   "cell_type": "code",
   "execution_count": 40,
   "metadata": {},
   "outputs": [
    {
     "data": {
      "text/plain": [
       "array([0.99825996, 0.99381547, 0.99370003, 0.98281799, 0.98779197])"
      ]
     },
     "execution_count": 40,
     "metadata": {},
     "output_type": "execute_result"
    }
   ],
   "source": [
    "mem.bias_tmmsss(tms_array2)  #多个预报时返回数组，size = 预报成员数"
   ]
  },
  {
   "cell_type": "markdown",
   "metadata": {},
   "source": [
    "**<font face=\"黑体\" color=blue size = 5>相关系数</font>**     \n",
    "**corr_tmmsss(tmmsss_array)**  \n",
    "计算求预测数据和实况数据的平均值之比\n",
    "\n",
    "\n",
    "|参数|说明|    \n",
    "|:--|:--|  \n",
    "|**<font face=\"黑体\" color=blue size = 5>cmmsss_array</font>**|包含检验中间结果的多维数组，其中最后一维长度为6，分别记录了样本数、观测平均值、预报平均值、观测方差、预报方差、协方差，它通常是cmmsss函数的计算结果，或者再经tmmsss_merge函数合并的结果|   \n",
    "|<font face=\"黑体\" color=blue size=5>return</font>|整数或数组，它比cmmsss_array少了最后一维。其中每个元素为-1到1的实数，最优值为1  | \n",
    "  \n",
    "\n",
    "**调用示例：**"
   ]
  },
  {
   "cell_type": "code",
   "execution_count": 41,
   "metadata": {},
   "outputs": [
    {
     "data": {
      "text/plain": [
       "0.004982034564989438"
      ]
     },
     "execution_count": 41,
     "metadata": {},
     "output_type": "execute_result"
    }
   ],
   "source": [
    "mem.corr_tmmsss(tms_array1)    #单个预报是返回实时"
   ]
  },
  {
   "cell_type": "code",
   "execution_count": 42,
   "metadata": {},
   "outputs": [
    {
     "data": {
      "text/plain": [
       "array([ 0.00395222,  0.01241913,  0.02059939, -0.0025072 ,  0.00152813])"
      ]
     },
     "execution_count": 42,
     "metadata": {},
     "output_type": "execute_result"
    }
   ],
   "source": [
    "mem.corr_tmmsss(tms_array2)   #多个预报时返回数组，size = 预报成员数"
   ]
  },
  {
   "cell_type": "markdown",
   "metadata": {},
   "source": [
    "**<font face=\"黑体\" color=blue size = 5>定量相对误差</font>**     \n",
    "**mre_toar(toar_array)**  \n",
    "对每一对观测和预报不同时为0的数据计算（预报-观测）/(预报+观测）取绝对值后再做平均\n",
    "  \n",
    "  \n",
    "|参数|说明|    \n",
    "|:--|:--|  \n",
    "|**<font face=\"黑体\" color=blue size = 5>toar_array</font>**|包含检验中间结果的多维数组，其中最后一维长度为2，其内容依次为预报和观测值之和大于0样本数、相对误差绝对值总和，它通常是toar函数的计算结果或结果的累加|   \n",
    "|<font face=\"黑体\" color=blue size=5>return</font>|整数或数组，它比cmmsss_array少了最后一维。其中每个元素为0到1的实数，最优值为0 | \n",
    "  \n",
    "   \n",
    "**调用示例：**"
   ]
  },
  {
   "cell_type": "code",
   "execution_count": 43,
   "metadata": {},
   "outputs": [
    {
     "data": {
      "text/plain": [
       "0.38929320451015703"
      ]
     },
     "execution_count": 43,
     "metadata": {},
     "output_type": "execute_result"
    }
   ],
   "source": [
    "mem.mre_toar(toar_array1)   #单个预报是返回实时"
   ]
  },
  {
   "cell_type": "code",
   "execution_count": 44,
   "metadata": {},
   "outputs": [
    {
     "data": {
      "text/plain": [
       "array([0.38899618, 0.38822326, 0.38821657, 0.38351784, 0.38583246])"
      ]
     },
     "execution_count": 44,
     "metadata": {},
     "output_type": "execute_result"
    }
   ],
   "source": [
    "mem.mre_toar(toar_array2)    #单个预报是返回实时"
   ]
  },
  {
   "cell_type": "markdown",
   "metadata": {},
   "source": [
    "**<font face=\"黑体\" color=blue size = 5>纳什系数</font>**     \n",
    "**nse_tase_tmmsss(tase_array,tmmsss_array)**  \n",
    "水文中常用的降水检验方法，计算方法为：1 - 均方误差/观测方差  \n",
    "\n",
    "\n",
    "|参数|说明|    \n",
    "|:--|:--|  \n",
    "|**<font face=\"黑体\" color=blue size = 5>tase_array</font>**|包含检验中间结果的多维数组，其中最后一维长度为4，分别记录了样本数，误差和、绝对误差和，误差平方和，它通常是tase函数的计算结果，或者计算结果的累加|  \n",
    "|**<font face=\"黑体\" color=blue size = 5>cmmsss_array</font>**|包含检验中间结果的多维数组，其中最后一维长度为6，分别记录了样本数、观测平均值、预报平均值、观测方差、预报方差、协方差，它通常是cmmsss函数的计算结果，或者再经tmmsss_merge函数合并的结果。除最后一维之外，其余维度需和tase_array保持一致|   \n",
    "|<font face=\"黑体\" color=blue size=5>return</font>|整数或数组，它比cmmsss_array少了最后一维。每个元素是负无穷到1的实数，最优值为1 | \n",
    "  \n",
    "\n",
    "     \n",
    "**调用示例：**"
   ]
  },
  {
   "cell_type": "code",
   "execution_count": 45,
   "metadata": {},
   "outputs": [
    {
     "data": {
      "text/plain": [
       "-0.9969469856705915"
      ]
     },
     "execution_count": 45,
     "metadata": {},
     "output_type": "execute_result"
    }
   ],
   "source": [
    "mem.nse_tase_tmmsss(tase_array1,tms_array1)    #单个预报是返回实时"
   ]
  },
  {
   "cell_type": "code",
   "execution_count": 46,
   "metadata": {},
   "outputs": [
    {
     "data": {
      "text/plain": [
       "array([-0.98708365, -0.98116726, -0.97580553, -0.98375382, -0.97766948])"
      ]
     },
     "execution_count": 46,
     "metadata": {},
     "output_type": "execute_result"
    }
   ],
   "source": [
    "mem.nse_tase_tmmsss(tase_array2,tms_array2)   #多个预报时返回数组，size = 预报成员数"
   ]
  },
  {
   "cell_type": "markdown",
   "metadata": {},
   "source": [
    "以上只是展示了分类检验的维度为1的情况，实际上上述思路可以扩展至任意高维的情况。熟练使用中间统计量计算和合并方法，基于中间统计量整体计算分类问题下的检验指标数组，是提高代码编写效果的关键。上述检验函数的内部也都采用了numpy的整体计算方式实现，在计算效率上进行了最大程度的优化。"
   ]
  },
  {
   "cell_type": "code",
   "execution_count": null,
   "metadata": {},
   "outputs": [],
   "source": []
  }
 ],
 "metadata": {
  "kernelspec": {
   "display_name": "Python 3",
   "language": "python",
   "name": "python3"
  },
  "language_info": {
   "codemirror_mode": {
    "name": "ipython",
    "version": 3
   },
   "file_extension": ".py",
   "mimetype": "text/x-python",
   "name": "python",
   "nbconvert_exporter": "python",
   "pygments_lexer": "ipython3",
   "version": "3.7.1"
  }
 },
 "nbformat": 4,
 "nbformat_minor": 2
}
