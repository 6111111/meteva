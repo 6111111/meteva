{
 "cells": [
  {
   "cell_type": "code",
   "execution_count": 1,
   "metadata": {},
   "outputs": [],
   "source": [
    "%matplotlib inline\n",
    "%load_ext autoreload\n",
    "%autoreload 2\n",
    "import nmc_verification.nmc_vf_base as nvb\n",
    "import pandas as pd\n",
    "import numpy as np\n",
    "import datetime\n",
    "import copy"
   ]
  },
  {
   "cell_type": "markdown",
   "metadata": {},
   "source": [
    "生成测试数据"
   ]
  },
  {
   "cell_type": "code",
   "execution_count": 2,
   "metadata": {},
   "outputs": [
    {
     "name": "stdout",
     "output_type": "stream",
     "text": [
      "      站号   经度  纬度  数据\n",
      "0  54511  100  30  50\n",
      "1  54512  101  31   4\n",
      "2  54513  102  32  69\n",
      "3  54514  103  33  92\n"
     ]
    }
   ],
   "source": [
    "data = {\"站号\":np.arange(54511,54515).tolist(),\n",
    "        \"经度\":np.arange(100,104,1).tolist(),\n",
    "        \"纬度\":np.arange(30,34,1).tolist(),\n",
    "        \"数据\":(np.random.rand(4)*100).astype(np.int16)}\n",
    "df = pd.DataFrame(data)\n",
    "print(df)"
   ]
  },
  {
   "cell_type": "code",
   "execution_count": 3,
   "metadata": {},
   "outputs": [
    {
     "name": "stdout",
     "output_type": "stream",
     "text": [
      "   level                time  dtime     id  lon  lat  ob\n",
      "0      0 2019-01-02 08:00:00      0  54511   30  100  50\n",
      "1      0 2019-01-02 08:00:00      0  54512   31  101   4\n",
      "2      0 2019-01-02 08:00:00      0  54513   32  102  69\n",
      "3      0 2019-01-02 08:00:00      0  54514   33  103  92\n"
     ]
    }
   ],
   "source": [
    "sta_ob = nvb.sta_data(df,columns = [\"id\",\"lat\",\"lon\",\"data0\"])\n",
    "nvb.set_stadata_names(sta_ob,[\"ob\"])\n",
    "nvb.set_stadata_coords(sta_ob,level = 0,time = datetime.datetime(2019,1,2,8,0),dtime = 0)\n",
    "print(sta_ob)"
   ]
  },
  {
   "cell_type": "code",
   "execution_count": 4,
   "metadata": {},
   "outputs": [
    {
     "name": "stdout",
     "output_type": "stream",
     "text": [
      "   level                time  dtime     id  lon  lat  ec\n",
      "0      0 2019-01-01 08:00:00     12  54511   30  100  50\n",
      "1      0 2019-01-01 08:00:00     24  54512   31  101   4\n",
      "2      0 2019-01-01 20:00:00     12  54513   32  102  69\n",
      "3      0 2019-01-01 20:00:00     24  54514   33  103  92\n"
     ]
    }
   ],
   "source": [
    "sta_ec = copy.deepcopy(sta_ob)\n",
    "nvb.set_stadata_names(sta_ec,[\"ec\"])\n",
    "sta_ec[\"time\"].values[0:2] = datetime.datetime(2019,1,1,8,0)\n",
    "sta_ec[\"time\"].values[2:] = datetime.datetime(2019,1,1,20,0)\n",
    "sta_ec[\"dtime\"].values[0:4:2] = 12\n",
    "sta_ec[\"dtime\"].values[1:4:2] = 24\n",
    "print(sta_ec)"
   ]
  },
  {
   "cell_type": "code",
   "execution_count": 6,
   "metadata": {},
   "outputs": [
    {
     "name": "stdout",
     "output_type": "stream",
     "text": [
      "   level                time  dtime     id  lon  lat  grapes\n",
      "0      0 2019-01-01 08:00:00     12  54511   30  100      50\n",
      "1      0 2019-01-01 08:00:00     24  54512   31  101       4\n",
      "2      0 2019-01-01 20:00:00     12  54513   32  102      69\n",
      "3      0 2019-01-01 20:00:00     24  54514   33  103      92\n"
     ]
    }
   ],
   "source": [
    "sta_grapes = copy.deepcopy(sta_ec)\n",
    "nvb.set_stadata_names(sta_grapes,[\"grapes\"])\n",
    "sta_grapes[\"dtime\"].values[8:] = 24\n",
    "print(sta_grapes)"
   ]
  },
  {
   "cell_type": "markdown",
   "metadata": {},
   "source": [
    "# 站点数据纵向拼接  \n",
    "**combine_join(sta, sta1)**   \n",
    "将两个站点数据在纵向拼接，拼接后行数会增加\n",
    "\n",
    "\n",
    "**参数说明：**  \n",
    " **sta**: 站点数据  \n",
    " **sta1**: 站点数据1         \n",
    " **return**: 如果sta和sta1中一个为None，则返回另一个。否则返回两者的拼接结果，拼接后数据名称采用sta中的数据名称      \n",
    "\n",
    "**调用示例**\n"
   ]
  },
  {
   "cell_type": "code",
   "execution_count": 7,
   "metadata": {},
   "outputs": [
    {
     "name": "stdout",
     "output_type": "stream",
     "text": [
      "   level                time  dtime     id  lon  lat  ob\n",
      "0      0 2019-01-02 08:00:00      0  54511   30  100  50\n",
      "1      0 2019-01-02 08:00:00      0  54512   31  101   4\n",
      "2      0 2019-01-02 08:00:00      0  54513   32  102  69\n",
      "3      0 2019-01-02 08:00:00      0  54514   33  103  92\n"
     ]
    }
   ],
   "source": [
    "sta_c0 = nvb.combine_join(None,sta_ob)\n",
    "print(sta_c0)"
   ]
  },
  {
   "cell_type": "code",
   "execution_count": 8,
   "metadata": {},
   "outputs": [
    {
     "name": "stdout",
     "output_type": "stream",
     "text": [
      "   level                time  dtime     id  lon  lat  ob\n",
      "0      0 2019-01-02 08:00:00      0  54511   30  100  50\n",
      "1      0 2019-01-02 08:00:00      0  54512   31  101   4\n",
      "2      0 2019-01-02 08:00:00      0  54513   32  102  69\n",
      "3      0 2019-01-02 08:00:00      0  54514   33  103  92\n",
      "4      0 2019-01-01 08:00:00     12  54511   30  100  50\n",
      "5      0 2019-01-01 08:00:00     24  54512   31  101   4\n",
      "6      0 2019-01-01 20:00:00     12  54513   32  102  69\n",
      "7      0 2019-01-01 20:00:00     24  54514   33  103  92\n"
     ]
    }
   ],
   "source": [
    "sta_c1 = nvb.combine_join(sta_ob,sta_ec)\n",
    "print(sta_c1)"
   ]
  },
  {
   "cell_type": "markdown",
   "metadata": {},
   "source": [
    "# 基于站点的横向合并  \n",
    "**combine_on_id(sta, sta1)**   \n",
    "将两个站点数据在横向合并，只保留一份时空坐标信息\n",
    "\n",
    "\n",
    "**参数说明：**  \n",
    " **sta**: 站点数据  \n",
    " **sta1**: 站点数据1         \n",
    " **return**: 如果sta和sta1中一个为None，则返回另一个。否则返回两者合并结果，合并时采用id作为合并依据，保留两个站点数据中都有的站点，其它时空坐标信息采用sta中的坐标信息。        \n",
    "\n",
    "**调用示例**"
   ]
  },
  {
   "cell_type": "code",
   "execution_count": 9,
   "metadata": {},
   "outputs": [
    {
     "name": "stdout",
     "output_type": "stream",
     "text": [
      "   level                time  dtime     id  lon  lat  ob  ec\n",
      "0      0 2019-01-02 08:00:00      0  54511   30  100  50  50\n",
      "1      0 2019-01-02 08:00:00      0  54512   31  101   4   4\n",
      "2      0 2019-01-02 08:00:00      0  54513   32  102  69  69\n",
      "3      0 2019-01-02 08:00:00      0  54514   33  103  92  92\n"
     ]
    }
   ],
   "source": [
    "sta_c2 = nvb.combine_on_id(sta_ob,sta_ec)\n",
    "print(sta_c2)"
   ]
  },
  {
   "cell_type": "markdown",
   "metadata": {},
   "source": [
    "# 基于所有坐标的横向合并  \n",
    "**combine_on_id(sta, sta1)**   \n",
    "将两个站点数据在横向合并，只保留一份时空坐标信息\n",
    "\n",
    "\n",
    "**参数说明：**  \n",
    " **sta**: 站点数据  \n",
    " **sta1**: 站点数据1         \n",
    " **return**: 如果sta和sta1中一个为None，则返回另一个。否则返回两者合并结果，合并时仅保留所有维度的取值都一样的站点          \n",
    "\n",
    "**调用示例**"
   ]
  },
  {
   "cell_type": "code",
   "execution_count": 10,
   "metadata": {},
   "outputs": [
    {
     "name": "stdout",
     "output_type": "stream",
     "text": [
      "Empty DataFrame\n",
      "Columns: [level, time, dtime, id, lon, lat, ob, ec]\n",
      "Index: []\n"
     ]
    }
   ],
   "source": [
    "sta_c3 = nvb.combine_on_all_coords(sta_ob,sta_ec)\n",
    "print(sta_c3)"
   ]
  },
  {
   "cell_type": "code",
   "execution_count": 11,
   "metadata": {},
   "outputs": [
    {
     "name": "stdout",
     "output_type": "stream",
     "text": [
      "   level                time  dtime     id  lon  lat  ec  grapes\n",
      "0      0 2019-01-01 08:00:00     12  54511   30  100  50      50\n",
      "1      0 2019-01-01 08:00:00     24  54512   31  101   4       4\n",
      "2      0 2019-01-01 20:00:00     12  54513   32  102  69      69\n",
      "3      0 2019-01-01 20:00:00     24  54514   33  103  92      92\n"
     ]
    }
   ],
   "source": [
    "sta_c4 = nvb.combine_on_all_coords(sta_ec,sta_grapes)\n",
    "print(sta_c4)"
   ]
  },
  {
   "cell_type": "markdown",
   "metadata": {},
   "source": [
    "# 观测和预报的匹配合并   \n",
    "**combine_on_id(sta_ob, sta_fo_list)**   \n",
    "首先不同的预报数据基于所有坐标进行横向合并。再根据合并结果中每一行数据中的起报时间（time）和预报时效(dtime)计算出其在观测数据sta_ob中对应的观测值，将观测值加入到该行数据中。\n",
    "\n",
    "\n",
    "**参数说明：**  \n",
    " **sta_ob**: 观测站点数据,其中dtime列都为0，  \n",
    " **sta_fo_list**: 预报站点数据列表         \n",
    " **return**: 合并后的站点数据。          \n",
    "\n",
    "**调用示例**"
   ]
  },
  {
   "cell_type": "code",
   "execution_count": 13,
   "metadata": {},
   "outputs": [
    {
     "name": "stdout",
     "output_type": "stream",
     "text": [
      "   level                time  dtime     id  lon  lat  ob  ec  grapes\n",
      "0      0 2019-01-01 08:00:00     24  54512   31  101   4   4       4\n",
      "1      0 2019-01-01 20:00:00     12  54513   32  102  69  69      69\n"
     ]
    }
   ],
   "source": [
    "sta_c4 = nvb.combine_on_id_and_obTime(sta_ob,[sta_ec,sta_grapes])\n",
    "print(sta_c4)"
   ]
  },
  {
   "cell_type": "code",
   "execution_count": null,
   "metadata": {},
   "outputs": [],
   "source": []
  },
  {
   "cell_type": "code",
   "execution_count": null,
   "metadata": {},
   "outputs": [],
   "source": []
  }
 ],
 "metadata": {
  "kernelspec": {
   "display_name": "Python 3",
   "language": "python",
   "name": "python3"
  },
  "language_info": {
   "codemirror_mode": {
    "name": "ipython",
    "version": 3
   },
   "file_extension": ".py",
   "mimetype": "text/x-python",
   "name": "python",
   "nbconvert_exporter": "python",
   "pygments_lexer": "ipython3",
   "version": "3.7.1"
  }
 },
 "nbformat": 4,
 "nbformat_minor": 2
}
