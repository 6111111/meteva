{
 "cells": [
  {
   "cell_type": "code",
   "execution_count": 1,
   "metadata": {},
   "outputs": [
    {
     "name": "stderr",
     "output_type": "stream",
     "text": [
      "\n",
      "Bad key \"text.kerning_factor\" on line 4 in\n",
      "s:\\ProgramData\\Anaconda3\\lib\\site-packages\\matplotlib\\mpl-data\\stylelib\\_classic_test_patch.mplstyle.\n",
      "You probably need to get an updated matplotlibrc file from\n",
      "http://github.com/matplotlib/matplotlib/blob/master/matplotlibrc.template\n",
      "or from the matplotlib source distribution\n",
      "s:\\ProgramData\\Anaconda3\\lib\\site-packages\\statsmodels\\tools\\_testing.py:19: FutureWarning: pandas.util.testing is deprecated. Use the functions in the public API at pandas.testing instead.\n",
      "  import pandas.util.testing as tm\n"
     ]
    }
   ],
   "source": [
    "%matplotlib inline\n",
    "%load_ext autoreload\n",
    "%autoreload 2\n",
    "import meteva.base as meb\n",
    "import meteva.method as mem\n",
    "import meteva.product as mpd\n",
    "import numpy as np\n",
    "import datetime\n",
    "import copy\n",
    "import matplotlib.pyplot as plt\n",
    "import pandas as pd"
   ]
  },
  {
   "cell_type": "code",
   "execution_count": null,
   "metadata": {},
   "outputs": [],
   "source": [
    "station = meb.read_station(meb.station_国家站)\n",
    "station[\"data0\"]= meteva.IV"
   ]
  },
  {
   "cell_type": "code",
   "execution_count": 3,
   "metadata": {},
   "outputs": [],
   "source": [
    "start_time = datetime.datetime(2019,7,1,8,0)\n",
    "end_time = datetime.datetime(2019,9,1,8,0)"
   ]
  },
  {
   "cell_type": "code",
   "execution_count": null,
   "metadata": {},
   "outputs": [
    {
     "name": "stdout",
     "output_type": "stream",
     "text": [
      "\\\\10.20.90.36\\rc\\RAIN\\rain01\\2019\\2019072206.000文件格式不能识别。可能原因：文件未按micaps3格式存储\n",
      "\\\\10.20.90.36\\rc\\RAIN\\rain01\\2019\\2019072415.000文件格式不能识别。可能原因：文件未按micaps3格式存储\n",
      "\\\\10.20.90.36\\rc\\RAIN\\rain01\\2019\\2019072503.000文件编码不是GBK或UTF-8格式，程序暂时不能识别\n",
      "\\\\10.20.90.36\\rc\\RAIN\\rain01\\2019\\2019072507.000文件格式不能识别。可能原因：文件未按micaps3格式存储\n",
      "\\\\10.20.90.36\\rc\\RAIN\\rain01\\2019\\2019072508.000文件格式不能识别。可能原因：文件未按micaps3格式存储\n",
      "\\\\10.20.90.36\\rc\\RAIN\\rain01\\2019\\2019072509.000文件格式不能识别。可能原因：文件未按micaps3格式存储\n",
      "\\\\10.20.90.36\\rc\\RAIN\\rain01\\2019\\2019072510.000文件格式不能识别。可能原因：文件未按micaps3格式存储\n",
      "\\\\10.20.90.36\\rc\\RAIN\\rain01\\2019\\2019072511.000文件格式不能识别。可能原因：文件未按micaps3格式存储\n",
      "\\\\10.20.90.36\\rc\\RAIN\\rain01\\2019\\2019072512.000文件格式不能识别。可能原因：文件未按micaps3格式存储\n",
      "\\\\10.20.90.36\\rc\\RAIN\\rain01\\2019\\2019072513.000文件格式不能识别。可能原因：文件未按micaps3格式存储\n"
     ]
    }
   ],
   "source": [
    "#读取观测数据\n",
    "dir_ob = r\"\\\\10.20.90.36\\rc\\RAIN\\rain01\\YYYY\\YYYYMMDDHH.000\"\n",
    "time2 = start_time\n",
    "ob_1h_list = []\n",
    "while time2<end_time:\n",
    "    path = meb.tool.path_tools.get_path(dir_ob,time2)\n",
    "    sta = meb.io.read_stadata_from_micaps3(path,station = station,level = 0,time = time2,dtime = 0,data_name = \"ob\",show = True)\n",
    "    ob_1h_list.append(sta)\n",
    "    time2 = time2 + datetime.timedelta(hours =1)"
   ]
  },
  {
   "cell_type": "code",
   "execution_count": null,
   "metadata": {},
   "outputs": [],
   "source": [
    "sta_1h = pd.concat(ob_1h_list,axis = 0)\n",
    "sta_3h = meb.accumulate_time(sta_1h,3,keep_all = True)"
   ]
  },
  {
   "cell_type": "code",
   "execution_count": null,
   "metadata": {},
   "outputs": [],
   "source": [
    "#读取康辉预报数据\n",
    "dir_kanghui = r\"L:\\kanghui\\QPF_threshhold0.7\\YYMMDDHH.TTT.nc\"\n",
    "time2 = start_time + datetime.timedelta(hours = -8)\n",
    "sta_list = []\n",
    "while time2 < end_time:\n",
    "    for dh in range(3,75,3):\n",
    "        path = meb.tool.path_tools.get_path(dir_kanghui,time2,dh)\n",
    "        grd = meb.io.read_griddata_from_nc(path,level = 0,time = time2,dtime = dh,data_name = \"KH\",show = False)\n",
    "        if grd is not None:\n",
    "            sta = meb.fun.interp_gs_nearest(grd,station)\n",
    "            sta_list.append(sta)\n",
    "    time2 = time2 + datetime.timedelta(hours = 12) \n",
    "sta_kh = pd.concat(sta_list,axis = 0)\n",
    "sta_kh[\"time\"] += datetime.timedelta(hours = 8)"
   ]
  },
  {
   "cell_type": "code",
   "execution_count": null,
   "metadata": {},
   "outputs": [],
   "source": [
    "#读取精细化预报数据\n",
    "dir_kanghui = r\"O:\\data\\grid\\NWFD_SCMOC\\RAIN03\\YYYYMMDD\\YYMMDDHH.TTT.nc\"\n",
    "time2 = start_time\n",
    "sta_list = []\n",
    "while time2 < end_time:\n",
    "    for dh in range(3,75,3):\n",
    "        path = meb.tool.path_tools.get_path(dir_kanghui,time2,dh)\n",
    "        grd = meb.io.read_griddata_from_nc(path,level = 0,time = time2,dtime = dh,data_name = \"scmoc\",show = False)\n",
    "        if grd is not None:\n",
    "            sta = meb.fun.interp_gs_nearest(grd,station)\n",
    "            sta_list.append(sta)\n",
    "    time2 = time2 + datetime.timedelta(hours = 12) \n",
    "sta_scmoc = pd.concat(sta_list,axis = 0)"
   ]
  },
  {
   "cell_type": "code",
   "execution_count": null,
   "metadata": {},
   "outputs": [],
   "source": [
    "#读取EC预报数据\n",
    "dir_ec = r\"O:\\data\\grid\\ECMWF_HR\\APCP\\YYYYMMDD\\YYMMDDHH.TTT.nc\"\n",
    "time2 = start_time\n",
    "sta_list = []\n",
    "while time2 < end_time:\n",
    "    for dh in range(3,75,3):\n",
    "        path = meb.tool.path_tools.get_path(dir_ec,time2,dh-3)\n",
    "        grd0 = meb.io.read_griddata_from_nc(path,level = 0,time = time2,dtime = dh,data_name = \"ecmwf\",show = False)\n",
    "        path = meb.tool.path_tools.get_path(dir_ec,time2,dh)\n",
    "        grd1 = meb.io.read_griddata_from_nc(path,level = 0,time = time2,dtime = dh,data_name = \"ecmwf\",show = False)\n",
    "        if grd0 is not None and grd1 is not None:\n",
    "            grd1.values =grd1.values[...] - grd0.values[...]\n",
    "            sta = meb.fun.interp_gs_nearest(grd1,station)\n",
    "            sta_list.append(sta)\n",
    "    time2 = time2 + datetime.timedelta(hours = 12) \n",
    "sta_ec = pd.concat(sta_list,axis = 0)"
   ]
  },
  {
   "cell_type": "code",
   "execution_count": null,
   "metadata": {},
   "outputs": [],
   "source": [
    "sta_all = meb.combine_on_obTime_id(sta_3h,[sta_scmoc,sta_ec,sta_kh],need_match_ob = True)\n",
    "sta_all = meb.sele_by_para(sta_all,value = [0,900])\n",
    "sta_all.to_hdf(r\"L:\\kanghui\\QPF\\veri_rain_03h_3member.h5\",\"df\")\n",
    "sta_all = pd.read_hdf(r\"L:\\kanghui\\QPF\\veri_rain_03h_3member.h5\",\"df\")"
   ]
  },
  {
   "cell_type": "code",
   "execution_count": null,
   "metadata": {},
   "outputs": [],
   "source": [
    "ts = mpd.score(sta_all,mem.ts,g = \"dtime\",para1 = [0.1,3,10,20])\n",
    "bias =  mpd.score(sta_all,mem.bias,g = \"dtime\",para1 = [0.1,3,10,20])"
   ]
  },
  {
   "cell_type": "code",
   "execution_count": null,
   "metadata": {},
   "outputs": [],
   "source": [
    "grades = [\"0.1mm\",\"3mm\",\"10mm\",\"20mm\"]\n",
    "fig = plt.figure(figsize=(14, 14))\n",
    "dhour = np.array(ts[1])\n",
    "for i in range(4):\n",
    "    plt.subplot(4,2,1+i*2)\n",
    "    plt.bar(dhour-0.8,ts[0][:,0,i],color = \"r\",label = \"scmoc\",width = 0.8)\n",
    "    plt.bar(dhour,ts[0][:,1,i],color = \"b\",label = \"ecmwf\",width = 0.8)\n",
    "    plt.bar(dhour+0.8,ts[0][:,2,i],color = \"g\",label = \"kanghui\",width = 0.8)\n",
    "    plt.xlabel(\"时效\")\n",
    "    plt.ylabel(\"TS_\"+grades[i])\n",
    "    plt.legend()\n",
    "    plt.ylim(0,np.max(ts[0][:,:,i]) * 1.3)\n",
    "    plt.xticks(np.arange(6,73,6))\n",
    "\n",
    "    plt.subplot(4,2,2+i*2)\n",
    "    plt.bar(dhour-0.8,bias[0][:,0,i],color = \"r\",label = \"scmoc\",width = 0.8)\n",
    "    plt.bar(dhour,bias[0][:,1,i],color = \"b\",label = \"ecmwf\",width = 0.8)\n",
    "    plt.bar(dhour+0.8,bias[0][:,2,i],color = \"g\",label = \"kanghui\",width = 0.8)\n",
    "    plt.xlabel(\"时效\")\n",
    "    plt.ylabel(\"BIAS_\" + grades[i])\n",
    "    plt.ylim(0,np.max(bias[0][:,:,i]) * 1.3)\n",
    "    plt.legend()\n",
    "    plt.xticks(np.arange(6,73,6))\n",
    "plt.savefig(r\"L:\\kanghui\\QPF\\ts_bias_3.png\",dpi = 300)\n"
   ]
  },
  {
   "cell_type": "code",
   "execution_count": null,
   "metadata": {},
   "outputs": [],
   "source": [
    "ran24 = meb.accumulate_dtime(sta_all,8)"
   ]
  },
  {
   "cell_type": "code",
   "execution_count": null,
   "metadata": {},
   "outputs": [],
   "source": [
    "ts = mpd.score(ran24,mem.ts,g = \"dtime\",para1 = [0.1,10,25,50,100])\n",
    "bias =  mpd.score(ran24,mem.bias,g = \"dtime\",para1 = [0.1,10,25,50,100])"
   ]
  },
  {
   "cell_type": "code",
   "execution_count": null,
   "metadata": {},
   "outputs": [],
   "source": [
    "grades = [\"0.1mm\",\"10mm\",\"25mm\",\"50mm\",\"100mm\"]\n",
    "fig = plt.figure(figsize=(14, 14))\n",
    "dhour = np.array(ts[1])\n",
    "for i in range(5):\n",
    "    plt.subplot(5,2,1+i*2)\n",
    "    plt.bar(dhour-2,ts[0][:,0,i],color = \"r\",label = \"scmoc\",width = 2)\n",
    "    plt.bar(dhour ,ts[0][:,1,i],color = \"b\",label = \"ecmwf\",width = 2)\n",
    "    plt.bar(dhour+2,ts[0][:,2,i],color = \"g\",label = \"kanghui\",width = 2)\n",
    "    plt.xlabel(\"时效\")\n",
    "    plt.ylabel(\"TS_\"+grades[i])\n",
    "    plt.legend()\n",
    "    plt.ylim(0,np.max(ts[0][:,:,i]) * 1.4)\n",
    "    plt.xticks(np.arange(24,73,24))\n",
    "\n",
    "    plt.subplot(5,2,2+i*2)\n",
    "    plt.bar(dhour-2,bias[0][:,0,i],color = \"r\",label = \"scmoc\",width = 2)\n",
    "    plt.bar(dhour,bias[0][:,1,i],color = \"b\",label = \"ecmwf\",width = 2)\n",
    "    plt.bar(dhour+2,bias[0][:,2,i],color = \"g\",label = \"kanghui\",width = 2)\n",
    "    plt.xlabel(\"时效\")\n",
    "    plt.ylabel(\"BIAS_\" + grades[i])\n",
    "    plt.ylim(0,np.max(bias[0][:,:,i]) * 1.4)\n",
    "    plt.legend()\n",
    "    plt.xticks(np.arange(24,73,24))\n",
    "plt.savefig(r\"L:\\kanghui\\QPF\\ts_bias_24.png\",dpi = 300)"
   ]
  },
  {
   "cell_type": "code",
   "execution_count": null,
   "metadata": {},
   "outputs": [],
   "source": [
    "part = meb.sele_by_para(sta_all,dtime = 24)"
   ]
  },
  {
   "cell_type": "code",
   "execution_count": null,
   "metadata": {},
   "outputs": [],
   "source": [
    "bias =  mpd.score(part,mem.bias,g = \"time\",para1 = [20])"
   ]
  },
  {
   "cell_type": "code",
   "execution_count": null,
   "metadata": {},
   "outputs": [],
   "source": [
    "index = np.argmax(bias[0][:,2])"
   ]
  },
  {
   "cell_type": "code",
   "execution_count": null,
   "metadata": {},
   "outputs": [],
   "source": [
    "index\n"
   ]
  },
  {
   "cell_type": "code",
   "execution_count": null,
   "metadata": {},
   "outputs": [],
   "source": [
    "bias[0][index]"
   ]
  },
  {
   "cell_type": "code",
   "execution_count": null,
   "metadata": {},
   "outputs": [],
   "source": [
    "mpd.score(part,mem.ts,s = {\"time\":\"2019072708\"},g = \"time\",para1=[20])"
   ]
  },
  {
   "cell_type": "code",
   "execution_count": null,
   "metadata": {},
   "outputs": [],
   "source": [
    "mpd.score(part,mem.bias,s = {\"time\":\"2019072708\"},g = \"time\",para1=[20])"
   ]
  },
  {
   "cell_type": "code",
   "execution_count": null,
   "metadata": {},
   "outputs": [],
   "source": [
    "bias[1][index]"
   ]
  },
  {
   "cell_type": "code",
   "execution_count": null,
   "metadata": {},
   "outputs": [],
   "source": [
    "for dh in range(3,75,3):\n",
    "    result[dh] = {}\n",
    "    part = meb.sele_by_para(sta_all,dtime = dh)\n",
    "    bias =  mpd.score(part,mem.bias,g = \"time\",para1 = [20])\n",
    "    ts = mpd.score(part,mem.ts,g = \"time\",para1 = [20])\n",
    "    str_bias = \"\"\n",
    "    str_ts = \"\"\n",
    "    for i in range(len(ts[1])):\n",
    "        str_bias += str(bias[1][i])+\"\\t\" + str(bias[0][i,0]) +\"\\t\" + str(bias[0][i,1]) +\"\\t\"+ str(bias[0][i,2]) + \"\\n\"\n",
    "        str_ts += str(ts[1][i]) +\"\\t\"+ str(ts[0][i,0])  +\"\\t\"+ str(ts[0][i,1]) +\"\\t\"+ str(ts[0][i,2]) + \"\\n\"\n",
    "    path = r\"L:\\kanghui\\QPF\\result\\bias\" + str(dh)+\".txt\"\n",
    "    file = open(path,\"w\")\n",
    "    file.write(str_bias)\n",
    "    file.close()\n",
    "    path = r\"L:\\kanghui\\QPF\\result\\ts\" + str(dh)+\".txt\"\n",
    "    file = open(path,\"w\")\n",
    "    file.write(str_ts)\n",
    "    file.close()"
   ]
  },
  {
   "cell_type": "code",
   "execution_count": null,
   "metadata": {},
   "outputs": [],
   "source": []
  }
 ],
 "metadata": {
  "kernelspec": {
   "display_name": "Python 3",
   "language": "python",
   "name": "python3"
  },
  "language_info": {
   "codemirror_mode": {
    "name": "ipython",
    "version": 3
   },
   "file_extension": ".py",
   "mimetype": "text/x-python",
   "name": "python",
   "nbconvert_exporter": "python",
   "pygments_lexer": "ipython3",
   "version": "3.7.1"
  }
 },
 "nbformat": 4,
 "nbformat_minor": 2
}
