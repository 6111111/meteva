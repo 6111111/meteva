{
 "cells": [
  {
   "cell_type": "code",
   "execution_count": 1,
   "metadata": {},
   "outputs": [],
   "source": [
    "%matplotlib inline\n",
    "%load_ext autoreload\n",
    "%autoreload 2\n",
    "import meteva.base as meb\n",
    "import meteva.product as mpd"
   ]
  },
  {
   "cell_type": "markdown",
   "metadata": {},
   "source": [
    "检验工作的第一步是数据收集处理，micaps分布式数据库是一个非常稳定的数据来源，缺点是它只能提供实时业务数据，可提供的数据序列长度非常有限。检验工作的开展通常需要用到比较长的历史数据，数据序列越长越完整检验工作的开展则越顺利。如果无现成的序列完整又读取方便的数据，为保障检验工作的开展就需要自己收集整理数据。micaps分布式数据库因其稳定性好，且存储规范，读取方便等优点可以作为检验数据收集的稳定数据源。"
   ]
  },
  {
   "cell_type": "markdown",
   "metadata": {},
   "source": [
    "本模块是基于micaps分布式数据库构建的一套数据收集系统，用户根据需要从micaps上下载数据到本地，并保持相对路径的一致，便于后续开发。"
   ]
  },
  {
   "cell_type": "markdown",
   "metadata": {},
   "source": [
    "# 数据下载  \n",
    "**download_from_gds(para)**  \n",
    "根据参数从micaps服务器中下载数据  \n",
    "  \n",
    "  \n",
    "**参数说明：**  \n",
    " **para**: 数据下载配置参数，以下结合系统中集成的一个示例 mpd.application.data_collection.para_example进行阐述       \n",
    " **return**:   无          "
   ]
  },
  {
   "cell_type": "code",
   "execution_count": 2,
   "metadata": {},
   "outputs": [],
   "source": [
    "para_example= {\n",
    "    \"cup_count\":1,        # 并行下载的进程数\n",
    "    \"ip_port_file\":r\"H:\\test_data\\input\\input\\meb\\ip_port.txt\",    #  micaps分布式服务器的ip和port配置文件\n",
    "    \"local_binary_dir\": r\"O:\\data\\mdfs\",  # 以二进制micaps格式保存网格数据的根目录\n",
    "    \"local_sta_dir\": r\"O:\\data\\sta\",      # 以二进制micaps格式保存站点数据的根目录\n",
    "    \"local_grid_dir\":r\"O:\\data\\grid\",     # 以netcdf格式保存网格数据的根目录\n",
    "    \"max_save_day\": 14,                   # 二进制micaps网格数据的最长保存日数\n",
    "    \"sta_origin_dirs\": [                                                               #待下载的站点数据列表\n",
    "        [\"mdfs:///SURFACE/QC_BY_FSOL/RAIN01_ALL_STATION/\", [[0, 2359]]],               #待下载的站点数据的路径和作业配置\n",
    "        [\"mdfs:///SURFACE/QC_BY_FSOL/WIND_AVERAGE_2MIN_ALL_STATION/\", [[0, 2359]]],\n",
    "        [\"mdfs:///SURFACE/QC_BY_FSOL/TMP_ALL_STATION/\", [[0, 2359]]],\n",
    "    ],\n",
    "    \"grid_origin_dirs\": {                                                          #待下载的网格数据字典\n",
    "        \"NWFD_SCMOC\": [\n",
    "            [\"NWFD_SCMOC/RAIN03\", [[1100, 1200],[2100,2300]]],                     #待下载的网格数据的路径和作业配置\n",
    "            [\"NWFD_SCMOC/TMP/2M_ABOVE_GROUND\", [[1100, 1200],[2100,2359]]],\n",
    "            [\"NWFD_SCMOC/WIND/10M_ABOVE_GROUND\", [[1100, 1200],[2100,2300]]],\n",
    "        ],\n",
    "        \"EWMWF\": [\n",
    "            [\"ECMWF_HR/TMP_2M/\", [[1100, 1200],[2200,2300]]],\n",
    "            [\"ECMWF_HR/APCP/\", [[1100, 1200],[2200,2300]]],\n",
    "            [\"mdfs:///ECMWF_HR/WIND_10M/\", [[1100, 1200],[2200,2300]]],\n",
    "        ],\n",
    "        \"GRAPES_GFS\": [\n",
    "            [\"mdfs:///GRAPES_GFS/WIND/10M_ABOVE_GROUND/\", [[1100, 1200],[2200,2300]]],\n",
    "            [\"GRAPES_GFS/TMP/2M_ABOVE_GROUND\", [[1100, 1200],[2200,2300]]],\n",
    "            [\"GRAPES_GFS/APCP\", [[1100, 1200],[2200,2300]]],\n",
    "        ],\n",
    "    }\n",
    "}"
   ]
  },
  {
   "cell_type": "markdown",
   "metadata": {},
   "source": [
    "**参数说明：**    \n",
    "1、micaps分布式服务器的ip和port配置文件格式请参考[gds站点数据读取的说明](https://www.showdoc.cc/meteva?page_id=3975601856475911)  \n",
    "  \n",
    "2、二进制micaps格式网格数据是将micaps服务器上读取的文件字节流原封不动保存到文件中。该文件可以直接在micaps中显示。 同时由于其中它没有进行数据压缩，所以从该格式文件中能够直接指定网格点的值，在对效率要求极高的交互式检验中，需要用到该类格式的数据。\n",
    "  \n",
    "3、二进制micaps格式站点数据也是将micaps服务器上读取的文件字节流原封不动的保存到文件中。 该文件也可以直接在micaps中显示。     \n",
    "4、netcdf格式保存数据通过压缩，可以延长数据存储序列的长度  \n",
    "  \n",
    "5、文件下载后在根目录下相对存储目录会自动同分布式服务器中的相对目录保持一致。此外站点数据和nc格式网格数据被下载之后会自动根据文件名自动判断日期，并按日期对数据文件进行归档。  \n",
    "  \n",
    "6、由于二进制micaps格式网格数据比较消耗存储空间，因此通常不能存太长时间的序列，max_sava_day是用来控制序列长度的参数  \n",
    "  \n",
    "7、待下载的数据参数：不同的数据下载备份的频率和时段是不一样的，对于实况数据需要尽量实时下载，而预报数据最好选择micaps服务器空闲时段下载。下载参数是一个二层列表，以   [\"NWFD_SCMOC/RAIN03\", [[1100, 1200],[2100,2300]]],     为例，它代表download(para)函数只有在一天当中的11至12时、21-23时两个时段触发运行时才会从NWFD_SCMOC/RAIN03目录下载数据到本地。 基于该设计，调用download(para)执行下载的主程序在配置系统自动作业时可以简单地设置为逐小时或逐半小时执行，同时保证不同数据的下载时段做一定区分避免，作业拥堵。   \n",
    "\n",
    "   \n",
    "   \n",
    "   **调用示例**"
   ]
  },
  {
   "cell_type": "code",
   "execution_count": 3,
   "metadata": {},
   "outputs": [
    {
     "name": "stdout",
     "output_type": "stream",
     "text": [
      "于2020-05-21 17:52:17.224865开始下载\n",
      "Waiting for all subprocesses done...\n",
      "All subprocesses done.\n"
     ]
    }
   ],
   "source": [
    "mpd.download_from_gds(para_example)"
   ]
  },
  {
   "cell_type": "markdown",
   "metadata": {},
   "source": [
    "# 数据删除  \n",
    "**remove(dir,save_day)**  \n",
    "根据将dir目录下距今超过save_day天的数据删除。    \n",
    "  \n",
    "  \n",
    "**参数说明：**  \n",
    " **dir**: 数据路径的根目录，下面可以有多个子目录  \n",
    " **save_day**: 数据保持的天数   \n",
    " **return**:   无   \n",
    "   \n",
    "**调用示例**"
   ]
  },
  {
   "cell_type": "code",
   "execution_count": 4,
   "metadata": {},
   "outputs": [
    {
     "name": "stdout",
     "output_type": "stream",
     "text": [
      "O:\\data\\mdfs目录下14天之前的数据已删除\n"
     ]
    }
   ],
   "source": [
    "mpd.remove(para_example[\"local_binary_dir\"],para_example[\"max_save_day\"])"
   ]
  }
 ],
 "metadata": {
  "kernelspec": {
   "display_name": "Python 3",
   "language": "python",
   "name": "python3"
  },
  "language_info": {
   "codemirror_mode": {
    "name": "ipython",
    "version": 3
   },
   "file_extension": ".py",
   "mimetype": "text/x-python",
   "name": "python",
   "nbconvert_exporter": "python",
   "pygments_lexer": "ipython3",
   "version": "3.7.1"
  }
 },
 "nbformat": 4,
 "nbformat_minor": 2
}
