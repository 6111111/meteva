{
 "cells": [
  {
   "cell_type": "code",
   "execution_count": 1,
   "metadata": {},
   "outputs": [],
   "source": [
    "%matplotlib inline\n",
    "%load_ext autoreload\n",
    "%autoreload 2\n",
    "import meteva.method as mem\n",
    "import numpy as np"
   ]
  },
  {
   "cell_type": "markdown",
   "metadata": {},
   "source": [
    "***通过随机函数生成测试数据，用于后续检验函数调用示例***"
   ]
  },
  {
   "cell_type": "code",
   "execution_count": 2,
   "metadata": {},
   "outputs": [],
   "source": [
    "ob = np.random.rand(1000,10)\n",
    "fo = np.random.rand(1000,10) "
   ]
  },
  {
   "cell_type": "markdown",
   "metadata": {},
   "source": [
    "### 检验样本数   \n",
    "**sample_count(Ob, Fo)**  \n",
    "计算检验的样本数  \n",
    "  \n",
    "**参数说明：**  \n",
    " Ob:实况数据, 任意维numpy数组   \n",
    " Fo:预测数据, None或任意数据，它的存在是为了使得参数规范化，方便更高级的封装    \n",
    " return: 整数  \n",
    " **调用示例：**  "
   ]
  },
  {
   "cell_type": "code",
   "execution_count": 3,
   "metadata": {
    "scrolled": true
   },
   "outputs": [
    {
     "data": {
      "text/plain": [
       "10000"
      ]
     },
     "execution_count": 3,
     "metadata": {},
     "output_type": "execute_result"
    }
   ],
   "source": [
    "mem.sample_count(ob,fo)"
   ]
  },
  {
   "cell_type": "markdown",
   "metadata": {},
   "source": [
    "### 观测数据均值   \n",
    "**ob_mean(Ob, Fo)**  \n",
    "计算两组数据的误差平均值  \n",
    "  \n",
    "**参数说明：**  \n",
    " Ob:实况数据, 任意维numpy数组   \n",
    " Fo:预报数据，None或任意数据，它的存在是为了使得参数规范化，方便更高级的封装  \n",
    " return: 实数  \n",
    " **调用示例：**"
   ]
  },
  {
   "cell_type": "code",
   "execution_count": 4,
   "metadata": {},
   "outputs": [
    {
     "data": {
      "text/plain": [
       "0.501041842939878"
      ]
     },
     "execution_count": 4,
     "metadata": {},
     "output_type": "execute_result"
    }
   ],
   "source": [
    "mem.ob_mean(ob,fo)"
   ]
  },
  {
   "cell_type": "markdown",
   "metadata": {},
   "source": [
    "### 预报数据均值   \n",
    "**fo_mean(Ob, Fo)**  \n",
    "计算两组数据的误差平均值  \n",
    "  \n",
    "**参数说明：**  \n",
    " Ob:实况数据, None或任意数据，它的存在是为了使得参数规范化，方便更高级的封装   \n",
    " Fo:预报数据，任意维numpy数组     \n",
    " return: 实数  \n",
    " **调用示例：**"
   ]
  },
  {
   "cell_type": "code",
   "execution_count": 5,
   "metadata": {},
   "outputs": [
    {
     "data": {
      "text/plain": [
       "0.5032240539625281"
      ]
     },
     "execution_count": 5,
     "metadata": {},
     "output_type": "execute_result"
    }
   ],
   "source": [
    "mem.fo_mean(ob,fo)"
   ]
  },
  {
   "cell_type": "markdown",
   "metadata": {},
   "source": [
    "### 准确率   \n",
    "**correct_rate(Ob,Fo,threshold)**  \n",
    "根据设定的阈值，计算两组数据的误差绝对值小于阈值的比例  \n",
    "  \n",
    "**参数说明：**  \n",
    " Ob:实况数据, 任意维numpy数组   \n",
    " Fo:预测数据, 任意维numpy数组,Fo.shape 和Ob.shape一致  \n",
    " threshold:判断为准确的误差阈值，正实数      \n",
    " return: 0到1的实数，最优值为1 \n",
    " **调用示例：**"
   ]
  },
  {
   "cell_type": "code",
   "execution_count": 6,
   "metadata": {},
   "outputs": [
    {
     "data": {
      "text/plain": [
       "0.7469"
      ]
     },
     "execution_count": 6,
     "metadata": {},
     "output_type": "execute_result"
    }
   ],
   "source": [
    "mem.correct_rate(ob,fo,0.5)"
   ]
  },
  {
   "cell_type": "markdown",
   "metadata": {},
   "source": [
    "### 平均误差   \n",
    "**me(Ob, Fo)**  \n",
    "计算两组数据的误差平均值  \n",
    "  \n",
    "**参数说明：**  \n",
    " Ob:实况数据, 任意维numpy数组   \n",
    " Fo:预测数据, 任意维numpy数组,Fo.shape 和Ob.shape一致  \n",
    " return: 负无穷到正无穷的实数，最优值为0  \n",
    " **调用示例：**"
   ]
  },
  {
   "cell_type": "code",
   "execution_count": 7,
   "metadata": {},
   "outputs": [
    {
     "data": {
      "text/plain": [
       "0.0021822110226503008"
      ]
     },
     "execution_count": 7,
     "metadata": {},
     "output_type": "execute_result"
    }
   ],
   "source": [
    "mem.me(ob,fo)"
   ]
  },
  {
   "cell_type": "markdown",
   "metadata": {},
   "source": [
    "### 平均绝对误差  \n",
    "mae(Ob,Fo)  \n",
    "计算两组数据平均绝对值误差  \n",
    "  \n",
    "**参数说明：**  \n",
    " Ob:实况数据, 任意维numpy数组   \n",
    " Fo:预测数据, 任意维numpy数组,Fo.shape 和Ob.shape一致  \n",
    " return: 0到正无穷的实数，最优值为0  \n",
    " **调用示例：**"
   ]
  },
  {
   "cell_type": "code",
   "execution_count": 8,
   "metadata": {},
   "outputs": [
    {
     "data": {
      "text/plain": [
       "0.33551896806596593"
      ]
     },
     "execution_count": 8,
     "metadata": {},
     "output_type": "execute_result"
    }
   ],
   "source": [
    "mem.mae(ob,fo)"
   ]
  },
  {
   "cell_type": "markdown",
   "metadata": {},
   "source": [
    "### 均方误差  \n",
    "**mse(Ob,Fo)**   \n",
    "计算两组数据误差平方的平均  \n",
    "  \n",
    "***参数说明：***  \n",
    " Ob:实况数据, 任意维numpy数组  \n",
    " Fo:预测数据, 任意维numpy数组,Fo.shape 和Ob.shape一致  \n",
    " return: 0到正无穷的实数，最优值为0  \n",
    "***调用示例：***   "
   ]
  },
  {
   "cell_type": "code",
   "execution_count": 9,
   "metadata": {},
   "outputs": [
    {
     "data": {
      "text/plain": [
       "0.1687019557720961"
      ]
     },
     "execution_count": 9,
     "metadata": {},
     "output_type": "execute_result"
    }
   ],
   "source": [
    "mem.mse(ob,fo)"
   ]
  },
  {
   "cell_type": "markdown",
   "metadata": {},
   "source": [
    "### 均方根误差  \n",
    "**rmse(Ob,Fo)**  \n",
    "计算两组数据的均方根误差  \n",
    "\n",
    "**参数说明：**  \n",
    " Ob:实况数据, 任意维numpy数组  \n",
    " Fo:预测数据, 任意维numpy数组,Fo.shape 和Ob.shape一致  \n",
    " return: 0到正无穷的实数，最优值为0  \n",
    "**调用示例：**   "
   ]
  },
  {
   "cell_type": "code",
   "execution_count": 10,
   "metadata": {},
   "outputs": [
    {
     "data": {
      "text/plain": [
       "0.4107334363940877"
      ]
     },
     "execution_count": 10,
     "metadata": {},
     "output_type": "execute_result"
    }
   ],
   "source": [
    "mem.rmse(ob,fo)"
   ]
  },
  {
   "cell_type": "markdown",
   "metadata": {},
   "source": [
    "### 均值偏差  \n",
    "**bias_m(Ob,Fo)**  \n",
    "计算两组数据的平均值之比  \n",
    "  \n",
    "**参数说明：**  \n",
    " Ob:实况数据, 任意维numpy数组  \n",
    " Fo:预测数据, 任意维numpy数组,Fo.shape 和Ob.shape一致  \n",
    " return: 0到正无穷的实数，最优值为1  \n",
    "**调用示例：**   "
   ]
  },
  {
   "cell_type": "code",
   "execution_count": 11,
   "metadata": {
    "scrolled": true
   },
   "outputs": [
    {
     "data": {
      "text/plain": [
       "1.0043553468705249"
      ]
     },
     "execution_count": 11,
     "metadata": {},
     "output_type": "execute_result"
    }
   ],
   "source": [
    "mem.bias_m(ob,fo)"
   ]
  },
  {
   "cell_type": "markdown",
   "metadata": {},
   "source": [
    "### 相关系数  \n",
    "**corr(Ob,Fo)**    \n",
    "计算两组数据的平均值之比  \n",
    "  \n",
    "**参数说明：**  \n",
    " Ob:实况数据, 任意维numpy数组  \n",
    " Fo:预测数据, 任意维numpy数组,Fo.shape 和Ob.shape一致  \n",
    " return: -1到1的实数，最优值为1  \n",
    "**调用示例：**   "
   ]
  },
  {
   "cell_type": "code",
   "execution_count": 12,
   "metadata": {},
   "outputs": [
    {
     "data": {
      "text/plain": [
       "-0.0015283451038153911"
      ]
     },
     "execution_count": 12,
     "metadata": {},
     "output_type": "execute_result"
    }
   ],
   "source": [
    "mem.corr(ob,fo)"
   ]
  },
  {
   "cell_type": "markdown",
   "metadata": {},
   "source": [
    "### 定量相对误差\n",
    "**mre(Ob,Fo)**  \n",
    "对每一对观测和预报不同时为0的数据计算（预报-观测）/(预报+观测）取绝对值后再做平均\n",
    "  \n",
    "**参数说明：**  \n",
    " Ob:实况数据, 任意维numpy数组  \n",
    " Fo:预测数据, 任意维numpy数组,Fo.shape 和Ob.shape一致  \n",
    " return: 0到1的实数，最优值为0  \n",
    "**调用示例：**   "
   ]
  },
  {
   "cell_type": "code",
   "execution_count": 13,
   "metadata": {},
   "outputs": [
    {
     "data": {
      "text/plain": [
       "0.38832362037149043"
      ]
     },
     "execution_count": 13,
     "metadata": {},
     "output_type": "execute_result"
    }
   ],
   "source": [
    "mem.mre(ob,fo)"
   ]
  },
  {
   "cell_type": "markdown",
   "metadata": {},
   "source": [
    "### 纳什系数\n",
    "**nse(Ob,Fo)**    \n",
    "水文中常用的降水检验方法，计算方法为：1 - 均方误差/观测方差  \n",
    "  \n",
    "**参数说明：**  \n",
    " Ob:实况数据, 任意维numpy数组  \n",
    " Fo:预测数据, 任意维numpy数组,Fo.shape 和Ob.shape一致  \n",
    " return: 负无穷到1的实数，最优值为1  \n",
    "**调用示例：**   "
   ]
  },
  {
   "cell_type": "code",
   "execution_count": 14,
   "metadata": {},
   "outputs": [
    {
     "data": {
      "text/plain": [
       "-1.0184018295450334"
      ]
     },
     "execution_count": 14,
     "metadata": {},
     "output_type": "execute_result"
    }
   ],
   "source": [
    "mem.nse(ob,fo)"
   ]
  },
  {
   "cell_type": "markdown",
   "metadata": {},
   "source": [
    "在以上示例中，观测和预报的数据都直接输入到评分函数中进行计算，然而有些情况下待检验的数据太大不能整体存入一个numpy数组中，或者不方便整体存入一个numpy数组中，此时就不能调用上面的方式调用评分函数。为此本程序库设计了一套可分块计算的检验程序。  \n",
    "其检验步骤如下：  \n",
    "***步骤1：根据需要将分块数据逐一输入到中间结果计算函数***  \n",
    "***步骤2：将中间结果进行累加或合并***  \n",
    "***步骤3：根据累加或合并的中间结果计算检验指标***  \n",
    "通常上述计算中步骤1是最耗费计算资源，为了提高效率步骤1也可以采用**并行**的方式执行。此外，步骤1执行的结果也可**输出到文件**中，在后续的检验可以从中读入部分中间结果执行后续步骤，从而可以实现各种方式的分组检验，大大提高检验计算效率。"
   ]
  },
  {
   "cell_type": "markdown",
   "metadata": {},
   "source": [
    "### 总样本数、正确的样本数   \n",
    "**tc_count(Ob,Fo，threshold)**  \n",
    "用来计算me、mae、mse、rmse、nse等检验指标的中间量  \n",
    "**参数说明：**  \n",
    " Ob:实况数据, 任意维numpy数组  \n",
    " Fo:预测数据, 任意维numpy数组,Fo.shape 和Ob.shape一致  \n",
    " threshold:判断为准确的误差阈值，正实数  \n",
    " return: 长度为2的一维numpy数组，其内容依次为总样本数、正确的样本数\n",
    " \n",
    "### 总样本数、误差总和、绝对误差总、误差平方总和   \n",
    "**tase(Ob,Fo)**  \n",
    "用来计算me、mae、mse、rmse、nse等检验指标的中间量  \n",
    "**参数说明：**  \n",
    " Ob:实况数据, 任意维numpy数组  \n",
    " Fo:预测数据, 任意维numpy数组,Fo.shape 和Ob.shape一致  \n",
    " return: 长度为4的一维numpy数组，其内容依次为总样本数、误差总和、绝对误差总和、误差平方总和\n",
    "   \n",
    "\n",
    "### 预报和观测值之和大于0样本数、相对误差绝对值综合\n",
    "**toar(Ob,Fo)**  \n",
    "用来计算mre等检验指标的中间量  \n",
    "**参数说明：**  \n",
    " Ob:实况数据, 任意维numpy数组  \n",
    " Fo:预测数据, 任意维numpy数组,Fo.shape 和Ob.shape一致  \n",
    " return: 长度为2的一维numpy数组，其内容依次为预报和观测值之和大于0样本数、相对误差绝对值总和\n",
    "   \n",
    "### 样本数、观测平均值、预报平均值、观测方差、预报方差_协方差\n",
    "**tmmsss(Ob,Fo)**   \n",
    "用来计算bias、corr、nse等检验指标的中间量  \n",
    "**参数说明：**  \n",
    " Ob:实况数据, 任意维numpy数组  \n",
    " Fo:预测数据, 任意维numpy数组,Fo.shape 和Ob.shape一致  \n",
    " return: 长度为6的一维numpy数组，其内容依次为样本数、观测平均值、预报平均值、观测方差、预报方差、协方差\n",
    "### tmmsss合并函数\n",
    "**tmmsss_merge(tmmsss0,tmmsss1)**  \n",
    "用来将tmmsss计算得到的分块中间统计量进行合并，得到两块数据并集对应的统计量  \n",
    "**参数说明：**  \n",
    " tmmsss0: 长度6的一维数组，分别记录了（count,mx,my,sxx,syy,sxy）  \n",
    " tmmsss1: 长度6的一维数组，分别记录了（count,mx,my,sxx,syy,sxy）  \n",
    " return: 长度6的一维数组，分别记录了（count,mx,my,sxx,syy,sxy）  \n",
    "   \n",
    " **调用示例：**"
   ]
  },
  {
   "cell_type": "code",
   "execution_count": 15,
   "metadata": {},
   "outputs": [],
   "source": [
    "tase_array = np.zeros(4)            #声明长度为4的数组存储最终合并后的中间统计量\n",
    "tms_array = np.zeros(6)          #声明长度为6的数组存储最终合并后的中间统计量\n",
    "toar_array = np.zeros(2)            #声明长度为2的数组存储最终合并后的中间统计量\n",
    "tc_array = np.zeros(2)\n",
    "for i in range(ob.shape[1]):\n",
    "    ob1 = ob[:,i]                   #获取分块数据\n",
    "    fo1 = fo[:,i]\n",
    "    tase1 = mem.tase(ob1,fo1)           #调用函数计算分块数据的中间统计量\n",
    "    tase_array += tase1             #通过数组累加可直接获得tase的合并结果\n",
    "    tms1 = mem.tmmsss(ob1,fo1)                   #调用函数计算分块数据的中间统计量\n",
    "    tms_array = mem.tmmsss_merge(tms_array,tms1) #需调用合并函数获得tmmsss的合并结果\n",
    "    toar1 = mem.toar(ob1,fo1)              #调用函数计算分块数据的中间统计量\n",
    "    toar_array += toar1                #通过数组累加可直接获得tase的合并结果\n",
    "    tc1 = mem.tc_count(ob1,fo1,0.5)   #调用函数计算分块数据的中间统计量\n",
    "    tc_array  += tc1    #通过数组累加可直接获得tc_count的合并结果"
   ]
  },
  {
   "cell_type": "markdown",
   "metadata": {},
   "source": [
    "**以下为根据合并后的中间统计量计算最终检验指标的函数：**\n",
    "\n",
    "### 准确率   \n",
    "**correct_rate_tc(tc_count_array)**  \n",
    "计算两组数据误差小于阈值的比例  \n",
    "  \n",
    "**参数说明：**  \n",
    " tc_count_array:包含总样本数和正确样本数的多维数组，其中最后一维长度为2，分别记录了总样本数和正确样本数  \n",
    " return: numpy数组，其中每个元素为0到1的实数，最优值为1  \n",
    "**调用示例：**"
   ]
  },
  {
   "cell_type": "code",
   "execution_count": 16,
   "metadata": {},
   "outputs": [
    {
     "data": {
      "text/plain": [
       "0.7469"
      ]
     },
     "execution_count": 16,
     "metadata": {},
     "output_type": "execute_result"
    }
   ],
   "source": [
    "mem.correct_rate_tc(tc_array)"
   ]
  },
  {
   "cell_type": "markdown",
   "metadata": {},
   "source": [
    "### 平均误差   \n",
    "**me_tase(tase_array)**  \n",
    "计算两组数据的误差平均值  \n",
    "  \n",
    "**参数说明：**  \n",
    " tase_array:包含命中空报和漏报的多维数组，其中最后一维长度为4，分别记录了样本数，误差和、绝对误差和，误差平方和  \n",
    " return: numpy数组，其中每个元素为负无穷到正无穷的实数，最优值为0  \n",
    "**调用示例：**"
   ]
  },
  {
   "cell_type": "code",
   "execution_count": 17,
   "metadata": {},
   "outputs": [
    {
     "data": {
      "text/plain": [
       "0.0021822110226503"
      ]
     },
     "execution_count": 17,
     "metadata": {},
     "output_type": "execute_result"
    }
   ],
   "source": [
    "mem.me_tase(tase_array) "
   ]
  },
  {
   "cell_type": "markdown",
   "metadata": {},
   "source": [
    "### 平均绝对误差   \n",
    "**mae_tase(tase_array)**   \n",
    "计算两组数据平均绝对值误差 \n",
    "  \n",
    "**参数说明：**  \n",
    " tase_array:包含命中空报和漏报的多维数组，其中最后一维长度为4，分别记录了样本数，误差和、绝对误差和，误差平方和  \n",
    " return: numpy数组，其中每个元素为0到正无穷的实数，最优值为0  \n",
    " **调用示例：**"
   ]
  },
  {
   "cell_type": "code",
   "execution_count": 18,
   "metadata": {},
   "outputs": [
    {
     "data": {
      "text/plain": [
       "0.335518968065966"
      ]
     },
     "execution_count": 18,
     "metadata": {},
     "output_type": "execute_result"
    }
   ],
   "source": [
    "mem.mae_tase(tase_array)"
   ]
  },
  {
   "cell_type": "markdown",
   "metadata": {},
   "source": [
    "### 均方误差   \n",
    "**mse_tase(tase_array)**   \n",
    "计算两组数据均方误差 \n",
    "  \n",
    "**参数说明：**  \n",
    " tase_array:包含命中空报和漏报的多维数组，其中最后一维长度为4，分别记录了样本数，误差和、绝对误差和，误差平方和  \n",
    " return: numpy数组，其中每个元素为0到正无穷的实数，最优值为0  \n",
    "**调用示例：**"
   ]
  },
  {
   "cell_type": "code",
   "execution_count": 19,
   "metadata": {},
   "outputs": [
    {
     "data": {
      "text/plain": [
       "0.1687019557720961"
      ]
     },
     "execution_count": 19,
     "metadata": {},
     "output_type": "execute_result"
    }
   ],
   "source": [
    "mem.mse_tase(tase_array)"
   ]
  },
  {
   "cell_type": "markdown",
   "metadata": {},
   "source": [
    "### 平均绝对误差   \n",
    "**rmse_tase(tase_array)**   \n",
    "计算两组数据均方根误差 \n",
    "  \n",
    "**参数说明：**  \n",
    " tase_array:包含命中空报和漏报的多维数组，其中最后一维长度为4，分别记录了样本数，误差和、绝对误差和，误差平方和  \n",
    " return: numpy数组，其中每个元素为0到正无穷的实数，最优值为0  \n",
    "**调用示例：**"
   ]
  },
  {
   "cell_type": "code",
   "execution_count": 20,
   "metadata": {},
   "outputs": [
    {
     "data": {
      "text/plain": [
       "0.4107334363940877"
      ]
     },
     "execution_count": 20,
     "metadata": {},
     "output_type": "execute_result"
    }
   ],
   "source": [
    "mem.rmse_tase(tase_array)"
   ]
  },
  {
   "cell_type": "markdown",
   "metadata": {},
   "source": [
    "### 均值偏差   \n",
    "**bias_cmmsss(cmmsss_array)**\n",
    "计算求预测数据和实况数据的平均值之比\n",
    "  \n",
    "**参数说明：**  \n",
    " tase_array:包含命中空报和漏报的多维数组，其中最后一维长度为6，\n",
    "        分别记录了样本数、观测平均值、预报平均值、观测方差、预报方差、协方差  \n",
    " return: numpy数组，其中每个元素为0到正无穷，最优值为1  \n",
    " **调用示例：**"
   ]
  },
  {
   "cell_type": "code",
   "execution_count": 21,
   "metadata": {},
   "outputs": [
    {
     "data": {
      "text/plain": [
       "1.0043553468705253"
      ]
     },
     "execution_count": 21,
     "metadata": {},
     "output_type": "execute_result"
    }
   ],
   "source": [
    "mem.bias_tmmsss(tms_array)"
   ]
  },
  {
   "cell_type": "markdown",
   "metadata": {},
   "source": [
    "### 相关系数   \n",
    "**corr_tmmsss(tmmsss_array)**  \n",
    "计算求预测数据和实况数据的平均值之比\n",
    "  \n",
    "**参数说明：**  \n",
    " tmmsss_array:包含命中空报和漏报的多维数组，其中最后一维长度为6，\n",
    "        分别记录了样本数、观测平均值、预报平均值、观测方差、预报方差、协方差  \n",
    " return: numpy数组，其中每个元素为-1到1的实数，最优值为1  \n",
    "**调用示例：**"
   ]
  },
  {
   "cell_type": "code",
   "execution_count": 22,
   "metadata": {},
   "outputs": [
    {
     "data": {
      "text/plain": [
       "-0.0015283451038153831"
      ]
     },
     "execution_count": 22,
     "metadata": {},
     "output_type": "execute_result"
    }
   ],
   "source": [
    "mem.corr_tmmsss(tms_array)"
   ]
  },
  {
   "cell_type": "markdown",
   "metadata": {},
   "source": [
    "### 定量相对误差     \n",
    "**mre_toar(toar_array)**  \n",
    "对每一对观测和预报不同时为0的数据计算（预报-观测）/(预报+观测）取绝对值后再做平均\n",
    "  \n",
    "**参数说明：**  \n",
    " toar_array:包含命中空报和漏报的多维数组，其中最后一维长度为2，\n",
    "        其内容依次为预报和观测值之和大于0样本数、相对误差绝对值总和\n",
    " return: numpy数组，其中每个元素为0到1的实数，最优值为0    \n",
    "**调用示例：**"
   ]
  },
  {
   "cell_type": "code",
   "execution_count": 23,
   "metadata": {},
   "outputs": [
    {
     "data": {
      "text/plain": [
       "0.38832362037149043"
      ]
     },
     "execution_count": 23,
     "metadata": {},
     "output_type": "execute_result"
    }
   ],
   "source": [
    "mem.mre_toar(toar_array)"
   ]
  },
  {
   "cell_type": "markdown",
   "metadata": {},
   "source": [
    "### 纳什系数    \n",
    "**nse_tase_tmmsss(tase_array,tmmsss_array)**  \n",
    "水文中常用的降水检验方法，计算方法为：1 - 均方误差/观测方差  \n",
    "  \n",
    "**参数说明：**  \n",
    " tase_array:包含命中空报和漏报的多维数组，其中最后一维长度为4，分别记录了样本数，误差和、绝对误差和，误差平方和  \n",
    " cmmsss_array:包含命中空报和漏报的多维数组，其中最后一维长度为6，分别记录了样本数、观测平均值、预报平均值、观测方差、预报方差、协方差   \n",
    " return: numpy数组，其中每个元素为0到1的实数，最优值为0    \n",
    "**调用示例：**"
   ]
  },
  {
   "cell_type": "code",
   "execution_count": 24,
   "metadata": {},
   "outputs": [
    {
     "data": {
      "text/plain": [
       "-1.018401829545033"
      ]
     },
     "execution_count": 24,
     "metadata": {},
     "output_type": "execute_result"
    }
   ],
   "source": [
    "mem.nse_tase_tmmsss(tase_array,tms_array)"
   ]
  },
  {
   "cell_type": "markdown",
   "metadata": {},
   "source": [
    "在预报检验经常需要进行分组检验，获得不同类别预报的评分指标并进行对比。此时可以应用上述基于中间结果的检验函数对多维中间统计量的整体计算能力来简化代码的复杂度。  \n",
    "**示例如下：**"
   ]
  },
  {
   "cell_type": "code",
   "execution_count": 25,
   "metadata": {},
   "outputs": [],
   "source": [
    "model_count = 5        #示例中，有5个不同的模式预报结果需要检验\n",
    "day_count = 100        #示例中，数据需要分100次读取\n",
    "ob = np.random.rand(1000,day_count)                #测试观测数据\n",
    "fo = np.random.rand(1000,day_count,model_count)    #测试预报数据\n",
    "tms_array = np.zeros((model_count,6)) #定义一个多维数组用来整体存储相关系数计算有关的中间统计量\n",
    "tase_array = np.zeros((model_count,4)) #定义一个多维数组用来整体存储均方根误差计算有关的中间统计量\n",
    "for i in range(day_count):\n",
    "    ob1 = ob[:,i]                   #分开读取观测数据\n",
    "    for j in range(model_count):    \n",
    "        fo1 = fo[:,i,j]             #分开读取预报数据\n",
    "        tase1 = mem.tase(ob1,fo1)         #统计tase中间统计量\n",
    "        tase_array[j,:] += tase1      #合并tase中间统计量\n",
    "        tms1 =mem.tmmsss(ob1,fo1)                              #统计tmmsss中间统计量\n",
    "        tms_array[j,:] = mem.tmmsss_merge(tms_array[j,:],tms1)  #合并tmmsss中间统计量\n"
   ]
  },
  {
   "cell_type": "code",
   "execution_count": 26,
   "metadata": {},
   "outputs": [
    {
     "data": {
      "text/plain": [
       "array([0.40843648, 0.40860877, 0.40890267, 0.40832406, 0.40736876])"
      ]
     },
     "execution_count": 26,
     "metadata": {},
     "output_type": "execute_result"
    }
   ],
   "source": [
    "mem.rmse_tase(tase_array)  #根据中间统计量整体计算多个模式预报的rmse"
   ]
  },
  {
   "cell_type": "code",
   "execution_count": 27,
   "metadata": {},
   "outputs": [
    {
     "data": {
      "text/plain": [
       "array([-0.00243139,  0.00049237, -0.00374124, -0.00195915,  0.00138566])"
      ]
     },
     "execution_count": 27,
     "metadata": {},
     "output_type": "execute_result"
    }
   ],
   "source": [
    "mem.corr_tmmsss(tms_array)   #根据中间统计量整体计算多个模式预报同实况的相关系数"
   ]
  },
  {
   "cell_type": "markdown",
   "metadata": {},
   "source": [
    "以上只是展示了分类检验的维度为1的情况，实际上上述思路可以扩展至任意高维的情况。熟练使用中间统计量计算和合并方法，基于中间统计量整体计算分类问题下的检验指标数组，是提高代码编写效果的关键。上述检验函数的内部也都采用了numpy的整体计算方式实现，在计算效率上进行了最大程度的优化。"
   ]
  },
  {
   "cell_type": "code",
   "execution_count": null,
   "metadata": {},
   "outputs": [],
   "source": []
  }
 ],
 "metadata": {
  "kernelspec": {
   "display_name": "Python 3",
   "language": "python",
   "name": "python3"
  },
  "language_info": {
   "codemirror_mode": {
    "name": "ipython",
    "version": 3
   },
   "file_extension": ".py",
   "mimetype": "text/x-python",
   "name": "python",
   "nbconvert_exporter": "python",
   "pygments_lexer": "ipython3",
   "version": "3.7.1"
  }
 },
 "nbformat": 4,
 "nbformat_minor": 2
}
