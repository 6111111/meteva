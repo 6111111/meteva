{
 "cells": [
  {
   "cell_type": "code",
   "execution_count": 46,
   "metadata": {},
   "outputs": [
    {
     "name": "stdout",
     "output_type": "stream",
     "text": [
      "The autoreload extension is already loaded. To reload it, use:\n",
      "  %reload_ext autoreload\n"
     ]
    }
   ],
   "source": [
    "%matplotlib inline\n",
    "%load_ext autoreload\n",
    "%autoreload 2\n",
    "import meteva.method as mem\n",
    "import numpy as np"
   ]
  },
  {
   "cell_type": "markdown",
   "metadata": {},
   "source": [
    "***通过随机函数生成测试数据，用于后续检验函数调用示例***"
   ]
  },
  {
   "cell_type": "code",
   "execution_count": 2,
   "metadata": {},
   "outputs": [],
   "source": [
    "ob = np.random.rand(2,20) * 10\n",
    "fo1 = np.random.rand(2,20) * 10\n",
    "fo2 = np.random.rand(5,2,20) * 10\n",
    "ob_int = ob.astype(np.int8)\n",
    "fo_int1 = fo1.astype(np.int8)\n",
    "fo_int2 = fo2.astype(np.int8)\n",
    "grade_list = [3,5]"
   ]
  },
  {
   "cell_type": "code",
   "execution_count": 3,
   "metadata": {
    "scrolled": true
   },
   "outputs": [
    {
     "data": {
      "text/plain": [
       "array([[4, 1, 4, 7, 5, 1, 8, 8, 7, 8, 7, 7, 4, 8, 8, 1, 7, 0, 6, 1],\n",
       "       [8, 0, 8, 9, 5, 1, 0, 1, 2, 1, 3, 1, 2, 6, 1, 8, 2, 8, 4, 1]],\n",
       "      dtype=int8)"
      ]
     },
     "execution_count": 3,
     "metadata": {},
     "output_type": "execute_result"
    }
   ],
   "source": [
    "ob_int"
   ]
  },
  {
   "cell_type": "code",
   "execution_count": 4,
   "metadata": {},
   "outputs": [
    {
     "data": {
      "text/plain": [
       "array([[2, 2, 6, 3, 6, 5, 7, 9, 4, 9, 7, 9, 4, 4, 5, 4, 9, 6, 7, 6],\n",
       "       [2, 2, 8, 1, 5, 7, 1, 0, 0, 3, 8, 5, 6, 7, 9, 9, 2, 5, 2, 9]],\n",
       "      dtype=int8)"
      ]
     },
     "execution_count": 4,
     "metadata": {},
     "output_type": "execute_result"
    }
   ],
   "source": [
    "fo_int1"
   ]
  },
  {
   "cell_type": "code",
   "execution_count": 5,
   "metadata": {},
   "outputs": [
    {
     "data": {
      "text/plain": [
       "array([[[0, 8, 2, 1, 4, 4, 3, 7, 0, 3, 7, 1, 4, 2, 7, 7, 1, 6, 2, 8],\n",
       "        [2, 0, 6, 0, 4, 6, 2, 7, 5, 2, 0, 2, 1, 6, 4, 0, 0, 3, 6, 0]],\n",
       "\n",
       "       [[2, 1, 1, 0, 8, 9, 8, 6, 8, 2, 6, 9, 2, 4, 0, 6, 4, 8, 4, 5],\n",
       "        [2, 2, 8, 1, 0, 7, 3, 1, 1, 9, 9, 1, 1, 5, 3, 4, 3, 4, 1, 0]],\n",
       "\n",
       "       [[2, 9, 2, 0, 5, 2, 6, 8, 4, 1, 4, 8, 8, 4, 5, 6, 5, 4, 2, 9],\n",
       "        [1, 8, 0, 3, 0, 3, 2, 8, 7, 5, 4, 2, 7, 2, 1, 5, 6, 3, 5, 7]],\n",
       "\n",
       "       [[0, 9, 3, 3, 7, 3, 2, 2, 5, 6, 9, 3, 1, 0, 9, 7, 2, 3, 0, 7],\n",
       "        [8, 7, 5, 1, 7, 6, 0, 9, 2, 4, 7, 0, 8, 3, 4, 8, 8, 1, 5, 7]],\n",
       "\n",
       "       [[6, 3, 1, 2, 4, 9, 9, 7, 9, 0, 6, 3, 8, 7, 8, 9, 5, 8, 6, 0],\n",
       "        [7, 6, 7, 7, 1, 2, 2, 0, 2, 5, 8, 6, 6, 7, 9, 0, 5, 0, 0, 7]]],\n",
       "      dtype=int8)"
      ]
     },
     "execution_count": 5,
     "metadata": {},
     "output_type": "execute_result"
    }
   ],
   "source": [
    "fo_int2"
   ]
  },
  {
   "cell_type": "markdown",
   "metadata": {},
   "source": [
    "**<font face=\"黑体\" color=blue size = 5> 准确率</font>**     \n",
    "**accuracy(ob, fo, grade_list=None)**  \n",
    "统计观测和预报分类一致的样本数占比  \n",
    "\n",
    "|参数|说明|    \n",
    "|:--|:--|  \n",
    "|**<font face=\"黑体\" color=blue size = 5>ob</font>**|实况数据, 任意维numpy数组|   \n",
    "|**<font face=\"黑体\" color=blue size = 5>fo</font>**| fo比Ob.shape多一维或者保持一致，fo.shape低维与ob.shape保持一致|   \n",
    "|**grade_list**| 如果该参数为None，观测或预报值出现过的值都作为分类标记，如果该参数不为None，它必须是一个从小到大排列的实数，以其中列出的数值划分出的多个区间作为分类标签。对于预报和观测值不为整数的情况，grade_list 不能设置为None|  \n",
    "|<font face=\"黑体\" color=blue size=5>return</font>|如果Fo和Ob的shape一致（即只有一种预报），返回结果为实数；如果Fo比Ob高出一维，则返回1维数组，长度等于预报成员数。元素是 0-1的实数，0代表无技巧，最优预报为1|   \n",
    "\n",
    "\n",
    "   \n",
    "**调用示例：**  "
   ]
  },
  {
   "cell_type": "code",
   "execution_count": 6,
   "metadata": {},
   "outputs": [
    {
     "data": {
      "text/plain": [
       "0.125"
      ]
     },
     "execution_count": 6,
     "metadata": {},
     "output_type": "execute_result"
    }
   ],
   "source": [
    "mem.accuracy(ob_int,fo_int1)"
   ]
  },
  {
   "cell_type": "code",
   "execution_count": 7,
   "metadata": {
    "scrolled": false
   },
   "outputs": [
    {
     "data": {
      "text/plain": [
       "0.525"
      ]
     },
     "execution_count": 7,
     "metadata": {},
     "output_type": "execute_result"
    }
   ],
   "source": [
    "mem.accuracy(ob_int,fo_int1,grade_list)"
   ]
  },
  {
   "cell_type": "code",
   "execution_count": 8,
   "metadata": {},
   "outputs": [
    {
     "data": {
      "text/plain": [
       "array([0.1  , 0.125, 0.075, 0.1  , 0.075])"
      ]
     },
     "execution_count": 8,
     "metadata": {},
     "output_type": "execute_result"
    }
   ],
   "source": [
    "mem.accuracy(ob_int,fo_int2)"
   ]
  },
  {
   "cell_type": "code",
   "execution_count": 9,
   "metadata": {},
   "outputs": [
    {
     "data": {
      "text/plain": [
       "array([0.325, 0.375, 0.3  , 0.325, 0.425])"
      ]
     },
     "execution_count": 9,
     "metadata": {},
     "output_type": "execute_result"
    }
   ],
   "source": [
    "mem.accuracy(ob_int,fo_int2,grade_list)"
   ]
  },
  {
   "cell_type": "markdown",
   "metadata": {},
   "source": [
    "**<font face=\"黑体\" color=blue size = 5>分类预报TS评分</font>**     \n",
    "**ts_multi(ob, fo,grade_list=None)**  \n",
    "基于原始数据计算针对每个类别的ts评分： Hit /(Hit + Misses+ False alarms) ，其中对于某个类别，Hit为预报值为该类别，且观测值也为该类别的样本数；Misses是预报值不为该类别，但观测值为该类别的样本数，False alarms为预报值为该类别，但观测值不为该类别的样本数。\n",
    "\n",
    "\n",
    "|参数|说明|    \n",
    "|:--|:--|  \n",
    "|**<font face=\"黑体\" color=blue size = 5>ob</font>**|实况数据, 任意维numpy数组|   \n",
    "|**<font face=\"黑体\" color=blue size = 5>fo</font>**| fo比Ob.shape多一维或者保持一致，fo.shape低维与ob.shape保持一致|   \n",
    "|**grade_list**| 如果该参数为None，观测或预报值出现过的值都作为分类标记，并由此确定类别数。如果该参数不为None，它必须是一个从小到大排列的实数，以其中列出的数值划分出的多个区间作为分类标签，例如当grade_list = [3,5]，样本将被分为（负无穷,3),[3,5),[5,正无穷）三种类别。对于预报和观测值不为整数的情况，grade_list 不能设置为None|  \n",
    "|<font face=\"黑体\" color=blue size=5>return</font>|当fo包含多个成员预报时，返回一个多维numpy数组,shaop= (预报成员数，类别数),否则返回一维数组，长度等于类别数。数组中每个元素为一个模式一个类别的ts评分 。每个元素值为0到1的实数，完美预报对应值为1。|  \n",
    "\n",
    "\n",
    "\n",
    " \n",
    " **调用示例：**  "
   ]
  },
  {
   "cell_type": "code",
   "execution_count": 10,
   "metadata": {},
   "outputs": [
    {
     "data": {
      "text/plain": [
       "array([0.        , 0.        , 0.125     , 0.        , 0.14285714,\n",
       "       0.16666667, 0.        , 0.11111111, 0.1       , 0.        ])"
      ]
     },
     "execution_count": 10,
     "metadata": {},
     "output_type": "execute_result"
    }
   ],
   "source": [
    "#grade_list = None,采用观测预报中出现过的0,1,2,3,4,5,6,7,8,9分别被作为类别标签，\n",
    "mem.ts_multi(ob_int,fo_int1)  "
   ]
  },
  {
   "cell_type": "code",
   "execution_count": 11,
   "metadata": {},
   "outputs": [
    {
     "data": {
      "text/plain": [
       "array([0.3       , 0.1       , 0.48275862])"
      ]
     },
     "execution_count": 11,
     "metadata": {},
     "output_type": "execute_result"
    }
   ],
   "source": [
    "#grade_list = [3,5],将预报和观测分为（负无穷,3),[3,5),[5,正无穷）三种类别。\n",
    "mem.ts_multi(ob_int,fo_int1,grade_list)"
   ]
  },
  {
   "cell_type": "code",
   "execution_count": 12,
   "metadata": {},
   "outputs": [
    {
     "data": {
      "text/plain": [
       "array([[0.25      , 0.08333333, 0.18518519],\n",
       "       [0.26923077, 0.        , 0.30769231],\n",
       "       [0.16      , 0.08333333, 0.22580645],\n",
       "       [0.12      , 0.08333333, 0.3       ],\n",
       "       [0.2173913 , 0.        , 0.375     ]])"
      ]
     },
     "execution_count": 12,
     "metadata": {},
     "output_type": "execute_result"
    }
   ],
   "source": [
    "#grade_list = [3,5],将预报和观测分为（负无穷,3),[3,5),[5,正无穷）三种类别。\n",
    "mem.ts_multi(ob_int,fo_int2,grade_list)"
   ]
  },
  {
   "cell_type": "code",
   "execution_count": 13,
   "metadata": {},
   "outputs": [
    {
     "data": {
      "text/plain": [
       "array([[0.36363636, 0.18518519],\n",
       "       [0.42424242, 0.30769231],\n",
       "       [0.41666667, 0.22580645],\n",
       "       [0.40540541, 0.3       ],\n",
       "       [0.48571429, 0.375     ]])"
      ]
     },
     "execution_count": 13,
     "metadata": {},
     "output_type": "execute_result"
    }
   ],
   "source": [
    "#分类ts评分算法的底层仍然是二分类预报的Ts评分算法，只是正负样本的判断标准的差异。\n",
    "#在本程序库的二分类预报的ts评分函数中也可以接受grade_list参数，通过下面的例子可以了解其中差异\n",
    "#在ts函数中，grade_list =[3,5]对应计算了两个评分值\n",
    "#第一个评分代表将预报观测值分为（负无穷，3），[3,正无穷）\n",
    "#第二个评分代表将预报观测值分为（负无穷，5），[5，正无穷）\n",
    "#虽然grade_list和上一个例子中是一样的，但返回结果的size却少了1\n",
    "mem.ts(ob_int,fo_int2,grade_list)"
   ]
  },
  {
   "cell_type": "markdown",
   "metadata": {},
   "source": [
    "**<font face=\"黑体\" color=blue size = 5>分类预报ETS评分</font>**     \n",
    "**ets_multi(ob, fo,grade_list=None)**  \n",
    "基于原始数据计算针对每个类别的ets评分：(Hit-Hit_random) /(Hit + Misses+ False alarms - Hit_random) ，其中对于某个类别，Hit为预报值为该类别，且观测值也为该类别的样本数；Misses是预报值不为该类别，但观测值为该类别的样本数，False alarms为预报值为该类别，但观测值不为该类别的样本数。\n",
    "Hit_randwom 为随机预报的命中数。   \n",
    "  \n",
    "**参数说明：**   返回结果的每个元素为-1/3到1的实数，完美预报对应值为1，其它同ts_multi一致。\n",
    "\n",
    " \n",
    " \n",
    "**<font face=\"黑体\" color=blue size = 5>分类预报BIAS</font>**     \n",
    "**bias_multi(ob, fo,grade_list=None)**  \n",
    "基于原始数据计算针对每个类别的bias评分：(Hit + False alarms)/(Hit + Misses)，其中对于某个类别，Hit为预报值为该类别，且观测值也为该类别的样本数；Misses是预报值不为该类别，但观测值为该类别的样本数，False alarms为预报值为该类别，但观测值不为该类别的样本数。\n",
    "  \n",
    "  \n",
    "**参数说明：**   返回值数组中的每个元素为0到正无穷的实数，完美预报对应值为1。其它同ts_multi一致。\n",
    " \n",
    " \n",
    " \n",
    "**<font face=\"黑体\" color=blue size = 5>分类预报空报率</font>**     \n",
    "**far_multi(ob, fo,grade_list=None)**  \n",
    "基于原始数据计算针对每个类别的far评分： False alarms/(Hit + False alarms)，其中对于某个类别，Hit为预报值为该类别，且观测值也为该类别的样本数；Misses是预报值不为该类别，但观测值为该类别的样本数，False alarms为预报值为该类别，但观测值不为该类别的样本数。\n",
    "  \n",
    "  \n",
    "**参数说明：**   返回值数组中的每个元素为0到1的实数，完美预报对应值为0。其它同ts_multi一致。\n",
    " \n",
    "**<font face=\"黑体\" color=blue size = 5>分类预报漏报率</font>**     \n",
    "**mr_multi(ob, fo,grade_list=None)**  \n",
    "基于原始数据计算针对每个类别的mr评分： Misses/(Hit + Misses)，其中对于某个类别，Hit为预报值为该类别，且观测值也为该类别的样本数；Misses是预报值不为该类别，但观测值为该类别的样本数，False alarms为预报值为该类别，但观测值不为该类别的样本数。\n",
    "\n",
    "\n",
    "**参数说明：**   返回值数组中的每个元素为0到1的实数，完美预报对应值为0。其它同ts_multi一致。\n",
    "  \n",
    " \n",
    " **调用示例：**  "
   ]
  },
  {
   "cell_type": "code",
   "execution_count": 14,
   "metadata": {},
   "outputs": [
    {
     "data": {
      "text/plain": [
       "array([0.125     , 0.02702703, 0.14772727])"
      ]
     },
     "execution_count": 14,
     "metadata": {},
     "output_type": "execute_result"
    }
   ],
   "source": [
    "mem.ets_multi(ob_int,fo_int1,grade_list) #分类预报ETS评分"
   ]
  },
  {
   "cell_type": "code",
   "execution_count": 15,
   "metadata": {},
   "outputs": [
    {
     "data": {
      "text/plain": [
       "array([0.625     , 1.2       , 1.26315789])"
      ]
     },
     "execution_count": 15,
     "metadata": {},
     "output_type": "execute_result"
    }
   ],
   "source": [
    "mem.bias_multi(ob_int,fo_int1,grade_list) #分类预报bias"
   ]
  },
  {
   "cell_type": "code",
   "execution_count": 16,
   "metadata": {},
   "outputs": [
    {
     "data": {
      "text/plain": [
       "array([0.4       , 0.83333333, 0.41666667])"
      ]
     },
     "execution_count": 16,
     "metadata": {},
     "output_type": "execute_result"
    }
   ],
   "source": [
    "mem.far_multi(ob_int,fo_int1,grade_list) #分类预报空报率"
   ]
  },
  {
   "cell_type": "code",
   "execution_count": 17,
   "metadata": {},
   "outputs": [
    {
     "data": {
      "text/plain": [
       "array([0.625     , 0.8       , 0.26315789])"
      ]
     },
     "execution_count": 17,
     "metadata": {},
     "output_type": "execute_result"
    }
   ],
   "source": [
    "mem.mr_multi(ob_int,fo_int1,grade_list)  #分类预报漏报率"
   ]
  },
  {
   "cell_type": "markdown",
   "metadata": {},
   "source": [
    "**<font face=\"黑体\" color=blue size = 5> hss评分</font>**     \n",
    "**hss(ob,fo,grade_list = None)**  \n",
    "Heidke skill score，统计准确率相对于随机预报的技巧\n",
    "\n",
    "\n",
    "|参数|说明|    \n",
    "|:--|:--|  \n",
    "|**<font face=\"黑体\" color=blue size = 5>ob</font>**|实况数据, 任意维numpy数组|   \n",
    "|**<font face=\"黑体\" color=blue size = 5>fo</font>**| fo比Ob.shape多一维或者保持一致，fo.shape低维与ob.shape保持一致|   \n",
    "|**grade_list**| 如果该参数为None，观测或预报值出现过的值都作为分类标记，如果该参数不为None，它必须是一个从小到大排列的实数，以其中列出的数值划分出的多个区间作为分类标签。对于预报和观测值不为整数的情况，grade_list 不能设置为None|  \n",
    "|<font face=\"黑体\" color=blue size=5>return</font>|如果Fo和Ob的shape一致（即只有一种预报），返回结果为实数；如果Fo比Ob高出一维，则返回1维数组，长度等于预报成员数。-1到1的实数，0代表无技巧，最优预报为1|  \n",
    "\n",
    "     \n",
    "**调用示例：**  "
   ]
  },
  {
   "cell_type": "code",
   "execution_count": 18,
   "metadata": {},
   "outputs": [
    {
     "data": {
      "text/plain": [
       "0.04632152588555858"
      ]
     },
     "execution_count": 18,
     "metadata": {},
     "output_type": "execute_result"
    }
   ],
   "source": [
    "mem.hss(ob_int,fo_int1)"
   ]
  },
  {
   "cell_type": "code",
   "execution_count": 19,
   "metadata": {},
   "outputs": [
    {
     "data": {
      "text/plain": [
       "array([-0.00208768,  0.00426743, -0.02992345,  0.00277008, -0.02068966])"
      ]
     },
     "execution_count": 19,
     "metadata": {},
     "output_type": "execute_result"
    }
   ],
   "source": [
    "mem.hss(ob_int,fo_int2)"
   ]
  },
  {
   "cell_type": "code",
   "execution_count": 20,
   "metadata": {},
   "outputs": [
    {
     "data": {
      "text/plain": [
       "0.20335429769392038"
      ]
     },
     "execution_count": 20,
     "metadata": {},
     "output_type": "execute_result"
    }
   ],
   "source": [
    "mem.hss(ob_int,fo_int1,grade_list)"
   ]
  },
  {
   "cell_type": "code",
   "execution_count": 21,
   "metadata": {},
   "outputs": [
    {
     "data": {
      "text/plain": [
       "array([-0.0703667 ,  0.00299103, -0.13017154, -0.09311741, -0.00217865])"
      ]
     },
     "execution_count": 21,
     "metadata": {},
     "output_type": "execute_result"
    }
   ],
   "source": [
    "mem.hss(ob_int,fo_int2,grade_list)"
   ]
  },
  {
   "cell_type": "markdown",
   "metadata": {},
   "source": [
    "**<font face=\"黑体\" color=blue size = 5> hk评分</font>**     \n",
    "**hk(ob,fo,grade_list = None)**  \n",
    "Hanssen and Kuipers discriminant，统计准确率相对于随机预报的技巧\n",
    "\n",
    "|参数|说明|    \n",
    "|:--|:--|  \n",
    "|**<font face=\"黑体\" color=blue size = 5>ob</font>**|实况数据, 任意维numpy数组|   \n",
    "|**<font face=\"黑体\" color=blue size = 5>fo</font>**| fo比Ob.shape多一维或者保持一致，fo.shape低维与ob.shape保持一致|   \n",
    "|**grade_list**| 如果该参数为None，观测或预报值出现过的值都作为分类标记，如果该参数不为None，它必须是一个从小到大排列的实数，以其中列出的数值划分出的多个区间作为分类标签。对于预报和观测值不为整数的情况，grade_list 不能设置为None|  \n",
    "|<font face=\"黑体\" color=blue size=5>return</font>|如果Fo和Ob的shape一致（即只有一种预报），返回结果为实数；如果Fo比Ob高出一维，则返回1维数组，长度等于预报成员数。-1到1的实数，0代表无技巧，最优预报为1| \n",
    "\n",
    "\n",
    "**调用示例：**  "
   ]
  },
  {
   "cell_type": "code",
   "execution_count": 22,
   "metadata": {},
   "outputs": [
    {
     "data": {
      "text/plain": [
       "0.050370370370370364"
      ]
     },
     "execution_count": 22,
     "metadata": {},
     "output_type": "execute_result"
    }
   ],
   "source": [
    "mem.hk(ob_int,fo_int1)"
   ]
  },
  {
   "cell_type": "code",
   "execution_count": 23,
   "metadata": {
    "scrolled": true
   },
   "outputs": [
    {
     "data": {
      "text/plain": [
       "0.12641083521444696"
      ]
     },
     "execution_count": 23,
     "metadata": {},
     "output_type": "execute_result"
    }
   ],
   "source": [
    "mem.hk(ob_int,fo_int1,grade_list = [1.5,3.5])"
   ]
  },
  {
   "cell_type": "code",
   "execution_count": 24,
   "metadata": {},
   "outputs": [
    {
     "data": {
      "text/plain": [
       "array([0.09722222, 0.20212766])"
      ]
     },
     "execution_count": 24,
     "metadata": {},
     "output_type": "execute_result"
    }
   ],
   "source": [
    "mem.hss_yesorno(ob_int,fo_int1,grade_list = [1.5,3.5])"
   ]
  },
  {
   "cell_type": "markdown",
   "metadata": {},
   "source": [
    "在以上示例中，观测和预报的数据都直接输入到评分函数中进行计算，然而有些情况下待检验的数据太大不能整体存入一个numpy数组中，或者不方便整体存入一个numpy数组中，此时就不能调用上面的方式调用评分函数。为此本程序库设计了一套可分块计算的检验程序。  \n",
    "其检验步骤如下：  \n",
    "***步骤1：根据需要将分块数据逐一输入到中间结果计算函数***  \n",
    "***步骤2：将中间结果进行累加或合并***  \n",
    "***步骤3：根据累加或合并的中间结果计算检验指标***  \n",
    "通常上述计算中步骤1是最耗费计算资源，为了提高效率步骤1也可以采用**并行**的方式执行。此外，步骤1执行的结果也可**输出到文件**中，在后续的检验可以从中读入部分中间结果执行后续步骤，从而可以实现各种方式的分组检验，大大提高检验计算效率。"
   ]
  },
  {
   "cell_type": "markdown",
   "metadata": {},
   "source": [
    "**<font face=\"黑体\" color=blue size = 5>总样本数、正确样本数</font>**     \n",
    "**tc(ob, fo, grade_list=None)**  \n",
    "用来计算accuracy等检验指标的中间量  \n",
    "\n",
    "\n",
    "\n",
    "|参数|说明|    \n",
    "|:--|:--|  \n",
    "|**<font face=\"黑体\" color=blue size = 5>ob</font>**|实况数据, 任意维numpy数组|   \n",
    "|**<font face=\"黑体\" color=blue size = 5>fo</font>**| fo比Ob.shape多一维或者保持一致，fo.shape低维与ob.shape保持一致|   \n",
    "|**grade_list**| 如果该参数为None，观测或预报值出现过的值都作为分类标记，并由此确定类别数。如果该参数不为None，它必须是一个从小到大排列的实数，以其中列出的数值划分出的多个区间作为分类标签，例如当grade_list = [3,5]，样本将被分为（负无穷,3),[3,5),[5,正无穷）三种类别。对于预报和观测值不为整数的情况，grade_list 不能设置为None|  \n",
    "|<font face=\"黑体\" color=blue size=5>return</font>|如果Fo和Ob的shape一致（即只有一种预报），返回结果为shape= （类别数，2）的数组；如果Fo比Ob高出一维，则shape = (预报成员数，类别数，2）的数组，最后一维的内容其依次为总样本数、正确分类的样本数| \n",
    "   \n",
    "  \n",
    "  \n",
    "**<font face=\"黑体\" color=blue size = 5>总样本数、正确样本数、 预报观测频率表</font>**     \n",
    "**tcof(ob,fo,grade_list = None)**  \n",
    "用来计算accuracy等检验指标的中间量  \n",
    "\n",
    "\n",
    "\n",
    "|参数|说明|    \n",
    "|:--|:--|  \n",
    "|**<font face=\"黑体\" color=blue size = 5>ob</font>**|实况数据, 任意维numpy数组|   \n",
    "|**<font face=\"黑体\" color=blue size = 5>fo</font>**| fo比Ob.shape多一维或者保持一致，fo.shape低维与ob.shape保持一致|   \n",
    "|**grade_list**| 如果该参数为None，观测或预报值出现过的值都作为分类标记，并由此确定类别数。如果该参数不为None，它必须是一个从小到大排列的实数，以其中列出的数值划分出的多个区间作为分类标签，例如当grade_list = [3,5]，样本将被分为（负无穷,3),[3,5),[5,正无穷）三种类别。对于预报和观测值不为整数的情况，grade_list 不能设置为None|  \n",
    "|<font face=\"黑体\" color=blue size=5>return</font>|如果Fo和Ob的shape一致（即只有一种预报），返回结果为shape= （类别数+1，2）的数组；如果Fo比Ob高出一维，则shape = (预报成员数，类别数+1，2）的数组。记为返回值为re，其中re[:,0,0] 为总样本数，re[:,0,1]为正确样本数据、re[:,1:,0]为观测频率表，re[:,1:,1]为预报频率表| \n",
    "   \n",
    "   \n",
    "\n",
    "**<font face=\"黑体\" color=blue size = 5>命中、空报、漏报、正确否定 </font>**     \n",
    "**hfmc_multi(ob, fo, grade_list=None)**  \n",
    "用来计算常用二分类预报检验指标的中间统计量    \n",
    "\n",
    "\n",
    "|参数|说明|    \n",
    "|:--|:--|  \n",
    "|**<font face=\"黑体\" color=blue size = 5>ob</font>**|实况数据, 任意维numpy数组|   \n",
    "|**<font face=\"黑体\" color=blue size = 5>fo</font>**| fo比Ob.shape多一维或者保持一致，fo.shape低维与ob.shape保持一致|   \n",
    "|**grade_list**| 如果该参数为None，观测或预报值出现过的值都作为分类标记，并由此确定类别数。如果该参数不为None，它必须是一个从小到大排列的实数，以其中列出的数值划分出的多个区间作为分类标签，例如当grade_list = [3,5]，样本将被分为（负无穷,3),[3,5),[5,正无穷）三种类别。对于预报和观测值不为整数的情况，grade_list 不能设置为None|  \n",
    "|<font face=\"黑体\" color=blue size=5>return</font>|如果Fo和Ob的shape一致（即只有一种预报），返回结果为shape= （类别数，4）的数组；如果Fo比Ob高出一维，则shape = (预报成员数，类别数，4）的数组，最后一维的内容其依次为命中、空报、漏报、正确否定的样本数| \n",
    "\n",
    "  \n",
    "\n",
    " **调用示例：**  "
   ]
  },
  {
   "cell_type": "code",
   "execution_count": 25,
   "metadata": {},
   "outputs": [],
   "source": [
    "tc_array2 = np.zeros((5,2))\n",
    "tcof_array2 = np.zeros((5,len(grade_list)+2,2))\n",
    "hfmc_array2 = np.zeros((5,len(grade_list)+1,4))\n",
    "for i in range(2):\n",
    "    ob1 = ob_int[i,:]\n",
    "    fo1 = fo_int2[:,i,:]\n",
    "    tc_array2 += mem.tc(ob1,fo1,grade_list)\n",
    "    tcof_array2 += mem.tcof(ob1,fo1,grade_list)\n",
    "    hfmc_array2 += mem.hfmc_multi(ob1,fo1,grade_list)\n",
    "    "
   ]
  },
  {
   "cell_type": "code",
   "execution_count": 26,
   "metadata": {},
   "outputs": [],
   "source": [
    "tc_array1 = np.zeros((2))\n",
    "tcof_array1 = np.zeros((len(grade_list)+2,2))\n",
    "hfmc_array1 = np.zeros((len(grade_list)+1,4))\n",
    "for i in range(2):\n",
    "    ob1 = ob_int[i,:]\n",
    "    fo1 = fo_int1[i,:]\n",
    "    tc_array1 += mem.tc(ob1,fo1,grade_list)\n",
    "    tcof_array1 += mem.tcof(ob1,fo1,grade_list)\n",
    "    hfmc_array1 += mem.hfmc_multi(ob1,fo1,grade_list)\n",
    "    "
   ]
  },
  {
   "cell_type": "markdown",
   "metadata": {},
   "source": [
    "**以下为根据合并后的中间统计量计算最终检验指标的函数：**\n",
    "**<font face=\"黑体\" color=blue size = 5>准确率</font>**     \n",
    "**accuracy_tc(tc_array)**  \n",
    "统计观测和预报分类一致的样本数占比  \n",
    "\n",
    "\n",
    "\n",
    "|参数|说明|    \n",
    "|:--|:--|  \n",
    "|**<font face=\"黑体\" color=blue size = 5>tc_array</font>**|包含检验中间结果的多维数组，其中最后一维长度为2，分别记录了总样本数、正确分类的样本数，它通常是tc函数的计算结果，或者计算结果的累加|   \n",
    "|<font face=\"黑体\" color=blue size=5>return</font>|整数或数组，它比tc_array少了最后一维。其中每个元素为0到1的实数，0代表无技巧，最优值为1| \n",
    "\n",
    "**调用示例：**  "
   ]
  },
  {
   "cell_type": "code",
   "execution_count": 27,
   "metadata": {},
   "outputs": [
    {
     "data": {
      "text/plain": [
       "0.525"
      ]
     },
     "execution_count": 27,
     "metadata": {},
     "output_type": "execute_result"
    }
   ],
   "source": [
    "mem.accuracy_tc(tc_array1)"
   ]
  },
  {
   "cell_type": "code",
   "execution_count": 28,
   "metadata": {},
   "outputs": [
    {
     "data": {
      "text/plain": [
       "array([0.325, 0.375, 0.3  , 0.325, 0.425])"
      ]
     },
     "execution_count": 28,
     "metadata": {},
     "output_type": "execute_result"
    }
   ],
   "source": [
    "mem.accuracy_tc(tc_array2)"
   ]
  },
  {
   "cell_type": "markdown",
   "metadata": {},
   "source": [
    "**<font face=\"黑体\" color=blue size = 5> 准确率</font>**     \n",
    "**accuracy_tcof(tcof_array)**  \n",
    "统计观测和预报分类一致的样本数占比\n",
    "\n",
    "\n",
    "|参数|说明|    \n",
    "|:--|:--|  \n",
    "|**<font face=\"黑体\" color=blue size = 5>tc_array</font>**|包含检验中间结果的多维数组，它通常是tcof函数的计算结果，或者计算结果的累加|   \n",
    "|<font face=\"黑体\" color=blue size=5>return</font>|整数或数组，它比tcof_array少了最后一维。其中每个元素为0到1的实数，0代表无技巧，最优值为1| \n",
    "\n",
    "\n",
    "**调用示例：**  "
   ]
  },
  {
   "cell_type": "code",
   "execution_count": 29,
   "metadata": {},
   "outputs": [
    {
     "data": {
      "text/plain": [
       "0.525"
      ]
     },
     "execution_count": 29,
     "metadata": {},
     "output_type": "execute_result"
    }
   ],
   "source": [
    "mem.accuracy_tcof(tcof_array1)"
   ]
  },
  {
   "cell_type": "code",
   "execution_count": 30,
   "metadata": {},
   "outputs": [
    {
     "data": {
      "text/plain": [
       "array([0.325, 0.375, 0.3  , 0.325, 0.425])"
      ]
     },
     "execution_count": 30,
     "metadata": {},
     "output_type": "execute_result"
    }
   ],
   "source": [
    "mem.accuracy_tcof(tcof_array2)"
   ]
  },
  {
   "cell_type": "markdown",
   "metadata": {},
   "source": [
    "**<font face=\"黑体\" color=blue size = 5>hss评分</font>**     \n",
    "**hss_tcof(tcof_array)**  \n",
    "Heidke skill score，统计准确率相对于随机预报的技巧\n",
    "\n",
    "\n",
    "|参数|说明|    \n",
    "|:--|:--|  \n",
    "|**<font face=\"黑体\" color=blue size = 5>tc_array</font>**|包含检验中间结果的多维数组，它通常是tcof函数的计算结果，或者计算结果的累加|   \n",
    "|<font face=\"黑体\" color=blue size=5>return</font>|整数或数组，它比tcof_array少了最后一维。其中每个元素为-1到1的实数，0代表无技巧，最优预报为1 | \n",
    "\n",
    "\n",
    "**调用示例：**  "
   ]
  },
  {
   "cell_type": "code",
   "execution_count": 31,
   "metadata": {
    "scrolled": true
   },
   "outputs": [
    {
     "data": {
      "text/plain": [
       "0.20335429769392038"
      ]
     },
     "execution_count": 31,
     "metadata": {},
     "output_type": "execute_result"
    }
   ],
   "source": [
    "mem.hss_tcof(tcof_array1)"
   ]
  },
  {
   "cell_type": "code",
   "execution_count": 32,
   "metadata": {
    "scrolled": true
   },
   "outputs": [
    {
     "data": {
      "text/plain": [
       "array([-0.0703667 ,  0.00299103, -0.13017154, -0.09311741, -0.00217865])"
      ]
     },
     "execution_count": 32,
     "metadata": {},
     "output_type": "execute_result"
    }
   ],
   "source": [
    "mem.hss_tcof(tcof_array2)"
   ]
  },
  {
   "cell_type": "markdown",
   "metadata": {},
   "source": [
    "**<font face=\"黑体\" color=blue size = 5>hk评分</font>**     \n",
    "**hk_tcof(tcof_array)**  \n",
    "Hanssen and Kuipers discriminant，统计准确率相对于随机预报的技巧\n",
    "\n",
    "|参数|说明|    \n",
    "|:--|:--|  \n",
    "|**<font face=\"黑体\" color=blue size = 5>tc_array</font>**|包含检验中间结果的多维数组，它通常是tcof函数的计算结果，或者计算结果的累加|   \n",
    "|<font face=\"黑体\" color=blue size=5>return</font>|整数或数组，它比tcof_array少了最后一维。其中每个元素为-1到1的实数，0代表无技巧，最优预报为1 | \n",
    "\n",
    "\n",
    "**调用示例：**  "
   ]
  },
  {
   "cell_type": "code",
   "execution_count": 33,
   "metadata": {},
   "outputs": [
    {
     "data": {
      "text/plain": [
       "0.20250521920668063"
      ]
     },
     "execution_count": 33,
     "metadata": {},
     "output_type": "execute_result"
    }
   ],
   "source": [
    "mem.hk_tcof(tcof_array1)"
   ]
  },
  {
   "cell_type": "code",
   "execution_count": 34,
   "metadata": {},
   "outputs": [
    {
     "data": {
      "text/plain": [
       "array([-0.07411273,  0.00313152, -0.13465553, -0.0960334 , -0.00208768])"
      ]
     },
     "execution_count": 34,
     "metadata": {},
     "output_type": "execute_result"
    }
   ],
   "source": [
    "mem.hk_tcof(tcof_array2)"
   ]
  },
  {
   "cell_type": "markdown",
   "metadata": {},
   "source": [
    "基于hfmc计算分类预报的ts、ets、bias、far、mr等评分时，其函数调用方法和二分类模块中的方法是一样的。"
   ]
  },
  {
   "cell_type": "code",
   "execution_count": 35,
   "metadata": {},
   "outputs": [
    {
     "data": {
      "text/plain": [
       "array([0.3       , 0.1       , 0.48275862])"
      ]
     },
     "execution_count": 35,
     "metadata": {},
     "output_type": "execute_result"
    }
   ],
   "source": [
    "mem.ts_hfmc(hfmc_array1)"
   ]
  },
  {
   "cell_type": "code",
   "execution_count": 36,
   "metadata": {},
   "outputs": [
    {
     "data": {
      "text/plain": [
       "array([[0.25      , 0.08333333, 0.18518519],\n",
       "       [0.26923077, 0.        , 0.30769231],\n",
       "       [0.16      , 0.08333333, 0.22580645],\n",
       "       [0.12      , 0.08333333, 0.3       ],\n",
       "       [0.2173913 , 0.        , 0.375     ]])"
      ]
     },
     "execution_count": 36,
     "metadata": {},
     "output_type": "execute_result"
    }
   ],
   "source": [
    "mem.ts_hfmc(hfmc_array2)"
   ]
  },
  {
   "cell_type": "code",
   "execution_count": 37,
   "metadata": {},
   "outputs": [
    {
     "data": {
      "text/plain": [
       "array([0.125     , 0.02702703, 0.14772727])"
      ]
     },
     "execution_count": 37,
     "metadata": {},
     "output_type": "execute_result"
    }
   ],
   "source": [
    "mem.ets_hfmc(hfmc_array1)"
   ]
  },
  {
   "cell_type": "code",
   "execution_count": 38,
   "metadata": {},
   "outputs": [
    {
     "data": {
      "text/plain": [
       "array([[-0.02941176,  0.        , -0.05642257],\n",
       "       [ 0.01041667, -0.08333333,  0.04635762],\n",
       "       [-0.06060606,  0.        , -0.09215017],\n",
       "       [-0.08910891,  0.        , -0.02439024],\n",
       "       [ 0.01098901, -0.04918033,  0.00621118]])"
      ]
     },
     "execution_count": 38,
     "metadata": {},
     "output_type": "execute_result"
    }
   ],
   "source": [
    "mem.ets_hfmc(hfmc_array2)"
   ]
  },
  {
   "cell_type": "code",
   "execution_count": 39,
   "metadata": {},
   "outputs": [
    {
     "data": {
      "text/plain": [
       "array([0.625     , 1.2       , 1.26315789])"
      ]
     },
     "execution_count": 39,
     "metadata": {},
     "output_type": "execute_result"
    }
   ],
   "source": [
    "mem.bias_hfmc(hfmc_array1)"
   ]
  },
  {
   "cell_type": "code",
   "execution_count": 40,
   "metadata": {},
   "outputs": [
    {
     "data": {
      "text/plain": [
       "array([[1.1875    , 1.6       , 0.68421053],\n",
       "       [1.0625    , 1.6       , 0.78947368],\n",
       "       [0.8125    , 1.6       , 1.        ],\n",
       "       [0.75      , 1.6       , 1.05263158],\n",
       "       [0.75      , 0.6       , 1.31578947]])"
      ]
     },
     "execution_count": 40,
     "metadata": {},
     "output_type": "execute_result"
    }
   ],
   "source": [
    "mem.bias_hfmc(hfmc_array2)"
   ]
  },
  {
   "cell_type": "code",
   "execution_count": 41,
   "metadata": {},
   "outputs": [
    {
     "data": {
      "text/plain": [
       "array([0.4       , 0.83333333, 0.41666667])"
      ]
     },
     "execution_count": 41,
     "metadata": {},
     "output_type": "execute_result"
    }
   ],
   "source": [
    "mem.far_hfmc(hfmc_array1)"
   ]
  },
  {
   "cell_type": "code",
   "execution_count": 42,
   "metadata": {},
   "outputs": [
    {
     "data": {
      "text/plain": [
       "array([[0.63157895, 0.875     , 0.61538462],\n",
       "       [0.58823529, 1.        , 0.46666667],\n",
       "       [0.69230769, 0.875     , 0.63157895],\n",
       "       [0.75      , 0.875     , 0.55      ],\n",
       "       [0.58333333, 1.        , 0.52      ]])"
      ]
     },
     "execution_count": 42,
     "metadata": {},
     "output_type": "execute_result"
    }
   ],
   "source": [
    "mem.far_hfmc(hfmc_array2)"
   ]
  },
  {
   "cell_type": "code",
   "execution_count": 43,
   "metadata": {},
   "outputs": [
    {
     "data": {
      "text/plain": [
       "array([0.625     , 0.8       , 0.26315789])"
      ]
     },
     "execution_count": 43,
     "metadata": {},
     "output_type": "execute_result"
    }
   ],
   "source": [
    "mem.mr_hfmc(hfmc_array1)"
   ]
  },
  {
   "cell_type": "code",
   "execution_count": 44,
   "metadata": {},
   "outputs": [
    {
     "data": {
      "text/plain": [
       "array([[0.5625    , 0.8       , 0.73684211],\n",
       "       [0.5625    , 1.        , 0.57894737],\n",
       "       [0.75      , 0.8       , 0.63157895],\n",
       "       [0.8125    , 0.8       , 0.52631579],\n",
       "       [0.6875    , 1.        , 0.36842105]])"
      ]
     },
     "execution_count": 44,
     "metadata": {},
     "output_type": "execute_result"
    }
   ],
   "source": [
    "mem.mr_hfmc(hfmc_array2)"
   ]
  },
  {
   "cell_type": "markdown",
   "metadata": {},
   "source": [
    "上述基于中间结果的检验函数也可以处理更高维度的输入，在此不做进一步举例。 \n"
   ]
  },
  {
   "cell_type": "code",
   "execution_count": null,
   "metadata": {},
   "outputs": [],
   "source": []
  }
 ],
 "metadata": {
  "kernelspec": {
   "display_name": "Python 3",
   "language": "python",
   "name": "python3"
  },
  "language_info": {
   "codemirror_mode": {
    "name": "ipython",
    "version": 3
   },
   "file_extension": ".py",
   "mimetype": "text/x-python",
   "name": "python",
   "nbconvert_exporter": "python",
   "pygments_lexer": "ipython3",
   "version": "3.7.1"
  }
 },
 "nbformat": 4,
 "nbformat_minor": 2
}
