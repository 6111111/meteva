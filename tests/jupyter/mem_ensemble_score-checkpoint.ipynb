{
 "cells": [
  {
   "cell_type": "code",
   "execution_count": 1,
   "metadata": {},
   "outputs": [],
   "source": [
    "%matplotlib inline\n",
    "%load_ext autoreload\n",
    "%autoreload 2\n",
    "import meteva.method  as mem\n",
    "import numpy as np"
   ]
  },
  {
   "cell_type": "markdown",
   "metadata": {},
   "source": [
    "***通过随机函数生成测试数据，用于后续检验函数调用示例***"
   ]
  },
  {
   "cell_type": "code",
   "execution_count": 2,
   "metadata": {},
   "outputs": [],
   "source": [
    "sample_count = 1000\n",
    "member_count = 20\n",
    "ob = 0.003 * np.arange(sample_count)                 #生成一批观测样本数据\n",
    "ensemble_mean = ob + np.random.randn(sample_count)   #设观测值随机出现在集合平均的周围，误差标准差为1\n",
    "fo = np.zeros((sample_count,member_count))          \n",
    "for i in range(member_count):\n",
    "    fo[:,i] = ensemble_mean + np.random.randn(sample_count) * 0.5 #集合成员随机出现在集合平均的周围，集合发散标准差为0.5"
   ]
  },
  {
   "cell_type": "code",
   "execution_count": 2,
   "metadata": {},
   "outputs": [],
   "source": [
    "ob = np.random.randn(10,1000)\n",
    "fo1 = np.random.randn(5,10,1000)\n",
    "fo2 = np.random.randn(10,1000)"
   ]
  },
  {
   "cell_type": "markdown",
   "metadata": {},
   "source": [
    "### 一致性比例   \n",
    "**cr(ob,fo,grade_list=[1e-300])**  \n",
    "代表集合成员集中且于观测一致的程度，即所有成员及观测在某个阈值以上的落区的交集与并集的比值   \n",
    "**参数说明：**  \n",
    " ob:观测数据，n维numpy数组  \n",
    " fo:预报数据，n维numpy数组, fo.shape = (成员数，ob.size)   \n",
    " grade_list:多个阈值同时检验时的等级参数  \n",
    " return: 多维numpy数组，其中每个元素为0-1的实数，最优值为1  \n",
    "**调用示例：**  "
   ]
  },
  {
   "cell_type": "code",
   "execution_count": 3,
   "metadata": {},
   "outputs": [
    {
     "data": {
      "text/plain": [
       "array([[0.33715505, 0.08299458, 0.01622718],\n",
       "       [0.3428    , 0.09603761, 0.01483051],\n",
       "       [0.32850498, 0.09257999, 0.01028807],\n",
       "       [0.34429297, 0.09266802, 0.01239669],\n",
       "       [0.33187888, 0.09280822, 0.0193133 ]])"
      ]
     },
     "execution_count": 3,
     "metadata": {},
     "output_type": "execute_result"
    }
   ],
   "source": [
    "mem.cr(ob,fo1,grade_list=[0,1,2])"
   ]
  }
 ],
 "metadata": {
  "kernelspec": {
   "display_name": "Python 3",
   "language": "python",
   "name": "python3"
  },
  "language_info": {
   "codemirror_mode": {
    "name": "ipython",
    "version": 3
   },
   "file_extension": ".py",
   "mimetype": "text/x-python",
   "name": "python",
   "nbconvert_exporter": "python",
   "pygments_lexer": "ipython3",
   "version": "3.7.1"
  }
 },
 "nbformat": 4,
 "nbformat_minor": 2
}
