{
 "cells": [
  {
   "cell_type": "code",
   "execution_count": 1,
   "metadata": {},
   "outputs": [],
   "source": [
    "%matplotlib inline\n",
    "%load_ext autoreload\n",
    "%autoreload 2\n",
    "import meteva.base as meb\n",
    "import pandas as pd\n",
    "import numpy as np\n",
    "import datetime\n",
    "import copy"
   ]
  },
  {
   "cell_type": "code",
   "execution_count": 2,
   "metadata": {},
   "outputs": [
    {
     "name": "stdout",
     "output_type": "stream",
     "text": [
      "      level                time  dtime     id     lon    lat  data0\n",
      "0         0 2099-01-01 08:00:00      0  50136  122.52  52.97      0\n",
      "1         0 2099-01-01 08:00:00      0  50137  122.37  53.47      0\n",
      "2         0 2099-01-01 08:00:00      0  50246  124.72  52.35      0\n",
      "3         0 2099-01-01 08:00:00      0  50247  123.57  52.03      0\n",
      "4         0 2099-01-01 08:00:00      0  50349  124.40  51.67      0\n",
      "...     ...                 ...    ...    ...     ...    ...    ...\n",
      "2406      0 2099-01-01 08:00:00      0  59945  109.70  18.65      0\n",
      "2407      0 2099-01-01 08:00:00      0  59948  109.58  18.22      0\n",
      "2408      0 2099-01-01 08:00:00      0  59951  110.33  18.80      0\n",
      "2409      0 2099-01-01 08:00:00      0  59954  110.03  18.55      0\n",
      "2410      0 2099-01-01 08:00:00      0  59981  112.33  16.83      0\n",
      "\n",
      "[2411 rows x 7 columns]\n"
     ]
    }
   ],
   "source": [
    "#meb.station_国家站是程序库中内置的micaps3类文件的路径名\n",
    "station = meb.read_station(meb.station_国家站)  #读取micaps3类文件获取站点，print(meb.station_国家站)\n",
    "print(station)"
   ]
  },
  {
   "cell_type": "code",
   "execution_count": 10,
   "metadata": {},
   "outputs": [
    {
     "name": "stdout",
     "output_type": "stream",
     "text": [
      "     level                time  dtime     id     lon    lat  data0\n",
      "0        0 2020-01-03 20:00:00      0  57671  112.37  28.85    1.3\n",
      "1        0 2020-01-03 20:00:00      0  57845  109.78  26.17    5.4\n",
      "2        0 2020-01-03 20:00:00      0  57466  111.75  30.46    0.1\n",
      "3        0 2020-01-03 20:00:00      0  57842  109.72  26.88    0.8\n",
      "4        0 2020-01-03 20:00:00      0  57584  113.09  29.38    1.3\n",
      "..     ...                 ...    ...    ...     ...    ...    ...\n",
      "561      0 2020-01-03 20:00:00      0  57589  113.88  29.27    2.2\n",
      "562      0 2020-01-03 20:00:00      0  57583  113.97  29.92    4.2\n",
      "563      0 2020-01-03 20:00:00      0  55690   91.95  27.98    2.3\n",
      "564      0 2020-01-03 20:00:00      0  55597   91.68  29.03    0.0\n",
      "565      0 2020-01-03 20:00:00      0  56434   97.47  28.67    0.2\n",
      "\n",
      "[566 rows x 7 columns]\n"
     ]
    }
   ],
   "source": [
    "filename = r\"H:\\test_data\\input\\meb\\m3.txt\"\n",
    "sta = meb.read_stadata_from_micaps3(filename)  #在其他参数缺省的情况下，站点列表、时间和层次信息均根据文件内容设置,时效设置为0\n",
    "print(sta)"
   ]
  },
  {
   "cell_type": "markdown",
   "metadata": {},
   "source": [
    "### 将站点数据的内容统一至指定的站点表上  \n",
    "**put_stadata_on_station(sta,station)**   \n",
    "在检验中经常需要采用统一的站点表，而实时读入的站点数据在站点的数量和排列顺序上可能每次有有所不同。本函数的功能就是将站点数据规范成具有相同站点列表和排列顺序的数据。\n",
    "\n",
    "\n",
    "**参数说明：**  \n",
    " **sta**: 站点数据  \n",
    " **station**: 站点数据,其中id，lon,lat列被采用         \n",
    " **return**:站点数据，id,lon,lat和station中一致，且排列顺序一致。level,time,dtime则采用sta中相同id对应的值，数据列中如果某个id在sta中有对应行，则采用sta的数值，否则采用station中的数值。       \n",
    "\n",
    "**调用示例**"
   ]
  },
  {
   "cell_type": "code",
   "execution_count": 4,
   "metadata": {},
   "outputs": [
    {
     "name": "stdout",
     "output_type": "stream",
     "text": [
      "      level                time  dtime     id     lon    lat  data0\n",
      "0         0 2020-01-03 20:00:00      0  50136  122.52  52.97    0.0\n",
      "1         0 2020-01-03 20:00:00      0  50137  122.37  53.47    0.0\n",
      "2         0 2020-01-03 20:00:00      0  50246  124.72  52.35    0.0\n",
      "3         0 2020-01-03 20:00:00      0  50247  123.57  52.03    0.0\n",
      "4         0 2020-01-03 20:00:00      0  50349  124.40  51.67    0.0\n",
      "...     ...                 ...    ...    ...     ...    ...    ...\n",
      "2406      0 2020-01-03 20:00:00      0  59945  109.70  18.65    0.0\n",
      "2407      0 2020-01-03 20:00:00      0  59948  109.58  18.22    0.0\n",
      "2408      0 2020-01-03 20:00:00      0  59951  110.33  18.80    0.0\n",
      "2409      0 2020-01-03 20:00:00      0  59954  110.03  18.55    0.0\n",
      "2410      0 2020-01-03 20:00:00      0  59981  112.33  16.83    0.0\n",
      "\n",
      "[2411 rows x 7 columns]\n"
     ]
    }
   ],
   "source": [
    "sta1 = meb.comp.put_stadata_on_station(sta,station)\n",
    "print(sta1)"
   ]
  },
  {
   "cell_type": "markdown",
   "metadata": {},
   "source": [
    "###  设置缺省值\n",
    "**reset_value_as_IV(sta,value)**   \n",
    "使用该数据库时默认的缺失值是meteva.base.IV = 999999,如果需要将其其它值（例如9999）记为缺失值，可采用该函数进行转换。转换返回的结果中，缺失值会被替换为meteva.base.IV。原始输入的sta数据不会改变\n",
    "\n",
    "**参数说明：**  \n",
    " **sta**: [站点数据](https://www.showdoc.cc/meteva?page_id=3975600580125986)  \n",
    " **value**: 设置之前的无效值\n",
    " **return**:[站点数据](https://www.showdoc.cc/meteva?page_id=3975600580125986) \n",
    "\n",
    "**调用示例**"
   ]
  },
  {
   "cell_type": "code",
   "execution_count": 12,
   "metadata": {},
   "outputs": [
    {
     "name": "stdout",
     "output_type": "stream",
     "text": [
      "     level                time  dtime     id     lon    lat     data0\n",
      "0        0 2020-01-03 20:00:00      0  57671  112.37  28.85  999999.0\n",
      "1        0 2020-01-03 20:00:00      0  57845  109.78  26.17       5.4\n",
      "2        0 2020-01-03 20:00:00      0  57466  111.75  30.46       0.1\n",
      "3        0 2020-01-03 20:00:00      0  57842  109.72  26.88       0.8\n",
      "4        0 2020-01-03 20:00:00      0  57584  113.09  29.38  999999.0\n",
      "..     ...                 ...    ...    ...     ...    ...       ...\n",
      "561      0 2020-01-03 20:00:00      0  57589  113.88  29.27       2.2\n",
      "562      0 2020-01-03 20:00:00      0  57583  113.97  29.92       4.2\n",
      "563      0 2020-01-03 20:00:00      0  55690   91.95  27.98       2.3\n",
      "564      0 2020-01-03 20:00:00      0  55597   91.68  29.03       0.0\n",
      "565      0 2020-01-03 20:00:00      0  56434   97.47  28.67       0.2\n",
      "\n",
      "[566 rows x 7 columns]\n"
     ]
    }
   ],
   "source": [
    "sta1 = meb.reset_value_as_IV(sta,1.3)\n",
    "print(sta1)"
   ]
  },
  {
   "cell_type": "markdown",
   "metadata": {},
   "source": [
    "### 网格数据平滑  \n",
    "**smooth(grd,times = 1,used_coords = [\"lon\",\"lat\"])**   \n",
    "对网格数据进行平滑\n",
    "\n",
    "\n",
    "**参数说明：**  \n",
    " **grd**: 网格数据  \n",
    " **smooth_times**: 平滑的次数,缺省值为1   \n",
    " **used_coords**: 平滑操作使用的维度，缺省情况下平滑操作只在水平方向实现，平滑的方法为9点平滑    \n",
    " **return**:网格数据，平滑后的网格数据       \n",
    "\n",
    "**调用示例**"
   ]
  },
  {
   "cell_type": "code",
   "execution_count": 5,
   "metadata": {},
   "outputs": [
    {
     "name": "stdout",
     "output_type": "stream",
     "text": [
      "<xarray.DataArray 'data0' (member: 1, level: 1, time: 1, dtime: 1, lat: 5, lon: 5)>\n",
      "array([[[[[[0.5, 0.5, 0.5, 0.5, 0.5],\n",
      "           [1.5, 1.5, 1.5, 1.5, 1.5],\n",
      "           [2.5, 2.5, 2.5, 2.5, 2.5],\n",
      "           [3.5, 3.5, 3.5, 3.5, 3.5],\n",
      "           [4.5, 4.5, 4.5, 4.5, 4.5]]]]]])\n",
      "Coordinates:\n",
      "  * member   (member) <U6 'GRAPES'\n",
      "  * level    (level) int32 0\n",
      "  * time     (time) datetime64[ns] 2019-01-31T08:00:00\n",
      "  * dtime    (dtime) int32 24\n",
      "  * lat      (lat) int32 20 21 22 23 24\n",
      "  * lon      (lon) int32 100 101 102 103 104\n"
     ]
    }
   ],
   "source": [
    "grid0 = meb.grid([100,104,1],[20,24,1],gtime=[\"2019013108\"],dtime_list = [24],level_list = [0],member_list = [\"GRAPES\"])\n",
    "x= np.arange(0.5,5,1)\n",
    "y= np.arange(0.5,5,1)\n",
    "_,yy = np.meshgrid(x,y)\n",
    "grd = meb.grid_data(grid0,yy)   #根据网格信息和numpy数组生成网格数\n",
    "print(grd)"
   ]
  },
  {
   "cell_type": "code",
   "execution_count": 6,
   "metadata": {},
   "outputs": [
    {
     "name": "stdout",
     "output_type": "stream",
     "text": [
      "(5, 5)\n",
      "<xarray.DataArray 'data0' (member: 1, level: 1, time: 1, dtime: 1, lat: 5, lon: 5)>\n",
      "array([[[[[[1.09375 , 1.09375 , 1.09375 , 1.09375 , 1.09375 ],\n",
      "           [1.640625, 1.640625, 1.640625, 1.640625, 1.640625],\n",
      "           [2.5     , 2.5     , 2.5     , 2.5     , 2.5     ],\n",
      "           [3.359375, 3.359375, 3.359375, 3.359375, 3.359375],\n",
      "           [3.90625 , 3.90625 , 3.90625 , 3.90625 , 3.90625 ]]]]]])\n",
      "Coordinates:\n",
      "  * member   (member) <U6 'GRAPES'\n",
      "  * level    (level) int32 0\n",
      "  * time     (time) datetime64[ns] 2019-01-31T08:00:00\n",
      "  * dtime    (dtime) int32 24\n",
      "  * lat      (lat) int32 20 21 22 23 24\n",
      "  * lon      (lon) int32 100 101 102 103 104\n"
     ]
    }
   ],
   "source": [
    "grd_sm = meb.comp.smooth(grd,3)\n",
    "print(grd_sm)"
   ]
  },
  {
   "cell_type": "markdown",
   "metadata": {},
   "source": []
  },
  {
   "cell_type": "code",
   "execution_count": null,
   "metadata": {},
   "outputs": [],
   "source": []
  }
 ],
 "metadata": {
  "kernelspec": {
   "display_name": "Python 3",
   "language": "python",
   "name": "python3"
  },
  "language_info": {
   "codemirror_mode": {
    "name": "ipython",
    "version": 3
   },
   "file_extension": ".py",
   "mimetype": "text/x-python",
   "name": "python",
   "nbconvert_exporter": "python",
   "pygments_lexer": "ipython3",
   "version": "3.7.1"
  }
 },
 "nbformat": 4,
 "nbformat_minor": 2
}
