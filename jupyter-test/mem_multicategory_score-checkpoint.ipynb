{
 "cells": [
  {
   "cell_type": "code",
   "execution_count": 1,
   "metadata": {},
   "outputs": [],
   "source": [
    "%matplotlib inline\n",
    "%load_ext autoreload\n",
    "%autoreload 2\n",
    "import meteva.method as mem\n",
    "import numpy as np"
   ]
  },
  {
   "cell_type": "markdown",
   "metadata": {},
   "source": [
    "***通过随机函数生成测试数据，用于后续检验函数调用示例***"
   ]
  },
  {
   "cell_type": "code",
   "execution_count": 2,
   "metadata": {},
   "outputs": [],
   "source": [
    "ob = np.random.rand(2,20) * 10\n",
    "fo1 = np.random.rand(2,20) * 10\n",
    "fo2 = np.random.rand(5,2,20) * 10\n",
    "ob_int = ob.astype(np.int8)\n",
    "fo_int1 = fo1.astype(np.int8)\n",
    "fo_int2 = fo2.astype(np.int8)\n",
    "grade_list = [3,5]"
   ]
  },
  {
   "cell_type": "code",
   "execution_count": 3,
   "metadata": {
    "scrolled": true
   },
   "outputs": [
    {
     "data": {
      "text/plain": [
       "array([[6, 6, 4, 1, 2, 4, 0, 6, 5, 3, 2, 6, 7, 9, 1, 1, 3, 4, 3, 4],\n",
       "       [2, 0, 9, 9, 9, 4, 5, 7, 3, 9, 3, 7, 1, 3, 0, 5, 8, 6, 5, 0]],\n",
       "      dtype=int8)"
      ]
     },
     "execution_count": 3,
     "metadata": {},
     "output_type": "execute_result"
    }
   ],
   "source": [
    "ob_int"
   ]
  },
  {
   "cell_type": "code",
   "execution_count": 4,
   "metadata": {},
   "outputs": [
    {
     "data": {
      "text/plain": [
       "array([[5, 1, 5, 0, 4, 4, 9, 3, 4, 6, 9, 8, 3, 2, 8, 3, 0, 3, 3, 8],\n",
       "       [9, 3, 5, 4, 4, 5, 5, 0, 7, 2, 0, 8, 0, 5, 0, 4, 0, 6, 0, 3]],\n",
       "      dtype=int8)"
      ]
     },
     "execution_count": 4,
     "metadata": {},
     "output_type": "execute_result"
    }
   ],
   "source": [
    "fo_int1"
   ]
  },
  {
   "cell_type": "code",
   "execution_count": 5,
   "metadata": {},
   "outputs": [
    {
     "data": {
      "text/plain": [
       "array([[[9, 9, 8, 2, 2, 2, 5, 1, 8, 1, 5, 1, 8, 2, 0, 4, 3, 9, 5, 5],\n",
       "        [0, 0, 1, 2, 5, 8, 5, 7, 4, 2, 5, 5, 1, 3, 8, 7, 0, 3, 4, 9]],\n",
       "\n",
       "       [[5, 4, 9, 9, 5, 7, 4, 4, 9, 0, 1, 3, 5, 9, 4, 8, 6, 7, 6, 4],\n",
       "        [8, 7, 2, 7, 3, 8, 2, 3, 1, 7, 7, 3, 9, 0, 5, 9, 5, 3, 4, 3]],\n",
       "\n",
       "       [[0, 9, 9, 2, 5, 2, 6, 0, 8, 7, 2, 0, 6, 0, 3, 2, 5, 5, 7, 5],\n",
       "        [2, 3, 0, 4, 6, 7, 4, 3, 8, 4, 0, 3, 5, 9, 7, 6, 8, 7, 2, 0]],\n",
       "\n",
       "       [[0, 4, 2, 3, 1, 8, 2, 2, 2, 0, 2, 1, 8, 0, 0, 1, 6, 2, 0, 0],\n",
       "        [7, 4, 3, 9, 7, 8, 4, 0, 9, 5, 2, 9, 6, 6, 1, 8, 3, 1, 8, 4]],\n",
       "\n",
       "       [[9, 0, 2, 4, 2, 0, 3, 9, 2, 1, 3, 6, 1, 9, 7, 6, 6, 9, 5, 7],\n",
       "        [9, 5, 6, 0, 4, 0, 3, 1, 0, 2, 0, 2, 9, 9, 2, 9, 8, 3, 3, 8]]],\n",
       "      dtype=int8)"
      ]
     },
     "execution_count": 5,
     "metadata": {},
     "output_type": "execute_result"
    }
   ],
   "source": [
    "fo_int2"
   ]
  },
  {
   "cell_type": "markdown",
   "metadata": {},
   "source": [
    "###  准确率  \n",
    "**accuracy(ob, fo, grade_list=None)**  \n",
    "统计观测和预报分类一致的样本数占比  \n",
    "\n",
    "**参数说明：**  \n",
    " Ob:实况数据，任意维numpy数组   \n",
    " Fo:预测数据, 任意维numpy数组,Fo.shape 比Ob.shape多一维或者保持一致，Fo.shape低维与ob.shape保持一致，最外维度任意  \n",
    " grade_list: 如果该参数为None，观测或预报值出现过的值都作为分类标记，如果该参数不为None，它必须是一个从小到大排列的实数，以其中列出的数值划分出的多个区间作为分类标签。对比预报和观测值不为整数的情况，grade_list 不能设置为None。  \n",
    " return: 一个array，元素是 0-1的实数，0代表无技巧，最优预报为1 ，array.shaop与Fo高出ob的那个维度一致，fo.shape与Ob.shape相同，shape为1    \n",
    "**调用示例：**  "
   ]
  },
  {
   "cell_type": "code",
   "execution_count": 6,
   "metadata": {},
   "outputs": [
    {
     "data": {
      "text/plain": [
       "array(0.125)"
      ]
     },
     "execution_count": 6,
     "metadata": {},
     "output_type": "execute_result"
    }
   ],
   "source": [
    "mem.accuracy(ob_int,fo_int1)"
   ]
  },
  {
   "cell_type": "code",
   "execution_count": 7,
   "metadata": {
    "scrolled": false
   },
   "outputs": [
    {
     "data": {
      "text/plain": [
       "array(0.3)"
      ]
     },
     "execution_count": 7,
     "metadata": {},
     "output_type": "execute_result"
    }
   ],
   "source": [
    "mem.accuracy(ob_int,fo_int1,grade_list)"
   ]
  },
  {
   "cell_type": "code",
   "execution_count": 8,
   "metadata": {},
   "outputs": [
    {
     "data": {
      "text/plain": [
       "array([0.175, 0.05 , 0.1  , 0.075, 0.1  ])"
      ]
     },
     "execution_count": 8,
     "metadata": {},
     "output_type": "execute_result"
    }
   ],
   "source": [
    "mem.accuracy(ob_int,fo_int2)"
   ]
  },
  {
   "cell_type": "code",
   "execution_count": 9,
   "metadata": {},
   "outputs": [
    {
     "data": {
      "text/plain": [
       "array([0.45 , 0.25 , 0.3  , 0.325, 0.225])"
      ]
     },
     "execution_count": 9,
     "metadata": {},
     "output_type": "execute_result"
    }
   ],
   "source": [
    "mem.accuracy(ob_int,fo_int2,grade_list)"
   ]
  },
  {
   "cell_type": "markdown",
   "metadata": {},
   "source": [
    "###  分类预报TS评分   \n",
    "**ts_multi(ob, fo,grade_list=None)**  \n",
    "基于原始数据计算针对每个类别的ts评分： Hit /(Hit + Misses+ False alarms) ，其中对于某个类别，Hit为预报值为该类别，且观测值也为该类别的样本数；Misses是预报值不为该类别，但观测值为该类别的样本数，False alarms为预报值为该类别，但观测值不为该类别的样本数。\n",
    "\n",
    "**参数说明：**  \n",
    " Ob:实况数据，任意维numpy数组   \n",
    " Fo:预测数据, 任意维numpy数组,Fo.shape 比Ob.shape多一维或者保持一致，Fo.shape低维与ob.shape保持一致，最外维度任意   \n",
    " grade_list:如果该参数为None，观测或预报值出现过的值都作为分类标记，如果该参数不为None，它必须是一个从小到大排列的实数，以其中列出的数值划分出的多个区间作为分类标签。对比预报和观测值不为整数的情况，grade_list 不能设置为None。   \n",
    " return: 返回一个多维numpy数组,array.shaop= (Fo高出ob的那个维度，len(grade_list)),每个元素为一个模式下一个类别的ts评分。每个元素值为0到1的实数，完美预报对应值为1。 如果grade_list = None,即代表观测、预报为离散的变量，程序会提取所有出现过的值作为分类标记，返回数组的size也因此和分类标记的数量相同。如果grade_list != None则代表，预报和观测为连续变量，grade_list中必须为由小到大排列的实数，通过grade_list划分的区间来作为分类判据,此时返回数组的size 等于len(grade_list)+1。例如当grade_list = [3,5]，样本将被分为（负无穷,3),[3,5),[5,正无穷）三种类别。  \n",
    " \n",
    " **调用示例：**  "
   ]
  },
  {
   "cell_type": "code",
   "execution_count": 10,
   "metadata": {},
   "outputs": [
    {
     "data": {
      "text/plain": [
       "array([0.09090909, 0.        , 0.        , 0.08333333, 0.1       ,\n",
       "       0.11111111, 0.16666667, 0.        , 0.        , 0.        ])"
      ]
     },
     "execution_count": 10,
     "metadata": {},
     "output_type": "execute_result"
    }
   ],
   "source": [
    "#grade_list = None,采用观测预报中出现过的0,1,2,3,4,5,6,7,8,9分别被作为类别标签，\n",
    "mem.ts_multi(ob_int,fo_int1)  "
   ]
  },
  {
   "cell_type": "code",
   "execution_count": 11,
   "metadata": {},
   "outputs": [
    {
     "data": {
      "text/plain": [
       "array([0.15789474, 0.14285714, 0.21428571])"
      ]
     },
     "execution_count": 11,
     "metadata": {},
     "output_type": "execute_result"
    }
   ],
   "source": [
    "#grade_list = [3,5],将预报和观测分为（负无穷,3),[3,5),[5,正无穷）三种类别。\n",
    "mem.ts_multi(ob_int,fo_int1,grade_list)"
   ]
  },
  {
   "cell_type": "code",
   "execution_count": 12,
   "metadata": {},
   "outputs": [
    {
     "data": {
      "text/plain": [
       "array([[0.14285714, 0.125     , 0.125     , 0.28571429, 0.        ,\n",
       "        0.09090909, 0.        , 0.25      , 0.        , 0.        ],\n",
       "       [0.        , 0.        , 0.        , 0.        , 0.1       ,\n",
       "        0.        , 0.        , 0.        , 0.        , 0.1       ],\n",
       "       [0.1       , 0.        , 0.28571429, 0.        , 0.        ,\n",
       "        0.        , 0.        , 0.        , 0.33333333, 0.        ],\n",
       "       [0.        , 0.125     , 0.11111111, 0.        , 0.        ,\n",
       "        0.        , 0.        , 0.        , 0.        , 0.14285714],\n",
       "       [0.        , 0.        , 0.125     , 0.        , 0.        ,\n",
       "        0.        , 0.125     , 0.        , 0.5       , 0.08333333]])"
      ]
     },
     "execution_count": 12,
     "metadata": {},
     "output_type": "execute_result"
    }
   ],
   "source": [
    "#grade_list = None,采用观测预报中出现过的0,1,2,3,4,5,6,7,8,9分别被作为类别标签，\n",
    "mem.ts_multi(ob_int,fo_int2)  "
   ]
  },
  {
   "cell_type": "code",
   "execution_count": 13,
   "metadata": {},
   "outputs": [
    {
     "data": {
      "text/plain": [
       "array([[0.3       , 0.21428571, 0.32142857],\n",
       "       [0.0625    , 0.04545455, 0.25      ],\n",
       "       [0.26315789, 0.        , 0.22580645],\n",
       "       [0.25      , 0.        , 0.28      ],\n",
       "       [0.08333333, 0.        , 0.24137931]])"
      ]
     },
     "execution_count": 13,
     "metadata": {},
     "output_type": "execute_result"
    }
   ],
   "source": [
    "#grade_list = [3,5],将预报和观测分为（负无穷,3),[3,5),[5,正无穷）三种类别。\n",
    "mem.ts_multi(ob_int,fo_int2,grade_list)"
   ]
  },
  {
   "cell_type": "code",
   "execution_count": 15,
   "metadata": {},
   "outputs": [
    {
     "data": {
      "text/plain": [
       "array([0.56756757, 0.21428571])"
      ]
     },
     "execution_count": 15,
     "metadata": {},
     "output_type": "execute_result"
    }
   ],
   "source": [
    "#分类ts评分算法的底层仍然是二分类预报的Ts评分算法，只是正负样本的判断标准的差异。\n",
    "#在本程序库的二分类预报的ts评分函数中也可以接受grade_list参数，通过下面的例子可以了解其中差异\n",
    "#在ts函数中，grade_list =[3,5]对应计算了两个评分值\n",
    "#第一个评分代表将预报观测值分为（负无穷，3），[3,正无穷）\n",
    "#第二个评分代表将预报观测值分为（负无穷，5），[5，正无穷）\n",
    "#虽然grade_list和上一个例子中是一样的，但返回结果的size却少了1\n",
    "mem.ts(ob_int,fo_int1,grade_list)"
   ]
  },
  {
   "cell_type": "code",
   "execution_count": 17,
   "metadata": {},
   "outputs": [
    {
     "data": {
      "text/plain": [
       "array([0.53888889, 0.26206897])"
      ]
     },
     "execution_count": 17,
     "metadata": {},
     "output_type": "execute_result"
    }
   ],
   "source": [
    "mem.ts(ob_int,fo_int2,grade_list)"
   ]
  },
  {
   "cell_type": "markdown",
   "metadata": {},
   "source": [
    "###  分类预报ETS评分   \n",
    "**ets_multi(ob, fo,grade_list=None)**  \n",
    "基于原始数据计算针对每个类别的ets评分：(Hit-Hit_random) /(Hit + Misses+ False alarms - Hit_random) ，其中对于某个类别，Hit为预报值为该类别，且观测值也为该类别的样本数；Misses是预报值不为该类别，但观测值为该类别的样本数，False alarms为预报值为该类别，但观测值不为该类别的样本数。\n",
    "Hit_randwom 为随机预报的命中数。   \n",
    "  \n",
    "**参数说明：**  \n",
    " Ob:实况数据，任意维numpy数组   \n",
    " Fo:预测数据, 任意维numpy数组,Fo.shape 比Ob.shape多一维或者保持一致，Fo.shape低维与ob.shape保持一致，最外维度任意     \n",
    " grade_list:如果该参数为None，观测或预报值出现过的值都作为分类标记，如果该参数不为None，它必须是一个从小到大排列的实数，以其中列出的数值划分出的多个区间作为分类标签。对比预报和观测值不为整数的情况，grade_list 不能设置为None。   \n",
    " return: 返回一个多维numpy数组,array.shape= (Fo高出ob的那个维度，len(grade_list)+1)，每个元素为一个模式下一个类别的ts评分。每个元素值为0到1的实数，完美预报对应值为1。 如果grade_list = None,即代表观测、预报为离散的变量，程序会提取所有出现过的值作为分类标记，返回数组的size也因此和分类标记的数量相同。如果grade_list != None则代表，预报和观测为连续变量，grade_list中必须为由小到大排列的实数，通过grade_list划分的区间来作为分类判据,此时返回数组的size 等于len(grade_list)+1。例如当grade_list = [3,5]，样本将被分为（负无穷,3),[3,5),[5,正无穷）三种类别。  \n",
    " \n",
    " \n",
    " ###  分类预报BIAS   \n",
    "**bias_multi(ob, fo,grade_list=None)**  \n",
    "基于原始数据计算针对每个类别的bias评分：(Hit + False alarms)/(Hit + Misses)，其中对于某个类别，Hit为预报值为该类别，且观测值也为该类别的样本数；Misses是预报值不为该类别，但观测值为该类别的样本数，False alarms为预报值为该类别，但观测值不为该类别的样本数。\n",
    "  \n",
    "  \n",
    "**参数说明：**  \n",
    " Ob:实况数据，任意维numpy数组   \n",
    " Fo:预测数据, 任意维numpy数组,Fo.shape 比Ob.shape多一维或者保持一致，Fo.shape低维与ob.shape保持一致，最外维度任意    \n",
    " grade_list:如果该参数为None，观测或预报值出现过的值都作为分类标记，如果该参数不为None，它必须是一个从小到大排列的实数，以其中列出的数值划分出的多个区间作为分类标签。对比预报和观测值不为整数的情况，grade_list 不能设置为None。   \n",
    " return: 返回一个多维numpy数组,array.shape= (Fo高出ob的那个维度，len(grade_list+1))，每个元素为一个模式下一个类别的ts评分。每个元素值为0到1的实数，完美预报对应值为1。 如果grade_list = None,即代表观测、预报为离散的变量，程序会提取所有出现过的值作为分类标记，返回数组的size也因此和分类标记的数量相同。如果grade_list != None则代表，预报和观测为连续变量，grade_list中必须为由小到大排列的实数，通过grade_list划分的区间来作为分类判据,此时返回数组的size 等于len(grade_list)+1。例如当grade_list = [3,5]，样本将被分为（负无穷,3),[3,5),[5,正无穷）三种类别。  \n",
    " \n",
    " \n",
    " \n",
    "  \n",
    " ###  分类预报空报率   \n",
    "**far_multi(ob, fo,grade_list=None)**  \n",
    "基于原始数据计算针对每个类别的far评分： False alarms/(Hit + False alarms)，其中对于某个类别，Hit为预报值为该类别，且观测值也为该类别的样本数；Misses是预报值不为该类别，但观测值为该类别的样本数，False alarms为预报值为该类别，但观测值不为该类别的样本数。\n",
    "  \n",
    "  \n",
    "**参数说明：**  \n",
    " Ob:实况数据，任意维numpy数组   \n",
    " Fo:预测数据, 任意维numpy数组,Fo.shape 比Ob.shape多一维或者保持一致，Fo.shape低维与ob.shape保持一致，最外维度任意          \n",
    " grade_list:如果该参数为None，观测或预报值出现过的值都作为分类标记，如果该参数不为None，它必须是一个从小到大排列的实数，以其中列出的数值划分出的多个区间作为分类标签。对比预报和观测值不为整数的情况，grade_list 不能设置为None。   \n",
    " return: 返回一个多维numpy数组,array.shape= (Fo高出ob的那个维度，len(grade_list+1))，每个元素为一个模式下一个类别的ts评分。每个元素值为0到1的实数，完美预报对应值为1。 如果grade_list = None,即代表观测、预报为离散的变量，程序会提取所有出现过的值作为分类标记，返回数组的size也因此和分类标记的数量相同。如果grade_list != None则代表，预报和观测为连续变量，grade_list中必须为由小到大排列的实数，通过grade_list划分的区间来作为分类判据,此时返回数组的size 等于len(grade_list)+1。例如当grade_list = [3,5]，样本将被分为（负无穷,3),[3,5),[5,正无穷）三种类别。  \n",
    " \n",
    "  ###  分类预报漏报率   \n",
    "**mr_multi(ob, fo,grade_list=None)**  \n",
    "基于原始数据计算针对每个类别的mr评分： Misses/(Hit + Misses)，其中对于某个类别，Hit为预报值为该类别，且观测值也为该类别的样本数；Misses是预报值不为该类别，但观测值为该类别的样本数，False alarms为预报值为该类别，但观测值不为该类别的样本数。\n",
    "\n",
    "\n",
    "**参数说明：**  \n",
    " Ob:实况数据，任意维numpy数组   \n",
    " Fo:预测数据, 任意维numpy数组,Fo.shape 比Ob.shape多一维或者保持一致，Fo.shape低维与ob.shape保持一致，最外维度任意    \n",
    " grade_list:如果该参数为None，观测或预报值出现过的值都作为分类标记，如果该参数不为None，它必须是一个从小到大排列的实数，以其中列出的数值划分出的多个区间作为分类标签。对比预报和观测值不为整数的情况，grade_list 不能设置为None。   \n",
    " return: 返回一个多维numpy数组,array.shape= (Fo高出ob的那个维度，len(grade_list+1))，每个元素为一个模式下一个类别的ts评分。每个元素值为0到1的实数，完美预报对应值为1。 如果grade_list = None,即代表观测、预报为离散的变量，程序会提取所有出现过的值作为分类标记，返回数组的size也因此和分类标记的数量相同。如果grade_list != None则代表，预报和观测为连续变量，grade_list中必须为由小到大排列的实数，通过grade_list划分的区间来作为分类判据,此时返回数组的size 等于len(grade_list)+1。例如当grade_list = [3,5]，样本将被分为（负无穷,3),[3,5),[5,正无穷）三种类别。  \n",
    " \n",
    " \n",
    " **调用示例：**  "
   ]
  },
  {
   "cell_type": "code",
   "execution_count": 18,
   "metadata": {},
   "outputs": [
    {
     "data": {
      "text/plain": [
       "array([-0.00156495, -0.03299857, -0.05769231])"
      ]
     },
     "execution_count": 18,
     "metadata": {},
     "output_type": "execute_result"
    }
   ],
   "source": [
    "mem.ets_multi(ob_int,fo_int1,grade_list) #分类预报ETS评分"
   ]
  },
  {
   "cell_type": "code",
   "execution_count": 19,
   "metadata": {},
   "outputs": [
    {
     "data": {
      "text/plain": [
       "array([[ 0.11811024,  0.10931174,  0.02313625],\n",
       "       [-0.04529617, -0.12299465, -0.08597285],\n",
       "       [ 0.0923825 , -0.11975117, -0.09090909],\n",
       "       [ 0.0412783 , -0.11975117,  0.03743316],\n",
       "       [-0.10691824, -0.11975117, -0.05263158]])"
      ]
     },
     "execution_count": 19,
     "metadata": {},
     "output_type": "execute_result"
    }
   ],
   "source": [
    "mem.ets_multi(ob_int,fo_int2,grade_list) #分类预报ETS评分"
   ]
  },
  {
   "cell_type": "code",
   "execution_count": 20,
   "metadata": {},
   "outputs": [
    {
     "data": {
      "text/plain": [
       "array([1.        , 1.18181818, 0.88888889])"
      ]
     },
     "execution_count": 20,
     "metadata": {},
     "output_type": "execute_result"
    }
   ],
   "source": [
    "mem.bias_multi(ob_int,fo_int1,grade_list) #分类预报bias"
   ]
  },
  {
   "cell_type": "code",
   "execution_count": 21,
   "metadata": {},
   "outputs": [
    {
     "data": {
      "text/plain": [
       "array([[1.36363636, 0.54545455, 1.05555556],\n",
       "       [0.54545455, 1.09090909, 1.22222222],\n",
       "       [1.18181818, 0.63636364, 1.11111111],\n",
       "       [1.72727273, 0.63636364, 0.77777778],\n",
       "       [1.36363636, 0.63636364, 1.        ]])"
      ]
     },
     "execution_count": 21,
     "metadata": {},
     "output_type": "execute_result"
    }
   ],
   "source": [
    "mem.bias_multi(ob_int,fo_int2,grade_list) #分类预报bias"
   ]
  },
  {
   "cell_type": "code",
   "execution_count": 22,
   "metadata": {},
   "outputs": [
    {
     "data": {
      "text/plain": [
       "array([0.72727273, 0.76923077, 0.625     ])"
      ]
     },
     "execution_count": 22,
     "metadata": {},
     "output_type": "execute_result"
    }
   ],
   "source": [
    "mem.far_multi(ob_int,fo_int1,grade_list) #分类预报空报率"
   ]
  },
  {
   "cell_type": "code",
   "execution_count": 23,
   "metadata": {},
   "outputs": [
    {
     "data": {
      "text/plain": [
       "array([[0.6       , 0.5       , 0.52631579],\n",
       "       [0.83333333, 0.91666667, 0.63636364],\n",
       "       [0.61538462, 1.        , 0.65      ],\n",
       "       [0.68421053, 1.        , 0.5       ],\n",
       "       [0.86666667, 1.        , 0.61111111]])"
      ]
     },
     "execution_count": 23,
     "metadata": {},
     "output_type": "execute_result"
    }
   ],
   "source": [
    "mem.far_multi(ob_int,fo_int2,grade_list) #分类预报空报率"
   ]
  },
  {
   "cell_type": "code",
   "execution_count": 24,
   "metadata": {},
   "outputs": [
    {
     "data": {
      "text/plain": [
       "array([0.72727273, 0.72727273, 0.66666667])"
      ]
     },
     "execution_count": 24,
     "metadata": {},
     "output_type": "execute_result"
    }
   ],
   "source": [
    "mem.mr_multi(ob_int,fo_int1,grade_list)  #分类预报漏报率"
   ]
  },
  {
   "cell_type": "code",
   "execution_count": 25,
   "metadata": {},
   "outputs": [
    {
     "data": {
      "text/plain": [
       "array([[0.45454545, 0.72727273, 0.5       ],\n",
       "       [0.90909091, 0.90909091, 0.55555556],\n",
       "       [0.54545455, 1.        , 0.61111111],\n",
       "       [0.45454545, 1.        , 0.61111111],\n",
       "       [0.81818182, 1.        , 0.61111111]])"
      ]
     },
     "execution_count": 25,
     "metadata": {},
     "output_type": "execute_result"
    }
   ],
   "source": [
    "mem.mr_multi(ob_int,fo_int2,grade_list)  #分类预报漏报率"
   ]
  },
  {
   "cell_type": "markdown",
   "metadata": {},
   "source": [
    "###  hss评分   \n",
    "**hss(ob,fo,grade_list = None)**  \n",
    "Heidke skill score，统计准确率相对于随机预报的技巧\n",
    "\n",
    "**参数说明：**  \n",
    " Ob:实况数据，任意维numpy数组   \n",
    " Fo:预测数据，任意维numpy数组,Fo.shape 和Ob.shape一致  \n",
    " grade_list: 如果该参数为None，观测或预报值出现过的值都作为分类标记，如果该参数不为None，它必须是一个从小到大排列的实数，以其中列出的数值划分出的多个区间作为分类标签。对比预报和观测值不为整数的情况，grade_list 不能设置为None。  \n",
    " return: 一个array，元素是负无穷到1的实数，0代表无技巧，最优预报为1  ，array.shaop与Fo高出ob的那个维度一致，fo.shape与Ob.shape相同，shape为1      \n",
    "**调用示例：**  "
   ]
  },
  {
   "cell_type": "code",
   "execution_count": 26,
   "metadata": {},
   "outputs": [
    {
     "data": {
      "text/plain": [
       "array(0.02097902)"
      ]
     },
     "execution_count": 26,
     "metadata": {},
     "output_type": "execute_result"
    }
   ],
   "source": [
    "mem.hss(ob_int,fo_int1)"
   ]
  },
  {
   "cell_type": "code",
   "execution_count": 27,
   "metadata": {},
   "outputs": [
    {
     "data": {
      "text/plain": [
       "array([ 0.08965517, -0.06219427,  0.00138696, -0.02209945, -0.00699301])"
      ]
     },
     "execution_count": 27,
     "metadata": {},
     "output_type": "execute_result"
    }
   ],
   "source": [
    "mem.hss(ob_int,fo_int2)"
   ]
  },
  {
   "cell_type": "code",
   "execution_count": 28,
   "metadata": {},
   "outputs": [
    {
     "data": {
      "text/plain": [
       "array(-0.06870229)"
      ]
     },
     "execution_count": 28,
     "metadata": {},
     "output_type": "execute_result"
    }
   ],
   "source": [
    "mem.hss(ob_int,fo_int1,grade_list)"
   ]
  },
  {
   "cell_type": "code",
   "execution_count": 29,
   "metadata": {},
   "outputs": [
    {
     "data": {
      "text/plain": [
       "array([ 0.14313535, -0.19284294, -0.09803922, -0.01694915, -0.19922631])"
      ]
     },
     "execution_count": 29,
     "metadata": {},
     "output_type": "execute_result"
    }
   ],
   "source": [
    "mem.hss(ob_int,fo_int2,grade_list)"
   ]
  },
  {
   "cell_type": "markdown",
   "metadata": {},
   "source": [
    "###  hk评分   \n",
    "**hk(ob,fo,grade_list = None)**  \n",
    "Hanssen and Kuipers discriminant，统计准确率相对于随机预报的技巧\n",
    "\n",
    "**参数说明：**  \n",
    " Ob:实况数据，任意维numpy数组   \n",
    " Fo:预测数据，任意维numpy数组,Fo.shape 和Ob.shape一致  \n",
    " grade_list: 如果该参数为None，观测或预报值出现过的值都作为分类标记，如果该参数不为None，它必须是一个从小到大排列的实数，以其中列出的数值划分出的多个区间作为分类标签。对比预报和观测值不为整数的情况，grade_list 不能设置为None。  \n",
    " return: 一个array，元素是负无穷到1的实数，0代表无技巧，最优预报为1 ，array.shaop与Fo高出ob的那个维度一致，fo.shape与Ob.shape相同，shape为1   \n",
    "调用示例： \n",
    "**调用示例：**  "
   ]
  },
  {
   "cell_type": "code",
   "execution_count": 30,
   "metadata": {},
   "outputs": [
    {
     "data": {
      "text/plain": [
       "array(0.02109705)"
      ]
     },
     "execution_count": 30,
     "metadata": {},
     "output_type": "execute_result"
    }
   ],
   "source": [
    "mem.hk(ob_int,fo_int1)"
   ]
  },
  {
   "cell_type": "code",
   "execution_count": 31,
   "metadata": {},
   "outputs": [
    {
     "data": {
      "text/plain": [
       "array([ 0.09142053, -0.0625879 ,  0.00140647, -0.02250352, -0.00703235])"
      ]
     },
     "execution_count": 31,
     "metadata": {},
     "output_type": "execute_result"
    }
   ],
   "source": [
    "mem.hk(ob_int,fo_int2)"
   ]
  },
  {
   "cell_type": "code",
   "execution_count": 32,
   "metadata": {
    "scrolled": true
   },
   "outputs": [
    {
     "data": {
      "text/plain": [
       "array(-0.0696325)"
      ]
     },
     "execution_count": 32,
     "metadata": {},
     "output_type": "execute_result"
    }
   ],
   "source": [
    "mem.hk(ob_int,fo_int1,grade_list)"
   ]
  },
  {
   "cell_type": "code",
   "execution_count": 33,
   "metadata": {
    "scrolled": true
   },
   "outputs": [
    {
     "data": {
      "text/plain": [
       "array([ 0.14216634, -0.18762089, -0.0967118 , -0.01740812, -0.19922631])"
      ]
     },
     "execution_count": 33,
     "metadata": {},
     "output_type": "execute_result"
    }
   ],
   "source": [
    "mem.hk(ob_int,fo_int2,grade_list)"
   ]
  },
  {
   "cell_type": "code",
   "execution_count": 34,
   "metadata": {
    "scrolled": true
   },
   "outputs": [
    {
     "data": {
      "text/plain": [
       "array(0.06587473)"
      ]
     },
     "execution_count": 34,
     "metadata": {},
     "output_type": "execute_result"
    }
   ],
   "source": [
    "mem.hk(ob_int,fo_int1,grade_list = [1.5,3.5])"
   ]
  },
  {
   "cell_type": "code",
   "execution_count": 35,
   "metadata": {
    "scrolled": true
   },
   "outputs": [
    {
     "data": {
      "text/plain": [
       "array([ 0.15226782, -0.11663067,  0.00539957,  0.04319654, -0.16306695])"
      ]
     },
     "execution_count": 35,
     "metadata": {},
     "output_type": "execute_result"
    }
   ],
   "source": [
    "mem.hk(ob_int,fo_int2,grade_list = [1.5,3.5])"
   ]
  },
  {
   "cell_type": "code",
   "execution_count": 36,
   "metadata": {},
   "outputs": [
    {
     "data": {
      "text/plain": [
       "array([0.1875    , 0.13810742])"
      ]
     },
     "execution_count": 36,
     "metadata": {},
     "output_type": "execute_result"
    }
   ],
   "source": [
    "mem.hk_yesorno(ob_int,fo_int1,grade_list = [1.5,3.5])"
   ]
  },
  {
   "cell_type": "code",
   "execution_count": 37,
   "metadata": {},
   "outputs": [
    {
     "data": {
      "text/plain": [
       "array([-0.0375    ,  0.02404092])"
      ]
     },
     "execution_count": 37,
     "metadata": {},
     "output_type": "execute_result"
    }
   ],
   "source": [
    "mem.hk_yesorno(ob_int,fo_int2,grade_list = [1.5,3.5])"
   ]
  },
  {
   "cell_type": "code",
   "execution_count": 38,
   "metadata": {
    "scrolled": true
   },
   "outputs": [
    {
     "data": {
      "text/plain": [
       "array(0.17910448)"
      ]
     },
     "execution_count": 38,
     "metadata": {},
     "output_type": "execute_result"
    }
   ],
   "source": [
    "mem.hss(ob_int,fo_int1,grade_list = [1.5])"
   ]
  },
  {
   "cell_type": "code",
   "execution_count": 39,
   "metadata": {
    "scrolled": true
   },
   "outputs": [
    {
     "data": {
      "text/plain": [
       "array([ 0.17910448, -0.15384615, -0.06557377,  0.07894737, -0.26865672])"
      ]
     },
     "execution_count": 39,
     "metadata": {},
     "output_type": "execute_result"
    }
   ],
   "source": [
    "mem.hss(ob_int,fo_int2,grade_list = [1.5])"
   ]
  },
  {
   "cell_type": "code",
   "execution_count": 40,
   "metadata": {},
   "outputs": [
    {
     "data": {
      "text/plain": [
       "array([0.17910448])"
      ]
     },
     "execution_count": 40,
     "metadata": {},
     "output_type": "execute_result"
    }
   ],
   "source": [
    "mem.hss_yesorno(ob_int,fo_int1,grade_list = [1.5])"
   ]
  },
  {
   "cell_type": "code",
   "execution_count": 41,
   "metadata": {},
   "outputs": [
    {
     "data": {
      "text/plain": [
       "array([-0.0371517])"
      ]
     },
     "execution_count": 41,
     "metadata": {},
     "output_type": "execute_result"
    }
   ],
   "source": [
    "mem.hss_yesorno(ob_int,fo_int2,grade_list = [1.5])"
   ]
  },
  {
   "cell_type": "markdown",
   "metadata": {},
   "source": [
    "在以上示例中，观测和预报的数据都直接输入到评分函数中进行计算，然而有些情况下待检验的数据太大不能整体存入一个numpy数组中，或者不方便整体存入一个numpy数组中，此时就不能调用上面的方式调用评分函数。为此本程序库设计了一套可分块计算的检验程序。  \n",
    "其检验步骤如下：  \n",
    "***步骤1：根据需要将分块数据逐一输入到中间结果计算函数***  \n",
    "***步骤2：将中间结果进行累加或合并***  \n",
    "***步骤3：根据累加或合并的中间结果计算检验指标***  \n",
    "通常上述计算中步骤1是最耗费计算资源，为了提高效率步骤1也可以采用**并行**的方式执行。此外，步骤1执行的结果也可**输出到文件**中，在后续的检验可以从中读入部分中间结果执行后续步骤，从而可以实现各种方式的分组检验，大大提高检验计算效率。"
   ]
  },
  {
   "cell_type": "markdown",
   "metadata": {},
   "source": [
    "### 总样本数、正确样本数     \n",
    "**tc(ob, fo, grade_list=None)**  \n",
    "用来计算accuracy等检验指标的中间量  \n",
    "\n",
    "**参数说明：**  \n",
    " Ob:实况数据，任意维numpy数组   \n",
    " Fo:预测数据，任意维numpy数组,Fo.shape 和Ob.shape一致  \n",
    " grade_list: 如果该参数为None，观测或预报值出现过的值都作为分类标记，如果该参数不为None，它必须是一个从小到大排列的实数，以其中列出的数值划分出的多个区间作为分类标签。对比预报和观测值不为整数的情况，grade_list 不能设置为None。  \n",
    " return: 一个numpy数组，array.shaop=(Fo高出ob的那个维度，N,2)，N等于观测预报中里的类别数， 当grade_list !=None时，N = len(grade_list) +1,其内容依次为总样本数、正确分类的样本数，\n",
    "    \n",
    "   \n",
    "   \n",
    "  \n",
    "  \n",
    "### 总样本数、正确样本数、 预报观测频率表    \n",
    "**tcof(ob,fo,grade_list = None)**  \n",
    "用来计算accuracy等检验指标的中间量  \n",
    "\n",
    "**参数说明：**  \n",
    " **Ob**:实况数据，任意维numpy数组   \n",
    " **Fo**:预测数据，任意维numpy数组,Fo.shape 和Ob.shape一致  \n",
    " **grade_list**: 一个从小到大排列的实数列表，以其中列出的数值划分出的多个区间作为分类标签，该参数不能设置为None。   \n",
    " **return**: shape为(Fo高出ob的那个维度,N,2)的三维numpy数组,当grade_list = None时，N等于观测预报中里的类别数， 当grade_list !=None时，N = len(grade_list) +1 ，记为返回值为re，其中re[:,0,0] 为总样本数，re[:,0,1]为正确样本数据、re[:,1:,0]为观测频率表，re[:,1:,1]为预报频率表。  \n",
    "   \n",
    "   \n",
    "\n",
    "### 命中、空报、漏报、正确否定     \n",
    "**hfmc_multi(ob, fo, grade_list=None)**  \n",
    "用来计算常用二分类预报检验指标的中间统计量    \n",
    "\n",
    "**参数说明：**  \n",
    " Ob:实况数据，任意维numpy数组   \n",
    " Fo:预测数据，任意维numpy数组,Fo.shape 和Ob.shape一致  \n",
    " grade_list:  如果该参数为None，观测或预报值出现过的值都作为分类标记，如果该参数不为None，它必须是一个从小到大排列的实数，以其中列出的数值划分出的多个区间作为分类标签。对比预报和观测值不为整数的情况，grade_list 不能设置为None。   \n",
    " return: 长度为N*4二numpy数组，当grade_list = None时，N等于观测预报中里的类别数， 当grade_list !=None时，N = len(grade_list) +1 , 每一列的内容依次为命中、空报、漏报、正确否定的样本数  \n",
    "  \n",
    "\n",
    " **调用示例：**  "
   ]
  },
  {
   "cell_type": "code",
   "execution_count": 57,
   "metadata": {},
   "outputs": [],
   "source": [
    "tc_array2 = np.zeros((5,2))\n",
    "tcof_array2 = np.zeros((5,len(grade_list)+2,2))\n",
    "hfmc_array2 = np.zeros((5,len(grade_list)+1,4))\n",
    "for i in range(2):\n",
    "    ob1 = ob_int[i,:]\n",
    "    fo1 = fo_int2[:,i,:]\n",
    "    tc_array2 += mem.tc(ob1,fo1,grade_list)\n",
    "    tcof_array2 += mem.tcof(ob1,fo1,grade_list)\n",
    "    hfmc_array2 += mem.hfmc_multi(ob1,fo1,grade_list)\n",
    "    "
   ]
  },
  {
   "cell_type": "code",
   "execution_count": 58,
   "metadata": {},
   "outputs": [],
   "source": [
    "tc_array1 = np.zeros((2))\n",
    "tcof_array1 = np.zeros((len(grade_list)+2,2))\n",
    "hfmc_array1 = np.zeros((len(grade_list)+1,4))\n",
    "for i in range(2):\n",
    "    ob1 = ob_int[i,:]\n",
    "    fo1 = fo_int1[i,:]\n",
    "    tc_array1 += mem.tc(ob1,fo1,grade_list)\n",
    "    tcof_array1 += mem.tcof(ob1,fo1,grade_list)\n",
    "    hfmc_array1 += mem.hfmc_multi(ob1,fo1,grade_list)\n",
    "    "
   ]
  },
  {
   "cell_type": "markdown",
   "metadata": {},
   "source": [
    " **以下为根据合并后的中间统计量计算最终检验指标的函数：**\n",
    "###  准确率  \n",
    "**accuracy_tc(tc_array)**  \n",
    "统计观测和预报分类一致的样本数占比  \n",
    "\n",
    "**参数说明：**  \n",
    " tc_array:包含总样本数和正确样本数的多维数组，其中最后一维长度为2，分别记录了总样本数、正确样本数     \n",
    " return:  numpy数组，其中每个元素为0-1的实数，0代表无技巧，最优预报为1  shape()\n",
    "**调用示例：**  "
   ]
  },
  {
   "cell_type": "code",
   "execution_count": 75,
   "metadata": {},
   "outputs": [
    {
     "data": {
      "text/plain": [
       "0.3"
      ]
     },
     "execution_count": 75,
     "metadata": {},
     "output_type": "execute_result"
    }
   ],
   "source": [
    "mem.accuracy_tc(tc_array1)"
   ]
  },
  {
   "cell_type": "code",
   "execution_count": 76,
   "metadata": {},
   "outputs": [
    {
     "data": {
      "text/plain": [
       "array([0.45 , 0.25 , 0.3  , 0.325, 0.225])"
      ]
     },
     "execution_count": 76,
     "metadata": {},
     "output_type": "execute_result"
    }
   ],
   "source": [
    "mem.accuracy_tc(tc_array2)"
   ]
  },
  {
   "cell_type": "markdown",
   "metadata": {},
   "source": [
    "### 准确率   \n",
    "**accuracy_tcof(tcof_array)**  \n",
    "统计观测和预报分类一致的样本数占比\n",
    "\n",
    "**参数说明：**   \n",
    " tcof_array:包含总样本数和正确样本数的多维数组，其中最后一维长度为2，其中tcof_array[...,0,0]记录了总样本数矩阵，其中tcof_array[...,0,1]记录了正确本数矩阵，tcof_array[...,1:,0]记录了观测频率表，tcof_array[...,1:,1]记录了预报频率表   \n",
    " return: numpy数组，其中每个元素为0-1的实数，0代表无技巧，最优预报为1  \n",
    "**调用示例：**  "
   ]
  },
  {
   "cell_type": "code",
   "execution_count": 59,
   "metadata": {},
   "outputs": [
    {
     "data": {
      "text/plain": [
       "0.125"
      ]
     },
     "execution_count": 59,
     "metadata": {},
     "output_type": "execute_result"
    }
   ],
   "source": [
    "mem.accuracy_tcof(tcof_array1)"
   ]
  },
  {
   "cell_type": "code",
   "execution_count": 60,
   "metadata": {},
   "outputs": [
    {
     "data": {
      "text/plain": [
       "array([0.175, 0.05 , 0.1  , 0.075, 0.1  ])"
      ]
     },
     "execution_count": 60,
     "metadata": {},
     "output_type": "execute_result"
    }
   ],
   "source": [
    "mem.accuracy_tcof(tcof_array2)"
   ]
  },
  {
   "cell_type": "markdown",
   "metadata": {},
   "source": [
    "### hss评分   \n",
    "**hss_tcof(tcof_array)**  \n",
    "Heidke skill score，统计准确率相对于随机预报的技巧\n",
    "\n",
    "**参数说明：**   \n",
    " tcof_array:包含总样本数和正确样本数的多维数组，其中最后一维长度为2，其中tcof_array[...,0,0]记录了总样本数矩阵，其中tcof_array[...,0,1]记录了正确本数矩阵，tcof_array[...,1:,0]记录了观测频率表，tcof_array[...,1:,1]记录了预报频率表   \n",
    " return: numpy数组，其中每个元素为负无穷到1的实数，0代表无技巧，最优预报为1  \n",
    "**调用示例：**  "
   ]
  },
  {
   "cell_type": "code",
   "execution_count": 61,
   "metadata": {
    "scrolled": true
   },
   "outputs": [
    {
     "data": {
      "text/plain": [
       "-0.3358778625954198"
      ]
     },
     "execution_count": 61,
     "metadata": {},
     "output_type": "execute_result"
    }
   ],
   "source": [
    "mem.hss_tcof(tcof_array1)"
   ]
  },
  {
   "cell_type": "code",
   "execution_count": 62,
   "metadata": {
    "scrolled": true
   },
   "outputs": [
    {
     "data": {
      "text/plain": [
       "array([-0.28529698, -0.51093439, -0.41176471, -0.39359699, -0.3926499 ])"
      ]
     },
     "execution_count": 62,
     "metadata": {},
     "output_type": "execute_result"
    }
   ],
   "source": [
    "mem.hss_tcof(tcof_array2)"
   ]
  },
  {
   "cell_type": "markdown",
   "metadata": {},
   "source": [
    "### hk评分   \n",
    "**hk_tcof(tcof_array)**  \n",
    "Hanssen and Kuipers discriminant，统计准确率相对于随机预报的技巧\n",
    "\n",
    "**参数说明：**   \n",
    " tcof_array:包含总样本数和正确样本数的多维数组，其中最后一维长度为2，其中tcof_array[...,0,0]记录了总样本数矩阵，其中tcof_array[...,0,1]记录了正确本数矩阵，tcof_array[...,1:,0]记录了观测频率表，tcof_array[...,1:,1]记录了预报频率表   \n",
    " return: numpy数组，其中每个元素为负无穷到1的实数，0代表无技巧，最优预报为1   \n",
    "**调用示例：**  "
   ]
  },
  {
   "cell_type": "code",
   "execution_count": 63,
   "metadata": {},
   "outputs": [
    {
     "data": {
      "text/plain": [
       "-0.34042553191489355"
      ]
     },
     "execution_count": 63,
     "metadata": {},
     "output_type": "execute_result"
    }
   ],
   "source": [
    "mem.hk_tcof(tcof_array1)"
   ]
  },
  {
   "cell_type": "code",
   "execution_count": 64,
   "metadata": {},
   "outputs": [
    {
     "data": {
      "text/plain": [
       "array([-0.28336557, -0.49709865, -0.40618956, -0.40425532, -0.3926499 ])"
      ]
     },
     "execution_count": 64,
     "metadata": {},
     "output_type": "execute_result"
    }
   ],
   "source": [
    "mem.hk_tcof(tcof_array2)"
   ]
  },
  {
   "cell_type": "markdown",
   "metadata": {},
   "source": [
    "基于hfmc计算分类预报的ts、ets、bias、far、mr等评分时，其函数调用方法和二分类模块中的方法是一样的。"
   ]
  },
  {
   "cell_type": "code",
   "execution_count": 65,
   "metadata": {},
   "outputs": [
    {
     "data": {
      "text/plain": [
       "array([0.15789474, 0.14285714, 0.21428571])"
      ]
     },
     "execution_count": 65,
     "metadata": {},
     "output_type": "execute_result"
    }
   ],
   "source": [
    "mem.ts_hfmc(hfmc_array1)"
   ]
  },
  {
   "cell_type": "code",
   "execution_count": 66,
   "metadata": {},
   "outputs": [
    {
     "data": {
      "text/plain": [
       "array([[0.3       , 0.21428571, 0.32142857],\n",
       "       [0.0625    , 0.04545455, 0.25      ],\n",
       "       [0.26315789, 0.        , 0.22580645],\n",
       "       [0.25      , 0.        , 0.28      ],\n",
       "       [0.08333333, 0.        , 0.24137931]])"
      ]
     },
     "execution_count": 66,
     "metadata": {},
     "output_type": "execute_result"
    }
   ],
   "source": [
    "mem.ts_hfmc(hfmc_array2)"
   ]
  },
  {
   "cell_type": "code",
   "execution_count": 67,
   "metadata": {},
   "outputs": [
    {
     "data": {
      "text/plain": [
       "array([-0.00156495, -0.03299857, -0.05769231])"
      ]
     },
     "execution_count": 67,
     "metadata": {},
     "output_type": "execute_result"
    }
   ],
   "source": [
    "mem.ets_hfmc(hfmc_array1)"
   ]
  },
  {
   "cell_type": "code",
   "execution_count": 68,
   "metadata": {},
   "outputs": [
    {
     "data": {
      "text/plain": [
       "array([[ 0.11811024,  0.10931174,  0.02313625],\n",
       "       [-0.04529617, -0.12299465, -0.08597285],\n",
       "       [ 0.0923825 , -0.11975117, -0.09090909],\n",
       "       [ 0.0412783 , -0.11975117,  0.03743316],\n",
       "       [-0.10691824, -0.11975117, -0.05263158]])"
      ]
     },
     "execution_count": 68,
     "metadata": {},
     "output_type": "execute_result"
    }
   ],
   "source": [
    "mem.ets_hfmc(hfmc_array2)"
   ]
  },
  {
   "cell_type": "code",
   "execution_count": 69,
   "metadata": {},
   "outputs": [
    {
     "data": {
      "text/plain": [
       "array([1.        , 1.18181818, 0.88888889])"
      ]
     },
     "execution_count": 69,
     "metadata": {},
     "output_type": "execute_result"
    }
   ],
   "source": [
    "mem.bias_hfmc(hfmc_array1)"
   ]
  },
  {
   "cell_type": "code",
   "execution_count": 70,
   "metadata": {},
   "outputs": [
    {
     "data": {
      "text/plain": [
       "array([[1.36363636, 0.54545455, 1.05555556],\n",
       "       [0.54545455, 1.09090909, 1.22222222],\n",
       "       [1.18181818, 0.63636364, 1.11111111],\n",
       "       [1.72727273, 0.63636364, 0.77777778],\n",
       "       [1.36363636, 0.63636364, 1.        ]])"
      ]
     },
     "execution_count": 70,
     "metadata": {},
     "output_type": "execute_result"
    }
   ],
   "source": [
    "mem.bias_hfmc(hfmc_array2)"
   ]
  },
  {
   "cell_type": "code",
   "execution_count": 71,
   "metadata": {},
   "outputs": [
    {
     "data": {
      "text/plain": [
       "array([0.72727273, 0.76923077, 0.625     ])"
      ]
     },
     "execution_count": 71,
     "metadata": {},
     "output_type": "execute_result"
    }
   ],
   "source": [
    "mem.far_hfmc(hfmc_array1)"
   ]
  },
  {
   "cell_type": "code",
   "execution_count": 72,
   "metadata": {},
   "outputs": [
    {
     "data": {
      "text/plain": [
       "array([[0.6       , 0.5       , 0.52631579],\n",
       "       [0.83333333, 0.91666667, 0.63636364],\n",
       "       [0.61538462, 1.        , 0.65      ],\n",
       "       [0.68421053, 1.        , 0.5       ],\n",
       "       [0.86666667, 1.        , 0.61111111]])"
      ]
     },
     "execution_count": 72,
     "metadata": {},
     "output_type": "execute_result"
    }
   ],
   "source": [
    "mem.far_hfmc(hfmc_array2)"
   ]
  },
  {
   "cell_type": "code",
   "execution_count": 73,
   "metadata": {},
   "outputs": [
    {
     "data": {
      "text/plain": [
       "array([0.72727273, 0.72727273, 0.66666667])"
      ]
     },
     "execution_count": 73,
     "metadata": {},
     "output_type": "execute_result"
    }
   ],
   "source": [
    "mem.mr_hfmc(hfmc_array)"
   ]
  },
  {
   "cell_type": "code",
   "execution_count": 74,
   "metadata": {},
   "outputs": [
    {
     "data": {
      "text/plain": [
       "array([[0.45454545, 0.72727273, 0.5       ],\n",
       "       [0.90909091, 0.90909091, 0.55555556],\n",
       "       [0.54545455, 1.        , 0.61111111],\n",
       "       [0.45454545, 1.        , 0.61111111],\n",
       "       [0.81818182, 1.        , 0.61111111]])"
      ]
     },
     "execution_count": 74,
     "metadata": {},
     "output_type": "execute_result"
    }
   ],
   "source": [
    "mem.mr_hfmc(hfmc_array)"
   ]
  },
  {
   "cell_type": "markdown",
   "metadata": {},
   "source": [
    "在预报检验经常需要进行分组检验，获得不同类别预报的评分指标并进行对比。此时可以应用上述基于中间结果的检验函数对多维中间统计量的整体计算能力来简化代码的复杂度。  \n"
   ]
  }
 ],
 "metadata": {
  "kernelspec": {
   "display_name": "Python 3",
   "language": "python",
   "name": "python3"
  },
  "language_info": {
   "codemirror_mode": {
    "name": "ipython",
    "version": 3
   },
   "file_extension": ".py",
   "mimetype": "text/x-python",
   "name": "python",
   "nbconvert_exporter": "python",
   "pygments_lexer": "ipython3",
   "version": "3.7.1"
  }
 },
 "nbformat": 4,
 "nbformat_minor": 2
}
